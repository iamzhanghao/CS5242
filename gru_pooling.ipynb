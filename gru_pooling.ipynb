{
 "cells": [
  {
   "cell_type": "markdown",
   "metadata": {},
   "source": [
    "# CS5242"
   ]
  },
  {
   "cell_type": "markdown",
   "metadata": {},
   "source": [
    "## Load Data"
   ]
  },
  {
   "cell_type": "code",
   "execution_count": 1,
   "metadata": {},
   "outputs": [
    {
     "name": "stderr",
     "output_type": "stream",
     "text": [
      "Loading train data 18662/18662: 100%|█████████████████████████████████████████████████████████████ [ time left: 00:00 ]\n",
      "Loading test data 6051/6051: 100%|████████████████████████████████████████████████████████████████ [ time left: 00:00 ]\n"
     ]
    },
    {
     "name": "stdout",
     "output_type": "stream",
     "text": [
      "Train data: x:(18662, 1000, 102) y:(18662, 1)\n",
      "Test data: x:(6051, 1000, 102) y:(6051, 1)\n"
     ]
    }
   ],
   "source": [
    "from data import Data\n",
    "\n",
    "train_data = Data(data_type='train')\n",
    "test_data = Data(data_type='test')\n",
    "\n",
    "print(\"Train data: x:\"+ str(train_data.x.shape)+ ' y:'+str(train_data.y.shape))\n",
    "print(\"Test data: x:\"+ str(test_data.x.shape)+ ' y:'+str(test_data.y.shape))\n",
    "\n"
   ]
  },
  {
   "cell_type": "markdown",
   "metadata": {},
   "source": [
    "## Model"
   ]
  },
  {
   "cell_type": "code",
   "execution_count": 2,
   "metadata": {},
   "outputs": [
    {
     "name": "stdout",
     "output_type": "stream",
     "text": [
      "Model: \"sequential\"\n",
      "_________________________________________________________________\n",
      "Layer (type)                 Output Shape              Param #   \n",
      "=================================================================\n",
      "bidirectional (Bidirectional (None, 1000, 128)         64512     \n",
      "_________________________________________________________________\n",
      "global_max_pooling1d (Global (None, 128)               0         \n",
      "_________________________________________________________________\n",
      "dense (Dense)                (None, 64)                8256      \n",
      "_________________________________________________________________\n",
      "dropout (Dropout)            (None, 64)                0         \n",
      "_________________________________________________________________\n",
      "dense_1 (Dense)              (None, 64)                4160      \n",
      "_________________________________________________________________\n",
      "dropout_1 (Dropout)          (None, 64)                0         \n",
      "_________________________________________________________________\n",
      "dense_2 (Dense)              (None, 1)                 65        \n",
      "=================================================================\n",
      "Total params: 76,993\n",
      "Trainable params: 76,993\n",
      "Non-trainable params: 0\n",
      "_________________________________________________________________\n"
     ]
    }
   ],
   "source": [
    "import tensorflow as tf\n",
    "\n",
    "model_name = 'lstm_pooling'\n",
    "\n",
    "model = tf.keras.Sequential([\n",
    "    tf.keras.layers.Bidirectional(tf.keras.layers.GRU(64,return_sequences=True),input_shape=(1000,102)),\n",
    "    tf.keras.layers.GlobalMaxPooling1D(),\n",
    "    tf.keras.layers.Dense(64, activation='relu'),\n",
    "    tf.keras.layers.Dropout(rate=0.2),\n",
    "    tf.keras.layers.Dense(64, activation='relu'),\n",
    "    tf.keras.layers.Dropout(rate=0.2),\n",
    "    tf.keras.layers.Dense(1, activation='sigmoid')\n",
    "])\n",
    "\n",
    "model.compile(loss='mse',\n",
    "              optimizer=tf.keras.optimizers.Adam(1e-4,0.95,0.99),\n",
    "              metrics=['accuracy',tf.keras.metrics.AUC()])\n",
    "\n",
    "model.summary()"
   ]
  },
  {
   "cell_type": "markdown",
   "metadata": {},
   "source": [
    "## Save Checkpoint"
   ]
  },
  {
   "cell_type": "code",
   "execution_count": 3,
   "metadata": {},
   "outputs": [],
   "source": [
    "import os\n",
    "# Directory where the checkpoints will be saved\n",
    "checkpoint_dir = './checkpoints/' + model_name\n",
    "# Name of the checkpoint files\n",
    "checkpoint_prefix = os.path.join(checkpoint_dir, \"ckpt_{epoch}\")\n",
    "\n",
    "checkpoint_callback=tf.keras.callbacks.ModelCheckpoint(\n",
    "    filepath=checkpoint_prefix,\n",
    "    monitor='val_loss',\n",
    "    save_best_only=True,\n",
    "    save_weights_only=True)\n",
    "\n",
    "early_stopping_callback = tf.keras.callbacks.EarlyStopping(\n",
    "    monitor='val_loss', \n",
    "    min_delta=0, \n",
    "    patience=20, \n",
    "    mode='auto', \n",
    "    restore_best_weights=True)"
   ]
  },
  {
   "cell_type": "markdown",
   "metadata": {},
   "source": [
    "## Training"
   ]
  },
  {
   "cell_type": "code",
   "execution_count": 4,
   "metadata": {},
   "outputs": [
    {
     "name": "stdout",
     "output_type": "stream",
     "text": [
      "Train on 14929 samples, validate on 3733 samples\n",
      "Epoch 1/100\n",
      "14929/14929 - 35s - loss: 0.1711 - accuracy: 0.7546 - auc: 0.8152 - val_loss: 0.1145 - val_accuracy: 0.8430 - val_auc: 0.9262\n",
      "Epoch 2/100\n",
      "14929/14929 - 32s - loss: 0.0999 - accuracy: 0.8634 - auc: 0.9365 - val_loss: 0.0876 - val_accuracy: 0.8784 - val_auc: 0.9566\n",
      "Epoch 3/100\n",
      "14929/14929 - 32s - loss: 0.0747 - accuracy: 0.9013 - auc: 0.9625 - val_loss: 0.0745 - val_accuracy: 0.8974 - val_auc: 0.9647\n",
      "Epoch 4/100\n",
      "14929/14929 - 31s - loss: 0.0629 - accuracy: 0.9187 - auc: 0.9705 - val_loss: 0.0659 - val_accuracy: 0.9145 - val_auc: 0.9682\n",
      "Epoch 5/100\n",
      "14929/14929 - 31s - loss: 0.0556 - accuracy: 0.9301 - auc: 0.9751 - val_loss: 0.0618 - val_accuracy: 0.9196 - val_auc: 0.9704\n",
      "Epoch 6/100\n",
      "14929/14929 - 31s - loss: 0.0511 - accuracy: 0.9368 - auc: 0.9775 - val_loss: 0.0612 - val_accuracy: 0.9170 - val_auc: 0.9717\n",
      "Epoch 7/100\n",
      "14929/14929 - 31s - loss: 0.0480 - accuracy: 0.9397 - auc: 0.9793 - val_loss: 0.0615 - val_accuracy: 0.9151 - val_auc: 0.9727\n",
      "Epoch 8/100\n",
      "14929/14929 - 31s - loss: 0.0454 - accuracy: 0.9435 - auc: 0.9814 - val_loss: 0.0570 - val_accuracy: 0.9207 - val_auc: 0.9740\n",
      "Epoch 9/100\n",
      "14929/14929 - 31s - loss: 0.0431 - accuracy: 0.9463 - auc: 0.9829 - val_loss: 0.0576 - val_accuracy: 0.9212 - val_auc: 0.9749\n",
      "Epoch 10/100\n",
      "14929/14929 - 31s - loss: 0.0413 - accuracy: 0.9496 - auc: 0.9839 - val_loss: 0.0553 - val_accuracy: 0.9263 - val_auc: 0.9751\n",
      "Epoch 11/100\n",
      "14929/14929 - 31s - loss: 0.0397 - accuracy: 0.9516 - auc: 0.9849 - val_loss: 0.0545 - val_accuracy: 0.9293 - val_auc: 0.9761\n",
      "Epoch 12/100\n",
      "14929/14929 - 31s - loss: 0.0384 - accuracy: 0.9526 - auc: 0.9859 - val_loss: 0.0552 - val_accuracy: 0.9298 - val_auc: 0.9761\n",
      "Epoch 13/100\n",
      "14929/14929 - 31s - loss: 0.0365 - accuracy: 0.9553 - auc: 0.9867 - val_loss: 0.0545 - val_accuracy: 0.9234 - val_auc: 0.9776\n",
      "Epoch 14/100\n",
      "14929/14929 - 31s - loss: 0.0357 - accuracy: 0.9563 - auc: 0.9869 - val_loss: 0.0524 - val_accuracy: 0.9309 - val_auc: 0.9781\n",
      "Epoch 15/100\n",
      "14929/14929 - 31s - loss: 0.0346 - accuracy: 0.9581 - auc: 0.9877 - val_loss: 0.0518 - val_accuracy: 0.9317 - val_auc: 0.9786\n",
      "Epoch 16/100\n",
      "14929/14929 - 31s - loss: 0.0341 - accuracy: 0.9579 - auc: 0.9883 - val_loss: 0.0529 - val_accuracy: 0.9274 - val_auc: 0.9777\n",
      "Epoch 17/100\n",
      "14929/14929 - 31s - loss: 0.0324 - accuracy: 0.9603 - auc: 0.9889 - val_loss: 0.0517 - val_accuracy: 0.9290 - val_auc: 0.9787\n",
      "Epoch 18/100\n",
      "14929/14929 - 31s - loss: 0.0314 - accuracy: 0.9609 - auc: 0.9895 - val_loss: 0.0526 - val_accuracy: 0.9304 - val_auc: 0.9789\n",
      "Epoch 19/100\n",
      "14929/14929 - 31s - loss: 0.0305 - accuracy: 0.9624 - auc: 0.9899 - val_loss: 0.0520 - val_accuracy: 0.9306 - val_auc: 0.9788\n",
      "Epoch 20/100\n",
      "14929/14929 - 31s - loss: 0.0298 - accuracy: 0.9634 - auc: 0.9903 - val_loss: 0.0511 - val_accuracy: 0.9306 - val_auc: 0.9783\n",
      "Epoch 21/100\n",
      "14929/14929 - 31s - loss: 0.0294 - accuracy: 0.9645 - auc: 0.9898 - val_loss: 0.0518 - val_accuracy: 0.9301 - val_auc: 0.9790\n",
      "Epoch 22/100\n",
      "14929/14929 - 32s - loss: 0.0287 - accuracy: 0.9651 - auc: 0.9907 - val_loss: 0.0506 - val_accuracy: 0.9325 - val_auc: 0.9790\n",
      "Epoch 23/100\n",
      "14929/14929 - 32s - loss: 0.0277 - accuracy: 0.9660 - auc: 0.9912 - val_loss: 0.0520 - val_accuracy: 0.9330 - val_auc: 0.9786\n",
      "Epoch 24/100\n",
      "14929/14929 - 32s - loss: 0.0274 - accuracy: 0.9666 - auc: 0.9912 - val_loss: 0.0544 - val_accuracy: 0.9309 - val_auc: 0.9795\n",
      "Epoch 25/100\n",
      "14929/14929 - 31s - loss: 0.0272 - accuracy: 0.9670 - auc: 0.9914 - val_loss: 0.0530 - val_accuracy: 0.9349 - val_auc: 0.9788\n",
      "Epoch 26/100\n",
      "14929/14929 - 31s - loss: 0.0261 - accuracy: 0.9681 - auc: 0.9919 - val_loss: 0.0496 - val_accuracy: 0.9344 - val_auc: 0.9802\n",
      "Epoch 27/100\n",
      "14929/14929 - 31s - loss: 0.0255 - accuracy: 0.9697 - auc: 0.9918 - val_loss: 0.0521 - val_accuracy: 0.9341 - val_auc: 0.9794\n",
      "Epoch 28/100\n",
      "14929/14929 - 31s - loss: 0.0249 - accuracy: 0.9704 - auc: 0.9921 - val_loss: 0.0515 - val_accuracy: 0.9357 - val_auc: 0.9798\n",
      "Epoch 29/100\n",
      "14929/14929 - 32s - loss: 0.0244 - accuracy: 0.9703 - auc: 0.9925 - val_loss: 0.0496 - val_accuracy: 0.9365 - val_auc: 0.9791\n",
      "Epoch 30/100\n",
      "14929/14929 - 32s - loss: 0.0242 - accuracy: 0.9711 - auc: 0.9922 - val_loss: 0.0480 - val_accuracy: 0.9405 - val_auc: 0.9800\n",
      "Epoch 31/100\n",
      "14929/14929 - 32s - loss: 0.0234 - accuracy: 0.9720 - auc: 0.9925 - val_loss: 0.0496 - val_accuracy: 0.9352 - val_auc: 0.9799\n",
      "Epoch 32/100\n",
      "14929/14929 - 31s - loss: 0.0230 - accuracy: 0.9729 - auc: 0.9926 - val_loss: 0.0506 - val_accuracy: 0.9330 - val_auc: 0.9780\n",
      "Epoch 33/100\n",
      "14929/14929 - 31s - loss: 0.0231 - accuracy: 0.9721 - auc: 0.9929 - val_loss: 0.0527 - val_accuracy: 0.9328 - val_auc: 0.9788\n",
      "Epoch 34/100\n",
      "14929/14929 - 31s - loss: 0.0222 - accuracy: 0.9741 - auc: 0.9930 - val_loss: 0.0499 - val_accuracy: 0.9354 - val_auc: 0.9784\n",
      "Epoch 35/100\n",
      "14929/14929 - 31s - loss: 0.0222 - accuracy: 0.9735 - auc: 0.9932 - val_loss: 0.0574 - val_accuracy: 0.9295 - val_auc: 0.9784\n",
      "Epoch 36/100\n",
      "14929/14929 - 31s - loss: 0.0216 - accuracy: 0.9748 - auc: 0.9935 - val_loss: 0.0496 - val_accuracy: 0.9368 - val_auc: 0.9786\n",
      "Epoch 37/100\n",
      "14929/14929 - 31s - loss: 0.0208 - accuracy: 0.9757 - auc: 0.9934 - val_loss: 0.0511 - val_accuracy: 0.9320 - val_auc: 0.9777\n",
      "Epoch 38/100\n",
      "14929/14929 - 32s - loss: 0.0210 - accuracy: 0.9755 - auc: 0.9938 - val_loss: 0.0511 - val_accuracy: 0.9376 - val_auc: 0.9775\n",
      "Epoch 39/100\n",
      "14929/14929 - 31s - loss: 0.0211 - accuracy: 0.9748 - auc: 0.9935 - val_loss: 0.0522 - val_accuracy: 0.9346 - val_auc: 0.9783\n",
      "Epoch 40/100\n",
      "14929/14929 - 31s - loss: 0.0205 - accuracy: 0.9751 - auc: 0.9941 - val_loss: 0.0480 - val_accuracy: 0.9400 - val_auc: 0.9795\n",
      "Epoch 41/100\n",
      "14929/14929 - 31s - loss: 0.0203 - accuracy: 0.9758 - auc: 0.9939 - val_loss: 0.0483 - val_accuracy: 0.9395 - val_auc: 0.9795\n",
      "Epoch 42/100\n",
      "14929/14929 - 32s - loss: 0.0190 - accuracy: 0.9772 - auc: 0.9948 - val_loss: 0.0532 - val_accuracy: 0.9333 - val_auc: 0.9779\n",
      "Epoch 43/100\n",
      "14929/14929 - 31s - loss: 0.0199 - accuracy: 0.9763 - auc: 0.9942 - val_loss: 0.0489 - val_accuracy: 0.9403 - val_auc: 0.9785\n",
      "Epoch 44/100\n",
      "14929/14929 - 31s - loss: 0.0195 - accuracy: 0.9766 - auc: 0.9943 - val_loss: 0.0482 - val_accuracy: 0.9408 - val_auc: 0.9784\n",
      "Epoch 45/100\n",
      "14929/14929 - 32s - loss: 0.0190 - accuracy: 0.9772 - auc: 0.9946 - val_loss: 0.0493 - val_accuracy: 0.9419 - val_auc: 0.9777\n",
      "Epoch 46/100\n",
      "14929/14929 - 31s - loss: 0.0189 - accuracy: 0.9772 - auc: 0.9941 - val_loss: 0.0494 - val_accuracy: 0.9400 - val_auc: 0.9785\n",
      "Epoch 47/100\n",
      "14929/14929 - 31s - loss: 0.0187 - accuracy: 0.9780 - auc: 0.9943 - val_loss: 0.0484 - val_accuracy: 0.9440 - val_auc: 0.9776\n",
      "Epoch 48/100\n",
      "14929/14929 - 31s - loss: 0.0185 - accuracy: 0.9778 - auc: 0.9944 - val_loss: 0.0506 - val_accuracy: 0.9373 - val_auc: 0.9789\n",
      "Epoch 49/100\n",
      "14929/14929 - 32s - loss: 0.0185 - accuracy: 0.9780 - auc: 0.9945 - val_loss: 0.0483 - val_accuracy: 0.9408 - val_auc: 0.9785\n",
      "Epoch 50/100\n",
      "14929/14929 - 32s - loss: 0.0185 - accuracy: 0.9776 - auc: 0.9946 - val_loss: 0.0516 - val_accuracy: 0.9365 - val_auc: 0.9787\n",
      "Epoch 51/100\n",
      "14929/14929 - 32s - loss: 0.0176 - accuracy: 0.9795 - auc: 0.9946 - val_loss: 0.0533 - val_accuracy: 0.9325 - val_auc: 0.9762\n",
      "Epoch 52/100\n",
      "14929/14929 - 32s - loss: 0.0174 - accuracy: 0.9796 - auc: 0.9950 - val_loss: 0.0483 - val_accuracy: 0.9413 - val_auc: 0.9788\n",
      "Epoch 53/100\n",
      "14929/14929 - 31s - loss: 0.0169 - accuracy: 0.9808 - auc: 0.9950 - val_loss: 0.0511 - val_accuracy: 0.9370 - val_auc: 0.9782\n",
      "Epoch 54/100\n",
      "14929/14929 - 31s - loss: 0.0178 - accuracy: 0.9784 - auc: 0.9946 - val_loss: 0.0521 - val_accuracy: 0.9370 - val_auc: 0.9757\n",
      "Epoch 55/100\n",
      "14929/14929 - 31s - loss: 0.0168 - accuracy: 0.9799 - auc: 0.9951 - val_loss: 0.0501 - val_accuracy: 0.9397 - val_auc: 0.9762\n",
      "Epoch 56/100\n",
      "14929/14929 - 32s - loss: 0.0174 - accuracy: 0.9787 - auc: 0.9951 - val_loss: 0.0559 - val_accuracy: 0.9328 - val_auc: 0.9740\n",
      "Epoch 57/100\n",
      "14929/14929 - 32s - loss: 0.0178 - accuracy: 0.9786 - auc: 0.9949 - val_loss: 0.0556 - val_accuracy: 0.9352 - val_auc: 0.9732\n",
      "Epoch 58/100\n",
      "14929/14929 - 32s - loss: 0.0169 - accuracy: 0.9791 - auc: 0.9949 - val_loss: 0.0519 - val_accuracy: 0.9376 - val_auc: 0.9747\n",
      "Epoch 59/100\n",
      "14929/14929 - 32s - loss: 0.0165 - accuracy: 0.9796 - auc: 0.9954 - val_loss: 0.0503 - val_accuracy: 0.9373 - val_auc: 0.9758\n",
      "Epoch 60/100\n",
      "14929/14929 - 31s - loss: 0.0162 - accuracy: 0.9808 - auc: 0.9950 - val_loss: 0.0502 - val_accuracy: 0.9392 - val_auc: 0.9778\n"
     ]
    }
   ],
   "source": [
    "history = model.fit(x=train_data.x, y=train_data.y, validation_split=0.2, epochs=100,batch_size=32,\n",
    "                    callbacks=[checkpoint_callback,early_stopping_callback], verbose=2,shuffle=True)"
   ]
  },
  {
   "cell_type": "markdown",
   "metadata": {},
   "source": [
    "## Plot Training History"
   ]
  },
  {
   "cell_type": "code",
   "execution_count": 5,
   "metadata": {},
   "outputs": [
    {
     "data": {
      "image/png": "[encoded data removed]",
      "text/plain": [
       "<Figure size 432x288 with 1 Axes>"
      ]
     },
     "metadata": {
      "needs_background": "light"
     },
     "output_type": "display_data"
    },
    {
     "data": {
      "image/png": "[encoded data removed]",
      "text/plain": [
       "<Figure size 432x288 with 1 Axes>"
      ]
     },
     "metadata": {
      "needs_background": "light"
     },
     "output_type": "display_data"
    }
   ],
   "source": [
    "import matplotlib.pyplot as plt\n",
    "%matplotlib inline\n",
    "# Plot training & validation accuracy values\n",
    "plt.plot(history.history['accuracy'])\n",
    "plt.plot(history.history['val_accuracy'])\n",
    "plt.title('Model accuracy')\n",
    "plt.ylabel('Accuracy')\n",
    "plt.xlabel('Epoch')\n",
    "plt.legend(['Train', 'Validation'], loc='upper left')\n",
    "plt.show()\n",
    "\n",
    "# Plot training & validation loss values\n",
    "plt.plot(history.history['loss'])\n",
    "plt.plot(history.history['val_loss'])\n",
    "plt.title('Model loss')\n",
    "plt.ylabel('Loss')\n",
    "plt.xlabel('Epoch')\n",
    "plt.legend(['Train', 'Validation'], loc='upper left')\n",
    "plt.show()"
   ]
  },
  {
   "cell_type": "markdown",
   "metadata": {},
   "source": [
    "## Restore Weights"
   ]
  },
  {
   "cell_type": "code",
   "execution_count": 6,
   "metadata": {},
   "outputs": [
    {
     "data": {
      "text/plain": [
       "<tensorflow.python.training.tracking.util.CheckpointLoadStatus at 0x2ba1fbcc248>"
      ]
     },
     "execution_count": 6,
     "metadata": {},
     "output_type": "execute_result"
    }
   ],
   "source": [
    "checkpoint_dir = './checkpoints/' + model_name\n",
    "model.load_weights(tf.train.latest_checkpoint(checkpoint_dir))"
   ]
  },
  {
   "cell_type": "code",
   "execution_count": 7,
   "metadata": {},
   "outputs": [
    {
     "name": "stdout",
     "output_type": "stream",
     "text": [
      "(6051, 1)\n"
     ]
    }
   ],
   "source": [
    "test_predict = model.predict(test_data.x)\n",
    "print(test_predict.shape)"
   ]
  },
  {
   "cell_type": "markdown",
   "metadata": {},
   "source": [
    "\n",
    "\n",
    "## Save Prediction to CSV"
   ]
  },
  {
   "cell_type": "code",
   "execution_count": 8,
   "metadata": {},
   "outputs": [
    {
     "name": "stdout",
     "output_type": "stream",
     "text": [
      "Saved to result_lstm_pooling.csv\n"
     ]
    }
   ],
   "source": [
    "import csv\n",
    "\n",
    "output_file = 'result_' + model_name + '.csv'\n",
    "with open(output_file, 'wt', newline='', encoding='utf-8') as output_file:\n",
    "    csv_writer = csv.writer(output_file)\n",
    "    csv_writer.writerow(('Id', 'Predicted'))\n",
    "    for id, predict in enumerate(test_predict):\n",
    "        csv_writer.writerow((id, predict[0]))\n",
    "print('Saved to '+'result_' + model_name + '.csv')"
   ]
  },
  {
   "cell_type": "code",
   "execution_count": null,
   "metadata": {},
   "outputs": [],
   "source": []
  }
 ],
 "metadata": {
  "file_extension": ".py",
  "kernelspec": {
   "display_name": "Python 3",
   "language": "python",
   "name": "python3"
  },
  "language_info": {
   "codemirror_mode": {
    "name": "ipython",
    "version": 3
   },
   "file_extension": ".py",
   "mimetype": "text/x-python",
   "name": "python",
   "nbconvert_exporter": "python",
   "pygments_lexer": "ipython3",
   "version": "3.7.5"
  },
  "mimetype": "text/x-python",
  "name": "python",
  "npconvert_exporter": "python",
  "pygments_lexer": "ipython3",
  "version": 3
 },
 "nbformat": 4,
 "nbformat_minor": 4
}
