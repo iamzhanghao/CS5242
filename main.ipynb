{
 "cells": [
  {
   "cell_type": "markdown",
   "metadata": {},
   "source": [
    "# CS5242"
   ]
  },
  {
   "cell_type": "markdown",
   "metadata": {},
   "source": [
    "## Load Data"
   ]
  },
  {
   "cell_type": "code",
   "execution_count": 1,
   "metadata": {},
   "outputs": [
    {
     "name": "stderr",
     "output_type": "stream",
     "text": [
      "Loading train data 18662/18662: 100%|█████████████████████████████████████████████████████████████ [ time left: 00:00 ]\n",
      "Loading test data 6051/6051: 100%|████████████████████████████████████████████████████████████████ [ time left: 00:00 ]\n"
     ]
    },
    {
     "name": "stdout",
     "output_type": "stream",
     "text": [
      "Train data: x:(18662, 1000, 102) y:(18662, 1)\n",
      "Test data: x:(6051, 1000, 102) y:(6051, 1)\n"
     ]
    }
   ],
   "source": [
    "from data import Data\n",
    "\n",
    "train_data = Data(data_type='train')\n",
    "test_data = Data(data_type='test')\n",
    "\n",
    "print(\"Train data: x:\"+ str(train_data.x.shape)+ ' y:'+str(train_data.y.shape))\n",
    "print(\"Test data: x:\"+ str(test_data.x.shape)+ ' y:'+str(test_data.y.shape))\n",
    "\n"
   ]
  },
  {
   "cell_type": "markdown",
   "metadata": {},
   "source": [
    "## Model"
   ]
  },
  {
   "cell_type": "code",
   "execution_count": 2,
   "metadata": {},
   "outputs": [],
   "source": [
    "import tensorflow as tf\n",
    "\n",
    "model = tf.keras.Sequential([\n",
    "    tf.keras.layers.Bidirectional(tf.keras.layers.LSTM(128)),\n",
    "    tf.keras.layers.Dense(64, activation='relu'),\n",
    "    tf.keras.layers.Dense(1, activation='sigmoid')\n",
    "])\n",
    "\n",
    "model.compile(loss='binary_crossentropy',\n",
    "              optimizer=tf.keras.optimizers.Adam(1e-3),\n",
    "              metrics=['accuracy'])"
   ]
  },
  {
   "cell_type": "markdown",
   "metadata": {},
   "source": [
    "## Save Checkpoint"
   ]
  },
  {
   "cell_type": "code",
   "execution_count": 7,
   "metadata": {},
   "outputs": [],
   "source": [
    "import os\n",
    "# Directory where the checkpoints will be saved\n",
    "checkpoint_dir = './training_checkpoints'\n",
    "# Name of the checkpoint files\n",
    "checkpoint_prefix = os.path.join(checkpoint_dir, \"ckpt_{epoch}\")\n",
    "\n",
    "checkpoint_callback=tf.keras.callbacks.ModelCheckpoint(\n",
    "    filepath=checkpoint_prefix,\n",
    "    save_weights_only=True)"
   ]
  },
  {
   "cell_type": "code",
   "execution_count": 9,
   "metadata": {},
   "outputs": [
    {
     "name": "stdout",
     "output_type": "stream",
     "text": [
      "Train on 16795 samples, validate on 1867 samples\n",
      "Epoch 1/30\n",
      "16795/16795 - 43s - loss: 0.2706 - accuracy: 0.8856 - val_loss: 0.2611 - val_accuracy: 0.8956\n",
      "Epoch 2/30\n",
      "16795/16795 - 41s - loss: 0.1955 - accuracy: 0.9172 - val_loss: 0.2359 - val_accuracy: 0.9009\n",
      "Epoch 3/30\n",
      "16795/16795 - 41s - loss: 0.1634 - accuracy: 0.9352 - val_loss: 0.2379 - val_accuracy: 0.9116\n",
      "Epoch 4/30\n",
      "16795/16795 - 41s - loss: 0.1435 - accuracy: 0.9444 - val_loss: 0.1942 - val_accuracy: 0.9272\n",
      "Epoch 5/30\n",
      "16795/16795 - 41s - loss: 0.1301 - accuracy: 0.9495 - val_loss: 0.1968 - val_accuracy: 0.9298\n",
      "Epoch 6/30\n",
      "16795/16795 - 41s - loss: 0.1159 - accuracy: 0.9542 - val_loss: 0.1841 - val_accuracy: 0.9341\n",
      "Epoch 7/30\n",
      "16795/16795 - 41s - loss: 0.1043 - accuracy: 0.9588 - val_loss: 0.1778 - val_accuracy: 0.9368\n",
      "Epoch 8/30\n",
      "16795/16795 - 41s - loss: 0.0976 - accuracy: 0.9623 - val_loss: 0.1865 - val_accuracy: 0.9330\n",
      "Epoch 9/30\n",
      "16795/16795 - 41s - loss: 0.1095 - accuracy: 0.9583 - val_loss: 0.2474 - val_accuracy: 0.9100\n",
      "Epoch 10/30\n",
      "16795/16795 - 41s - loss: 0.1059 - accuracy: 0.9581 - val_loss: 0.1917 - val_accuracy: 0.9352\n",
      "Epoch 11/30\n",
      "16795/16795 - 41s - loss: 0.0848 - accuracy: 0.9660 - val_loss: 0.2022 - val_accuracy: 0.9352\n",
      "Epoch 12/30\n",
      "16795/16795 - 41s - loss: 0.0794 - accuracy: 0.9690 - val_loss: 0.2195 - val_accuracy: 0.9304\n",
      "Epoch 13/30\n",
      "16795/16795 - 41s - loss: 0.0748 - accuracy: 0.9717 - val_loss: 0.2498 - val_accuracy: 0.9341\n",
      "Epoch 14/30\n",
      "16795/16795 - 41s - loss: 0.0767 - accuracy: 0.9712 - val_loss: 0.2582 - val_accuracy: 0.9368\n",
      "Epoch 15/30\n",
      "16795/16795 - 41s - loss: 0.0694 - accuracy: 0.9729 - val_loss: 0.2431 - val_accuracy: 0.9341\n",
      "Epoch 16/30\n",
      "16795/16795 - 41s - loss: 0.0622 - accuracy: 0.9763 - val_loss: 0.2315 - val_accuracy: 0.9368\n",
      "Epoch 17/30\n",
      "16795/16795 - 41s - loss: 0.0621 - accuracy: 0.9766 - val_loss: 0.2494 - val_accuracy: 0.9411\n",
      "Epoch 18/30\n",
      "16795/16795 - 41s - loss: 0.0729 - accuracy: 0.9733 - val_loss: 0.2580 - val_accuracy: 0.9255\n",
      "Epoch 19/30\n",
      "16795/16795 - 41s - loss: 0.0664 - accuracy: 0.9748 - val_loss: 0.2480 - val_accuracy: 0.9325\n",
      "Epoch 20/30\n",
      "16795/16795 - 41s - loss: 0.0596 - accuracy: 0.9768 - val_loss: 0.2643 - val_accuracy: 0.9384\n",
      "Epoch 21/30\n",
      "16795/16795 - 41s - loss: 0.0590 - accuracy: 0.9772 - val_loss: 0.2578 - val_accuracy: 0.9336\n",
      "Epoch 22/30\n",
      "16795/16795 - 41s - loss: 0.0593 - accuracy: 0.9779 - val_loss: 0.2394 - val_accuracy: 0.9389\n",
      "Epoch 23/30\n",
      "16795/16795 - 41s - loss: 0.0575 - accuracy: 0.9784 - val_loss: 0.3003 - val_accuracy: 0.9314\n",
      "Epoch 24/30\n",
      "16795/16795 - 41s - loss: 0.0837 - accuracy: 0.9683 - val_loss: 0.2523 - val_accuracy: 0.9357\n",
      "Epoch 25/30\n",
      "16795/16795 - 41s - loss: 0.0642 - accuracy: 0.9752 - val_loss: 0.2383 - val_accuracy: 0.9341\n",
      "Epoch 26/30\n",
      "16795/16795 - 41s - loss: 0.0568 - accuracy: 0.9792 - val_loss: 0.2914 - val_accuracy: 0.9336\n",
      "Epoch 27/30\n",
      "16795/16795 - 41s - loss: 0.0540 - accuracy: 0.9789 - val_loss: 0.2811 - val_accuracy: 0.9416\n",
      "Epoch 28/30\n",
      "16795/16795 - 41s - loss: 0.0556 - accuracy: 0.9787 - val_loss: 0.2971 - val_accuracy: 0.9320\n",
      "Epoch 29/30\n",
      "16795/16795 - 41s - loss: 0.0556 - accuracy: 0.9792 - val_loss: 0.2796 - val_accuracy: 0.9400\n",
      "Epoch 30/30\n",
      "16795/16795 - 41s - loss: 0.0549 - accuracy: 0.9790 - val_loss: 0.3146 - val_accuracy: 0.9373\n"
     ]
    }
   ],
   "source": [
    "history = model.fit(x=train_data.x, y=train_data.y, validation_split=0.1, epochs=30, callbacks=[checkpoint_callback], verbose=2)"
   ]
  },
  {
   "cell_type": "markdown",
   "metadata": {},
   "source": [
    "## Plot Training History"
   ]
  },
  {
   "cell_type": "code",
   "execution_count": 10,
   "metadata": {},
   "outputs": [
    {
     "data": {
      "image/png": "[encoded data removed]",
      "text/plain": [
       "<Figure size 432x288 with 1 Axes>"
      ]
     },
     "metadata": {
      "needs_background": "light"
     },
     "output_type": "display_data"
    },
    {
     "data": {
      "image/png": "[encoded data removed]",
      "text/plain": [
       "<Figure size 432x288 with 1 Axes>"
      ]
     },
     "metadata": {
      "needs_background": "light"
     },
     "output_type": "display_data"
    }
   ],
   "source": [
    "import matplotlib.pyplot as plt\n",
    "%matplotlib inline\n",
    "# Plot training & validation accuracy values\n",
    "plt.plot(history.history['accuracy'])\n",
    "plt.plot(history.history['val_accuracy'])\n",
    "plt.title('Model accuracy')\n",
    "plt.ylabel('Accuracy')\n",
    "plt.xlabel('Epoch')\n",
    "plt.legend(['Train', 'Validation'], loc='upper left')\n",
    "plt.show()\n",
    "\n",
    "# Plot training & validation loss values\n",
    "plt.plot(history.history['loss'])\n",
    "plt.plot(history.history['val_loss'])\n",
    "plt.title('Model loss')\n",
    "plt.ylabel('Loss')\n",
    "plt.xlabel('Epoch')\n",
    "plt.legend(['Train', 'Validation'], loc='upper left')\n",
    "plt.show()"
   ]
  },
  {
   "cell_type": "markdown",
   "metadata": {},
   "source": [
    "## Model Summary"
   ]
  },
  {
   "cell_type": "code",
   "execution_count": 12,
   "metadata": {},
   "outputs": [
    {
     "name": "stdout",
     "output_type": "stream",
     "text": [
      "Model: \"sequential_2\"\n",
      "_________________________________________________________________\n",
      "Layer (type)                 Output Shape              Param #   \n",
      "=================================================================\n",
      "bidirectional_2 (Bidirection multiple                  236544    \n",
      "_________________________________________________________________\n",
      "dense_4 (Dense)              multiple                  16448     \n",
      "_________________________________________________________________\n",
      "dense_5 (Dense)              multiple                  65        \n",
      "=================================================================\n",
      "Total params: 253,057\n",
      "Trainable params: 253,057\n",
      "Non-trainable params: 0\n",
      "_________________________________________________________________\n"
     ]
    }
   ],
   "source": [
    "model.summary()"
   ]
  },
  {
   "cell_type": "markdown",
   "metadata": {},
   "source": [
    "## Restore Weights"
   ]
  },
  {
   "cell_type": "code",
   "execution_count": 3,
   "metadata": {},
   "outputs": [
    {
     "data": {
      "text/plain": [
       "<tensorflow.python.training.tracking.util.CheckpointLoadStatus at 0x1819988c208>"
      ]
     },
     "execution_count": 3,
     "metadata": {},
     "output_type": "execute_result"
    }
   ],
   "source": [
    "checkpoint_dir = './training_checkpoints'\n",
    "model.load_weights(tf.train.latest_checkpoint(checkpoint_dir))"
   ]
  },
  {
   "cell_type": "code",
   "execution_count": 4,
   "metadata": {},
   "outputs": [],
   "source": [
    "test_predict = model.predict(test_data.x)"
   ]
  },
  {
   "cell_type": "code",
   "execution_count": 5,
   "metadata": {},
   "outputs": [
    {
     "name": "stdout",
     "output_type": "stream",
     "text": [
      "(6051, 1)\n"
     ]
    }
   ],
   "source": [
    "print(test_predict.shape)"
   ]
  },
  {
   "cell_type": "markdown",
   "metadata": {},
   "source": [
    "## Save Prediction to CSV"
   ]
  },
  {
   "cell_type": "code",
   "execution_count": 5,
   "metadata": {},
   "outputs": [],
   "source": [
    "import csv\n",
    "\n",
    "output_file = 'result.csv'\n",
    "with open(output_file, 'wt', newline='', encoding='utf-8') as output_file:\n",
    "    csv_writer = csv.writer(output_file)\n",
    "    csv_writer.writerow(('Id', 'Predicted'))\n",
    "    for id, predict in enumerate(test_predict):\n",
    "        csv_writer.writerow((id, predict[0]))"
   ]
  },
  {
   "cell_type": "code",
   "execution_count": null,
   "metadata": {},
   "outputs": [],
   "source": []
  }
 ],
 "metadata": {
  "file_extension": ".py",
  "kernelspec": {
   "display_name": "Python 3",
   "language": "python",
   "name": "python3"
  },
  "language_info": {
   "codemirror_mode": {
    "name": "ipython",
    "version": 3
   },
   "file_extension": ".py",
   "mimetype": "text/x-python",
   "name": "python",
   "nbconvert_exporter": "python",
   "pygments_lexer": "ipython3",
   "version": "3.7.5"
  },
  "mimetype": "text/x-python",
  "name": "python",
  "npconvert_exporter": "python",
  "pygments_lexer": "ipython3",
  "version": 3
 },
 "nbformat": 4,
 "nbformat_minor": 4
}
