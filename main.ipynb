{
 "cells": [
  {
   "cell_type": "markdown",
   "metadata": {},
   "source": [
    "# CS5242"
   ]
  },
  {
   "cell_type": "markdown",
   "metadata": {},
   "source": [
    "## Load Data"
   ]
  },
  {
   "cell_type": "code",
   "execution_count": 16,
   "metadata": {},
   "outputs": [
    {
     "name": "stderr",
     "output_type": "stream",
     "text": [
      "Loading train data 1000/1000: 100%|███████████████████████████████████████████████████████████████ [ time left: 00:00 ]\n",
      "Loading test data 6051/6051: 100%|████████████████████████████████████████████████████████████████ [ time left: 00:00 ]\n"
     ]
    },
    {
     "name": "stdout",
     "output_type": "stream",
     "text": [
      "Train data: x:(1000, 1000, 102) y:(1000, 1)\n",
      "Test data: x:(6051, 1000, 102) y:(6051, 1)\n"
     ]
    }
   ],
   "source": [
    "from data import Data\n",
    "\n",
    "train_data = Data(data_type='train', max_files=1000)\n",
    "test_data = Data(data_type='test')\n",
    "\n",
    "print(\"Train data: x:\"+ str(train_data.x.shape)+ ' y:'+str(train_data.y.shape))\n",
    "print(\"Test data: x:\"+ str(test_data.x.shape)+ ' y:'+str(test_data.y.shape))\n",
    "\n"
   ]
  },
  {
   "cell_type": "markdown",
   "metadata": {},
   "source": [
    "## Model"
   ]
  },
  {
   "cell_type": "code",
   "execution_count": 17,
   "metadata": {},
   "outputs": [],
   "source": [
    "import tensorflow as tf\n",
    "\n",
    "model = tf.keras.Sequential([\n",
    "    # tf.keras.layers.Embedding(encoder.vocab_size, 64),\n",
    "    tf.keras.layers.Bidirectional(tf.keras.layers.LSTM(64)),\n",
    "    tf.keras.layers.Dense(64, activation='relu'),\n",
    "    tf.keras.layers.Dense(1, activation='sigmoid')\n",
    "])\n",
    "\n",
    "model.compile(loss='binary_crossentropy',\n",
    "              optimizer=tf.keras.optimizers.Adam(1e-4),\n",
    "              metrics=['accuracy'])"
   ]
  },
  {
   "cell_type": "code",
   "execution_count": 10,
   "metadata": {},
   "outputs": [
    {
     "name": "stdout",
     "output_type": "stream",
     "text": [
      "Model: \"sequential_1\"\n",
      "_________________________________________________________________\n",
      "Layer (type)                 Output Shape              Param #   \n",
      "=================================================================\n",
      "bidirectional_1 (Bidirection multiple                  85504     \n",
      "_________________________________________________________________\n",
      "dense_2 (Dense)              multiple                  8256      \n",
      "_________________________________________________________________\n",
      "dense_3 (Dense)              multiple                  65        \n",
      "=================================================================\n",
      "Total params: 93,825\n",
      "Trainable params: 93,825\n",
      "Non-trainable params: 0\n",
      "_________________________________________________________________\n"
     ]
    }
   ],
   "source": [
    "model.summary()"
   ]
  },
  {
   "cell_type": "markdown",
   "metadata": {},
   "source": [
    "## Save Checkpoint"
   ]
  },
  {
   "cell_type": "code",
   "execution_count": 18,
   "metadata": {},
   "outputs": [],
   "source": [
    "import os\n",
    "# Directory where the checkpoints will be saved\n",
    "checkpoint_dir = './training_checkpoints'\n",
    "# Name of the checkpoint files\n",
    "checkpoint_prefix = os.path.join(checkpoint_dir, \"ckpt_{epoch}\")\n",
    "\n",
    "checkpoint_callback=tf.keras.callbacks.ModelCheckpoint(\n",
    "    filepath=checkpoint_prefix,\n",
    "    save_weights_only=True)"
   ]
  },
  {
   "cell_type": "code",
   "execution_count": 19,
   "metadata": {},
   "outputs": [
    {
     "name": "stdout",
     "output_type": "stream",
     "text": [
      "Train on 900 samples, validate on 100 samples\n",
      "Epoch 1/5\n",
      "900/900 [==============================] - ETA: 3:29 - loss: 0.7555 - accuracy: 0.34 - ETA: 2:35 - loss: 0.7362 - accuracy: 0.39 - ETA: 2:11 - loss: 0.7146 - accuracy: 0.43 - ETA: 1:59 - loss: 0.7002 - accuracy: 0.45 - ETA: 1:52 - loss: 0.6961 - accuracy: 0.46 - ETA: 1:42 - loss: 0.6983 - accuracy: 0.45 - ETA: 1:35 - loss: 0.6971 - accuracy: 0.45 - ETA: 1:29 - loss: 0.6931 - accuracy: 0.47 - ETA: 1:23 - loss: 0.6935 - accuracy: 0.47 - ETA: 1:17 - loss: 0.6917 - accuracy: 0.48 - ETA: 1:11 - loss: 0.6828 - accuracy: 0.51 - ETA: 1:06 - loss: 0.6811 - accuracy: 0.51 - ETA: 1:01 - loss: 0.6806 - accuracy: 0.52 - ETA: 56s - loss: 0.6802 - accuracy: 0.5268 - ETA: 52s - loss: 0.6772 - accuracy: 0.541 - ETA: 48s - loss: 0.6769 - accuracy: 0.550 - ETA: 43s - loss: 0.6747 - accuracy: 0.549 - ETA: 39s - loss: 0.6746 - accuracy: 0.557 - ETA: 35s - loss: 0.6732 - accuracy: 0.562 - ETA: 31s - loss: 0.6707 - accuracy: 0.568 - ETA: 27s - loss: 0.6668 - accuracy: 0.580 - ETA: 23s - loss: 0.6636 - accuracy: 0.592 - ETA: 19s - loss: 0.6594 - accuracy: 0.601 - ETA: 15s - loss: 0.6580 - accuracy: 0.608 - ETA: 12s - loss: 0.6553 - accuracy: 0.615 - ETA: 8s - loss: 0.6531 - accuracy: 0.620 - ETA: 4s - loss: 0.6492 - accuracy: 0.62 - ETA: 0s - loss: 0.6456 - accuracy: 0.63 - 109s 121ms/sample - loss: 0.6457 - accuracy: 0.6344 - val_loss: 0.5639 - val_accuracy: 0.7900\n",
      "Epoch 2/5\n",
      "900/900 [==============================] - ETA: 1:35 - loss: 0.4959 - accuracy: 0.93 - ETA: 1:33 - loss: 0.5203 - accuracy: 0.89 - ETA: 1:31 - loss: 0.5300 - accuracy: 0.86 - ETA: 1:27 - loss: 0.5379 - accuracy: 0.85 - ETA: 1:23 - loss: 0.5508 - accuracy: 0.83 - ETA: 1:20 - loss: 0.5521 - accuracy: 0.83 - ETA: 1:17 - loss: 0.5552 - accuracy: 0.81 - ETA: 1:14 - loss: 0.5603 - accuracy: 0.80 - ETA: 1:10 - loss: 0.5678 - accuracy: 0.78 - ETA: 1:07 - loss: 0.5677 - accuracy: 0.77 - ETA: 1:03 - loss: 0.5722 - accuracy: 0.75 - ETA: 1:00 - loss: 0.5725 - accuracy: 0.75 - ETA: 56s - loss: 0.5691 - accuracy: 0.7620 - ETA: 53s - loss: 0.5644 - accuracy: 0.767 - ETA: 49s - loss: 0.5652 - accuracy: 0.762 - ETA: 45s - loss: 0.5620 - accuracy: 0.767 - ETA: 42s - loss: 0.5592 - accuracy: 0.770 - ETA: 38s - loss: 0.5607 - accuracy: 0.767 - ETA: 34s - loss: 0.5620 - accuracy: 0.764 - ETA: 30s - loss: 0.5581 - accuracy: 0.767 - ETA: 27s - loss: 0.5585 - accuracy: 0.766 - ETA: 23s - loss: 0.5579 - accuracy: 0.765 - ETA: 19s - loss: 0.5554 - accuracy: 0.769 - ETA: 15s - loss: 0.5527 - accuracy: 0.772 - ETA: 11s - loss: 0.5502 - accuracy: 0.776 - ETA: 8s - loss: 0.5511 - accuracy: 0.776 - ETA: 4s - loss: 0.5503 - accuracy: 0.77 - ETA: 0s - loss: 0.5482 - accuracy: 0.77 - 109s 121ms/sample - loss: 0.5480 - accuracy: 0.7778 - val_loss: 0.4860 - val_accuracy: 0.8500\n",
      "Epoch 3/5\n",
      "900/900 [==============================] - ETA: 1:45 - loss: 0.5280 - accuracy: 0.87 - ETA: 1:40 - loss: 0.4849 - accuracy: 0.89 - ETA: 1:37 - loss: 0.4993 - accuracy: 0.86 - ETA: 1:33 - loss: 0.5040 - accuracy: 0.85 - ETA: 1:28 - loss: 0.5084 - accuracy: 0.84 - ETA: 1:25 - loss: 0.4991 - accuracy: 0.84 - ETA: 1:22 - loss: 0.5106 - accuracy: 0.83 - ETA: 1:18 - loss: 0.5070 - accuracy: 0.82 - ETA: 1:14 - loss: 0.5126 - accuracy: 0.82 - ETA: 1:10 - loss: 0.5056 - accuracy: 0.82 - ETA: 1:06 - loss: 0.5117 - accuracy: 0.82 - ETA: 1:03 - loss: 0.5148 - accuracy: 0.81 - ETA: 59s - loss: 0.5178 - accuracy: 0.8005 - ETA: 55s - loss: 0.5208 - accuracy: 0.794 - ETA: 51s - loss: 0.5190 - accuracy: 0.800 - ETA: 48s - loss: 0.5171 - accuracy: 0.802 - ETA: 44s - loss: 0.5145 - accuracy: 0.805 - ETA: 40s - loss: 0.5106 - accuracy: 0.805 - ETA: 36s - loss: 0.5092 - accuracy: 0.801 - ETA: 32s - loss: 0.5104 - accuracy: 0.800 - ETA: 28s - loss: 0.5047 - accuracy: 0.806 - ETA: 24s - loss: 0.4985 - accuracy: 0.815 - ETA: 20s - loss: 0.4984 - accuracy: 0.817 - ETA: 16s - loss: 0.5026 - accuracy: 0.811 - ETA: 12s - loss: 0.5025 - accuracy: 0.808 - ETA: 8s - loss: 0.4984 - accuracy: 0.813 - ETA: 4s - loss: 0.4979 - accuracy: 0.81 - ETA: 0s - loss: 0.4978 - accuracy: 0.81 - 113s 125ms/sample - loss: 0.4974 - accuracy: 0.8167 - val_loss: 0.4395 - val_accuracy: 0.8400\n",
      "Epoch 4/5\n",
      "900/900 [==============================] - ETA: 1:50 - loss: 0.3412 - accuracy: 0.96 - ETA: 1:45 - loss: 0.4241 - accuracy: 0.87 - ETA: 1:43 - loss: 0.4667 - accuracy: 0.84 - ETA: 1:40 - loss: 0.4735 - accuracy: 0.82 - ETA: 1:35 - loss: 0.4835 - accuracy: 0.81 - ETA: 1:31 - loss: 0.4828 - accuracy: 0.81 - ETA: 1:27 - loss: 0.4915 - accuracy: 0.80 - ETA: 1:22 - loss: 0.4952 - accuracy: 0.79 - ETA: 1:18 - loss: 0.4884 - accuracy: 0.80 - ETA: 1:14 - loss: 0.4801 - accuracy: 0.80 - ETA: 1:10 - loss: 0.4798 - accuracy: 0.80 - ETA: 1:06 - loss: 0.4763 - accuracy: 0.81 - ETA: 1:02 - loss: 0.4709 - accuracy: 0.81 - ETA: 57s - loss: 0.4792 - accuracy: 0.8125 - ETA: 53s - loss: 0.4741 - accuracy: 0.816 - ETA: 49s - loss: 0.4678 - accuracy: 0.820 - ETA: 45s - loss: 0.4713 - accuracy: 0.816 - ETA: 41s - loss: 0.4729 - accuracy: 0.814 - ETA: 37s - loss: 0.4757 - accuracy: 0.810 - ETA: 33s - loss: 0.4721 - accuracy: 0.812 - ETA: 29s - loss: 0.4736 - accuracy: 0.811 - ETA: 25s - loss: 0.4767 - accuracy: 0.808 - ETA: 21s - loss: 0.4769 - accuracy: 0.807 - ETA: 16s - loss: 0.4748 - accuracy: 0.809 - ETA: 12s - loss: 0.4722 - accuracy: 0.811 - ETA: 8s - loss: 0.4705 - accuracy: 0.812 - ETA: 4s - loss: 0.4666 - accuracy: 0.81 - ETA: 0s - loss: 0.4634 - accuracy: 0.81 - 117s 130ms/sample - loss: 0.4652 - accuracy: 0.8156 - val_loss: 0.4107 - val_accuracy: 0.8400\n",
      "Epoch 5/5\n",
      "900/900 [==============================] - ETA: 1:52 - loss: 0.4090 - accuracy: 0.81 - ETA: 1:45 - loss: 0.4207 - accuracy: 0.84 - ETA: 1:40 - loss: 0.4415 - accuracy: 0.82 - ETA: 1:36 - loss: 0.4357 - accuracy: 0.84 - ETA: 1:32 - loss: 0.4322 - accuracy: 0.83 - ETA: 1:28 - loss: 0.4307 - accuracy: 0.83 - ETA: 1:25 - loss: 0.4270 - accuracy: 0.84 - ETA: 1:20 - loss: 0.4228 - accuracy: 0.85 - ETA: 1:18 - loss: 0.4212 - accuracy: 0.85 - ETA: 1:14 - loss: 0.4311 - accuracy: 0.84 - ETA: 1:10 - loss: 0.4527 - accuracy: 0.82 - ETA: 1:05 - loss: 0.4498 - accuracy: 0.82 - ETA: 1:02 - loss: 0.4453 - accuracy: 0.82 - ETA: 58s - loss: 0.4454 - accuracy: 0.8259 - ETA: 55s - loss: 0.4365 - accuracy: 0.833 - ETA: 50s - loss: 0.4380 - accuracy: 0.832 - ETA: 46s - loss: 0.4410 - accuracy: 0.829 - ETA: 42s - loss: 0.4389 - accuracy: 0.831 - ETA: 38s - loss: 0.4427 - accuracy: 0.825 - ETA: 33s - loss: 0.4458 - accuracy: 0.823 - ETA: 29s - loss: 0.4443 - accuracy: 0.825 - ETA: 25s - loss: 0.4406 - accuracy: 0.826 - ETA: 21s - loss: 0.4457 - accuracy: 0.819 - ETA: 17s - loss: 0.4485 - accuracy: 0.817 - ETA: 13s - loss: 0.4520 - accuracy: 0.812 - ETA: 8s - loss: 0.4508 - accuracy: 0.812 - ETA: 4s - loss: 0.4486 - accuracy: 0.81 - ETA: 0s - loss: 0.4456 - accuracy: 0.81 - 118s 131ms/sample - loss: 0.4461 - accuracy: 0.8156 - val_loss: 0.3938 - val_accuracy: 0.8400\n"
     ]
    }
   ],
   "source": [
    "history = model.fit(x=train_data.x, y=train_data.y, validation_split=0.1, epochs=5, callbacks=[checkpoint_callback])\n"
   ]
  },
  {
   "cell_type": "markdown",
   "metadata": {},
   "source": [
    "## Restore Weights"
   ]
  },
  {
   "cell_type": "code",
   "execution_count": 12,
   "metadata": {},
   "outputs": [
    {
     "data": {
      "text/plain": [
       "<tensorflow.python.training.tracking.util.CheckpointLoadStatus at 0x21d84ce8668>"
      ]
     },
     "execution_count": 12,
     "metadata": {},
     "output_type": "execute_result"
    }
   ],
   "source": [
    "checkpoint_dir = './training_checkpoints'\n",
    "model.load_weights(tf.train.latest_checkpoint(checkpoint_dir))"
   ]
  },
  {
   "cell_type": "code",
   "execution_count": 20,
   "metadata": {},
   "outputs": [],
   "source": [
    "test_predict = model.predict(test_data.x)"
   ]
  },
  {
   "cell_type": "code",
   "execution_count": 21,
   "metadata": {},
   "outputs": [
    {
     "name": "stdout",
     "output_type": "stream",
     "text": [
      "(6051, 1)\n"
     ]
    }
   ],
   "source": [
    "print(test_predict.shape)"
   ]
  },
  {
   "cell_type": "markdown",
   "metadata": {},
   "source": [
    "## Save Prediction to CSV"
   ]
  },
  {
   "cell_type": "code",
   "execution_count": 23,
   "metadata": {},
   "outputs": [],
   "source": [
    "import csv\n",
    "\n",
    "output_file = 'result.csv'\n",
    "with open(output_file, 'wt', newline='', encoding='utf-8') as output_file:\n",
    "    csv_writer = csv.writer(output_file)\n",
    "    csv_writer.writerow(('Id', 'Predicted'))\n",
    "    for id, predict in enumerate(test_predict):\n",
    "        csv_writer.writerow((id, predict[0]))"
   ]
  },
  {
   "cell_type": "code",
   "execution_count": null,
   "metadata": {},
   "outputs": [],
   "source": []
  }
 ],
 "metadata": {
  "file_extension": ".py",
  "kernelspec": {
   "display_name": "Python 3",
   "language": "python",
   "name": "python3"
  },
  "language_info": {
   "codemirror_mode": {
    "name": "ipython",
    "version": 3
   },
   "file_extension": ".py",
   "mimetype": "text/x-python",
   "name": "python",
   "nbconvert_exporter": "python",
   "pygments_lexer": "ipython3",
   "version": "3.7.3"
  },
  "mimetype": "text/x-python",
  "name": "python",
  "npconvert_exporter": "python",
  "pygments_lexer": "ipython3",
  "version": 3
 },
 "nbformat": 4,
 "nbformat_minor": 4
}
