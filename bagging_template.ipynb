{
 "cells": [
  {
   "cell_type": "markdown",
   "metadata": {},
   "source": [
    "# CS5242"
   ]
  },
  {
   "cell_type": "markdown",
   "metadata": {},
   "source": [
    "## Load Data"
   ]
  },
  {
   "cell_type": "code",
   "execution_count": null,
   "metadata": {},
   "outputs": [],
   "source": [
    "from data import Data\n",
    "import numpy as np\n",
    "\n",
    "full_train = Data(data_type='train')\n",
    "\n",
    "idx = np.random.permutation(len(full_train.x))\n",
    "full_train_x,full_train_y = full_train.x[idx], full_train.y[idx]\n",
    "\n",
    "del full_train\n",
    "\n",
    "val_data_x, train_data_x = full_train_x[:full_train_x.shape[0]//5,:], full_train_x[full_train_x.shape[0]//5:,:]\n",
    "val_data_y,train_data_y = full_train_y[:full_train_y.shape[0]//5,:], full_train_y[full_train_y.shape[0]//5:,:]\n",
    "\n",
    "print(\"Train data: x:\"+ str(train_data_x.shape)+ ' y:'+str(train_data_y.shape))\n",
    "print(\"Validation data: x:\"+ str(val_data_x.shape)+ ' y:'+str(val_data_y.shape))\n",
    "\n"
   ]
  },
  {
   "cell_type": "markdown",
   "metadata": {},
   "source": [
    "## Model"
   ]
  },
  {
   "cell_type": "code",
   "execution_count": null,
   "metadata": {},
   "outputs": [],
   "source": [
    "import tensorflow as tf\n",
    "\n",
    "model_name = 'bagging_template'\n",
    "\n",
    "def create_model(show_summary = False):\n",
    "    model = tf.keras.Sequential([\n",
    "#         tf.keras.layers.Flatten(input_shape=(1000,102)),\n",
    "\n",
    "        tf.keras.layers.Bidirectional(tf.keras.layers.LSTM(128),input_shape=(1000,102)),\n",
    "        tf.keras.layers.Dense(128, activation='relu'),\n",
    "        tf.keras.layers.Dropout(rate=0.3),\n",
    "        tf.keras.layers.Dense(64, activation='relu'),\n",
    "        tf.keras.layers.Dropout(rate=0.3),\n",
    "        tf.keras.layers.Dense(1, activation='sigmoid')\n",
    "])\n",
    "\n",
    "    model.compile(loss='binary_crossentropy',\n",
    "              optimizer=tf.keras.optimizers.Adam(1e-3),\n",
    "              metrics=['accuracy'])\n",
    "    \n",
    "    if show_summary:\n",
    "        model.summary()\n",
    "    \n",
    "    return model\n",
    "    \n",
    "\n"
   ]
  },
  {
   "cell_type": "markdown",
   "metadata": {},
   "source": [
    "## Training with Bagging"
   ]
  },
  {
   "cell_type": "code",
   "execution_count": null,
   "metadata": {},
   "outputs": [],
   "source": [
    "num_of_bags = 10\n",
    "epochs_per_bag = 100\n",
    "\n",
    "import os\n",
    "import matplotlib.pyplot as plt\n",
    "%matplotlib inline\n",
    "\n",
    "for bag in range(num_of_bags):\n",
    "    print(\"Training bag \"+str(bag))\n",
    "\n",
    "    model = create_model(bag==0)\n",
    "    # Directory where the checkpoints will be saved\n",
    "    checkpoint_dir = './checkpoints/' + model_name+ '_bag'+ str(bag)\n",
    "    # Name of the checkpoint files\n",
    "    checkpoint_prefix = os.path.join(checkpoint_dir, \"ckpt_{epoch}\")\n",
    "\n",
    "    checkpoint_callback=tf.keras.callbacks.ModelCheckpoint(\n",
    "        filepath=checkpoint_prefix,\n",
    "        monitor='val_loss',\n",
    "        save_best_only=True,\n",
    "        save_weights_only=True)\n",
    "\n",
    "    early_stopping_callback = tf.keras.callbacks.EarlyStopping(\n",
    "        monitor='val_loss', \n",
    "        min_delta=0, \n",
    "        patience=15, \n",
    "        mode='auto', \n",
    "        restore_best_weights=True)\n",
    "    \n",
    "    \n",
    "    # Put data into bags\n",
    "    idx = np.random.randint(train_data_x.shape[0], size=train_data_x.shape[0]//10*8)\n",
    "    bag_x,bag_y = train_data_x[idx], train_data_y[idx]\n",
    "\n",
    "    history = model.fit(x=bag_x,y=bag_y, validation_data=(val_data_x,val_data_y), epochs=epochs_per_bag,batch_size=64,\n",
    "                    callbacks=[checkpoint_callback,early_stopping_callback], verbose=2,shuffle=True)\n",
    "    \n",
    "    print()\n",
    "    \n",
    "    # Plot training & validation accuracy values\n",
    "    plt.plot(history.history['accuracy'])\n",
    "    plt.plot(history.history['val_accuracy'])\n",
    "    plt.title('Model accuracy')\n",
    "    plt.ylabel('Accuracy')\n",
    "    plt.xlabel('Epoch')\n",
    "    plt.legend(['Train', 'Validation'], loc='upper left')\n",
    "    plt.show()\n",
    "\n",
    "    # Plot training & validation loss values\n",
    "    plt.plot(history.history['loss'])\n",
    "    plt.plot(history.history['val_loss'])\n",
    "    plt.title('Model loss')\n",
    "    plt.ylabel('Loss')\n",
    "    plt.xlabel('Epoch')\n",
    "    plt.legend(['Train', 'Validation'], loc='upper left')\n",
    "    plt.show()\n",
    "    "
   ]
  },
  {
   "cell_type": "markdown",
   "metadata": {},
   "source": [
    "## Restore Weights"
   ]
  },
  {
   "cell_type": "code",
   "execution_count": null,
   "metadata": {},
   "outputs": [],
   "source": [
    "checkpoint_dir = './checkpoints/' + model_name\n",
    "model = create_model()\n",
    "\n",
    "import numpy as np\n",
    "\n",
    "test_data = Data(data_type='test')\n",
    "print(\"Test data: x:\"+ str(test_data.x.shape)+ ' y:'+str(test_data.y.shape))\n",
    "\n",
    "\n",
    "\n",
    "for bag in range(num_of_bags):\n",
    "    checkpoint_dir = './checkpoints/' + model_name+ '_bag'+ str(bag)\n",
    "    model.load_weights(tf.train.latest_checkpoint(checkpoint_dir))\n",
    "    if bag == 0:\n",
    "        predictions = model.predict(test_data.x)\n",
    "    else:\n",
    "        predictions = np.concatenate((predictions,model.predict(test_data.x)),axis=1)\n",
    "print(predictions.shape)\n",
    "\n",
    "avg_predictions = np.mean(predictions, axis=1)\n",
    "print(avg_predictions.shape)"
   ]
  },
  {
   "cell_type": "markdown",
   "metadata": {},
   "source": [
    "\n",
    "\n",
    "## Save Prediction to CSV"
   ]
  },
  {
   "cell_type": "code",
   "execution_count": null,
   "metadata": {},
   "outputs": [],
   "source": [
    "import csv\n",
    "\n",
    "output_file = 'result_' + model_name + '.csv'\n",
    "with open(output_file, 'wt', newline='', encoding='utf-8') as output_file:\n",
    "    csv_writer = csv.writer(output_file)\n",
    "    csv_writer.writerow(('Id', 'Predicted'))\n",
    "    for id, predict in enumerate(avg_predictions):\n",
    "        csv_writer.writerow((id, predict))\n",
    "print('Saved to '+'result_' + model_name + '.csv')"
   ]
  },
  {
   "cell_type": "code",
   "execution_count": null,
   "metadata": {},
   "outputs": [],
   "source": []
  }
 ],
 "metadata": {
  "file_extension": ".py",
  "kernelspec": {
   "display_name": "Python 3",
   "language": "python",
   "name": "python3"
  },
  "language_info": {
   "codemirror_mode": {
    "name": "ipython",
    "version": 3
   },
   "file_extension": ".py",
   "mimetype": "text/x-python",
   "name": "python",
   "nbconvert_exporter": "python",
   "pygments_lexer": "ipython3",
   "version": "3.7.5"
  },
  "mimetype": "text/x-python",
  "name": "python",
  "npconvert_exporter": "python",
  "pygments_lexer": "ipython3",
  "version": 3
 },
 "nbformat": 4,
 "nbformat_minor": 4
}
