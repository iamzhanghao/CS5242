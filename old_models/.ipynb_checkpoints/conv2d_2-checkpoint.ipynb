{
 "cells": [
  {
   "cell_type": "markdown",
   "metadata": {},
   "source": [
    "# CS5242"
   ]
  },
  {
   "cell_type": "markdown",
   "metadata": {},
   "source": [
    "## Load Data"
   ]
  },
  {
   "cell_type": "code",
   "execution_count": 1,
   "metadata": {},
   "outputs": [
    {
     "name": "stderr",
     "output_type": "stream",
     "text": [
      "Loading train data 18662/18662: 100%|█████████████████████████████████████████████████████████████ [ time left: 00:00 ]\n",
      "Loading test data 6051/6051: 100%|████████████████████████████████████████████████████████████████ [ time left: 00:00 ]\n"
     ]
    },
    {
     "name": "stdout",
     "output_type": "stream",
     "text": [
      "Train data: x:(18662, 1000, 102) y:(18662, 1)\n",
      "Test data: x:(6051, 1000, 102) y:(6051, 1)\n"
     ]
    }
   ],
   "source": [
    "from data import Data\n",
    "\n",
    "train_data = Data(data_type='train')\n",
    "test_data = Data(data_type='test')\n",
    "\n",
    "print(\"Train data: x:\"+ str(train_data.x.shape)+ ' y:'+str(train_data.y.shape))\n",
    "print(\"Test data: x:\"+ str(test_data.x.shape)+ ' y:'+str(test_data.y.shape))\n",
    "\n"
   ]
  },
  {
   "cell_type": "markdown",
   "metadata": {},
   "source": [
    "## Model"
   ]
  },
  {
   "cell_type": "code",
   "execution_count": 2,
   "metadata": {},
   "outputs": [
    {
     "name": "stdout",
     "output_type": "stream",
     "text": [
      "Model: \"sequential\"\n",
      "_________________________________________________________________\n",
      "Layer (type)                 Output Shape              Param #   \n",
      "=================================================================\n",
      "reshape (Reshape)            (None, 1000, 102, 1)      0         \n",
      "_________________________________________________________________\n",
      "conv2d (Conv2D)              (None, 491, 51, 64)       2624      \n",
      "_________________________________________________________________\n",
      "max_pooling2d (MaxPooling2D) (None, 245, 25, 64)       0         \n",
      "_________________________________________________________________\n",
      "conv2d_1 (Conv2D)            (None, 113, 12, 32)       81952     \n",
      "_________________________________________________________________\n",
      "max_pooling2d_1 (MaxPooling2 (None, 56, 6, 32)         0         \n",
      "_________________________________________________________________\n",
      "reshape_1 (Reshape)          (None, 56, 192)           0         \n",
      "_________________________________________________________________\n",
      "lstm (LSTM)                  (None, 64)                65792     \n",
      "_________________________________________________________________\n",
      "dense (Dense)                (None, 32)                2080      \n",
      "_________________________________________________________________\n",
      "dense_1 (Dense)              (None, 1)                 33        \n",
      "=================================================================\n",
      "Total params: 152,481\n",
      "Trainable params: 152,481\n",
      "Non-trainable params: 0\n",
      "_________________________________________________________________\n"
     ]
    }
   ],
   "source": [
    "import tensorflow as tf\n",
    "\n",
    "\n",
    "model_name = 'conv2d'\n",
    "\n",
    "model = tf.keras.Sequential([\n",
    "    # tf.keras.layers.Permute((2, 1), input_shape=(1000, 102)),\n",
    "    # tf.keras.layers.Conv1D(filters=16,kernel_size=4,strides=4,activation='relu')\n",
    "    # tf.keras.layers.Reshape((-1,400,), input_shape=(None,None,25,16)),\n",
    "    # \n",
    "    tf.keras.layers.Reshape(target_shape=(1000,102,1),input_shape=(1000,102)),\n",
    "\n",
    "    tf.keras.layers.Conv2D(filters=64, kernel_size=(20, 2),strides=2,input_shape=( 1000, 102,1),padding='valid'),\n",
    "    tf.keras.layers.MaxPooling2D(pool_size=(2, 2), strides=2, padding='valid'),\n",
    "    tf.keras.layers.Dropout(rate=0.3),\n",
    "    tf.keras.layers.Conv2D(filters=32, kernel_size=(20, 2),strides=2,padding='valid'),\n",
    "    tf.keras.layers.MaxPooling2D(pool_size=(2, 2), strides=2, padding='valid'),\n",
    "    tf.keras.layers.Reshape(target_shape=(56,6*32)),\n",
    "    tf.keras.layers.Dropout(rate=0.3),\n",
    "\n",
    "\n",
    "    tf.keras.layers.Bidirectional(tf.keras.layers.LSTM(64,return_sequences=True)),\n",
    "\n",
    "\n",
    "\n",
    "\n",
    "#     tf.keras.layers.TimeDistributed(tf.keras.layers.Conv1D(filters=16,kernel_size=4,strides=4),input_shape=(1000,102,1)),\n",
    "#     # tf.keras.layers.Conv1D(filters=128,kernel_size=4,strides=4,data_format=\"channels_first\",input_shape=(1000,102)),\n",
    "#     tf.keras.layers.Reshape(target_shape=(1000,16*25)),\n",
    "\n",
    "    \n",
    "#     # tf.keras.layers.LSTM(128,return_sequences=True),\n",
    "#     tf.keras.layers.LSTM(64),\n",
    "\n",
    "# #     tf.keras.layers.Dropout(rate=0.5),\n",
    "    tf.keras.layers.Dense(32, activation='relu'),\n",
    "#     # tf.keras.layers.Dropout(rate=0.5),\n",
    "    tf.keras.layers.Dense(1, activation='sigmoid')\n",
    "])\n",
    "\n",
    "model.compile(loss='binary_crossentropy',\n",
    "              optimizer=tf.keras.optimizers.Adam(1e-3),\n",
    "              metrics=['accuracy'])\n",
    "\n",
    "model.summary()"
   ]
  },
  {
   "cell_type": "markdown",
   "metadata": {},
   "source": [
    "## Save Checkpoint"
   ]
  },
  {
   "cell_type": "code",
   "execution_count": 3,
   "metadata": {},
   "outputs": [],
   "source": [
    "import os\n",
    "# Directory where the checkpoints will be saved\n",
    "checkpoint_dir = './checkpoints/' + model_name\n",
    "# Name of the checkpoint files\n",
    "checkpoint_prefix = os.path.join(checkpoint_dir, \"ckpt_{epoch}\")\n",
    "\n",
    "checkpoint_callback=tf.keras.callbacks.ModelCheckpoint(\n",
    "    filepath=checkpoint_prefix,\n",
    "    monitor='val_loss',\n",
    "    save_best_only=True,\n",
    "    save_weights_only=True)"
   ]
  },
  {
   "cell_type": "markdown",
   "metadata": {},
   "source": [
    "## Training"
   ]
  },
  {
   "cell_type": "code",
   "execution_count": 4,
   "metadata": {},
   "outputs": [
    {
     "name": "stdout",
     "output_type": "stream",
     "text": [
      "Train on 16795 samples, validate on 1867 samples\n",
      "Epoch 1/30\n",
      "16795/16795 - 19s - loss: 0.4234 - accuracy: 0.8142 - val_loss: 0.4262 - val_accuracy: 0.8259\n",
      "Epoch 2/30\n",
      "16795/16795 - 16s - loss: 0.3659 - accuracy: 0.8501 - val_loss: 0.4084 - val_accuracy: 0.8506\n",
      "Epoch 3/30\n",
      "16795/16795 - 16s - loss: 0.3084 - accuracy: 0.8681 - val_loss: 0.3355 - val_accuracy: 0.8640\n",
      "Epoch 4/30\n",
      "16795/16795 - 16s - loss: 0.2740 - accuracy: 0.8828 - val_loss: 0.2883 - val_accuracy: 0.8779\n",
      "Epoch 5/30\n",
      "16795/16795 - 16s - loss: 0.2501 - accuracy: 0.8973 - val_loss: 0.2687 - val_accuracy: 0.8897\n",
      "Epoch 6/30\n",
      "16795/16795 - 16s - loss: 0.2265 - accuracy: 0.9078 - val_loss: 0.2922 - val_accuracy: 0.8784\n",
      "Epoch 7/30\n",
      "16795/16795 - 16s - loss: 0.2471 - accuracy: 0.8997 - val_loss: 0.2679 - val_accuracy: 0.8886\n",
      "Epoch 8/30\n",
      "16795/16795 - 16s - loss: 0.2235 - accuracy: 0.9074 - val_loss: 0.2552 - val_accuracy: 0.9057\n",
      "Epoch 9/30\n",
      "16795/16795 - 17s - loss: 0.2149 - accuracy: 0.9132 - val_loss: 0.2536 - val_accuracy: 0.9014\n",
      "Epoch 10/30\n",
      "16795/16795 - 16s - loss: 0.2034 - accuracy: 0.9194 - val_loss: 0.2810 - val_accuracy: 0.8848\n",
      "Epoch 11/30\n",
      "16795/16795 - 17s - loss: 0.2196 - accuracy: 0.9113 - val_loss: 0.2509 - val_accuracy: 0.9009\n",
      "Epoch 12/30\n",
      "16795/16795 - 16s - loss: 0.2052 - accuracy: 0.9145 - val_loss: 0.2670 - val_accuracy: 0.8977\n",
      "Epoch 13/30\n",
      "16795/16795 - 17s - loss: 0.1910 - accuracy: 0.9218 - val_loss: 0.2361 - val_accuracy: 0.9025\n",
      "Epoch 14/30\n",
      "16795/16795 - 17s - loss: 0.1880 - accuracy: 0.9223 - val_loss: 0.2327 - val_accuracy: 0.9095\n",
      "Epoch 15/30\n",
      "16795/16795 - 17s - loss: 0.1776 - accuracy: 0.9288 - val_loss: 0.2421 - val_accuracy: 0.9111\n",
      "Epoch 16/30\n",
      "16795/16795 - 17s - loss: 0.1833 - accuracy: 0.9233 - val_loss: 0.2595 - val_accuracy: 0.8956\n",
      "Epoch 17/30\n",
      "16795/16795 - 17s - loss: 0.1922 - accuracy: 0.9199 - val_loss: 0.2368 - val_accuracy: 0.8988\n",
      "Epoch 18/30\n",
      "16795/16795 - 17s - loss: 0.1736 - accuracy: 0.9291 - val_loss: 0.2490 - val_accuracy: 0.9106\n",
      "Epoch 19/30\n",
      "16795/16795 - 17s - loss: 0.1716 - accuracy: 0.9307 - val_loss: 0.2250 - val_accuracy: 0.9127\n",
      "Epoch 20/30\n",
      "16795/16795 - 17s - loss: 0.1730 - accuracy: 0.9303 - val_loss: 0.2352 - val_accuracy: 0.9079\n",
      "Epoch 21/30\n",
      "16795/16795 - 26s - loss: 0.1794 - accuracy: 0.9275 - val_loss: 0.2243 - val_accuracy: 0.9057\n",
      "Epoch 22/30\n",
      "16795/16795 - 17s - loss: 0.1789 - accuracy: 0.9265 - val_loss: 0.2181 - val_accuracy: 0.9207\n",
      "Epoch 23/30\n",
      "16795/16795 - 17s - loss: 0.1683 - accuracy: 0.9337 - val_loss: 0.2320 - val_accuracy: 0.9036\n",
      "Epoch 24/30\n",
      "16795/16795 - 17s - loss: 0.1660 - accuracy: 0.9328 - val_loss: 0.2197 - val_accuracy: 0.9191\n",
      "Epoch 25/30\n",
      "16795/16795 - 17s - loss: 0.1682 - accuracy: 0.9327 - val_loss: 0.2201 - val_accuracy: 0.9116\n",
      "Epoch 26/30\n",
      "16795/16795 - 17s - loss: 0.1575 - accuracy: 0.9349 - val_loss: 0.2518 - val_accuracy: 0.9014\n",
      "Epoch 27/30\n",
      "16795/16795 - 17s - loss: 0.1622 - accuracy: 0.9344 - val_loss: 0.2136 - val_accuracy: 0.9207\n",
      "Epoch 28/30\n",
      "16795/16795 - 17s - loss: 0.1528 - accuracy: 0.9386 - val_loss: 0.2145 - val_accuracy: 0.9170\n",
      "Epoch 29/30\n",
      "16795/16795 - 17s - loss: 0.1476 - accuracy: 0.9412 - val_loss: 0.2227 - val_accuracy: 0.9154\n",
      "Epoch 30/30\n",
      "16795/16795 - 17s - loss: 0.1527 - accuracy: 0.9397 - val_loss: 0.2109 - val_accuracy: 0.9213\n"
     ]
    }
   ],
   "source": [
    "history = model.fit(x=train_data.x, y=train_data.y, validation_split=0.1, epochs=30,batch_size=64,\n",
    "                    callbacks=[checkpoint_callback], verbose=2,shuffle=True)"
   ]
  },
  {
   "cell_type": "markdown",
   "metadata": {},
   "source": [
    "## Plot Training History"
   ]
  },
  {
   "cell_type": "code",
   "execution_count": 5,
   "metadata": {},
   "outputs": [
    {
     "data": {
      "image/png": "[encoded data removed]",
      "text/plain": [
       "<Figure size 432x288 with 1 Axes>"
      ]
     },
     "metadata": {
      "needs_background": "light"
     },
     "output_type": "display_data"
    },
    {
     "data": {
      "image/png": "[encoded data removed]",
      "text/plain": [
       "<Figure size 432x288 with 1 Axes>"
      ]
     },
     "metadata": {
      "needs_background": "light"
     },
     "output_type": "display_data"
    }
   ],
   "source": [
    "import matplotlib.pyplot as plt\n",
    "%matplotlib inline\n",
    "# Plot training & validation accuracy values\n",
    "plt.plot(history.history['accuracy'])\n",
    "plt.plot(history.history['val_accuracy'])\n",
    "plt.title('Model accuracy')\n",
    "plt.ylabel('Accuracy')\n",
    "plt.xlabel('Epoch')\n",
    "plt.legend(['Train', 'Validation'], loc='upper left')\n",
    "plt.show()\n",
    "\n",
    "# Plot training & validation loss values\n",
    "plt.plot(history.history['loss'])\n",
    "plt.plot(history.history['val_loss'])\n",
    "plt.title('Model loss')\n",
    "plt.ylabel('Loss')\n",
    "plt.xlabel('Epoch')\n",
    "plt.legend(['Train', 'Validation'], loc='upper left')\n",
    "plt.show()"
   ]
  },
  {
   "cell_type": "markdown",
   "metadata": {},
   "source": [
    "## Model Summary"
   ]
  },
  {
   "cell_type": "code",
   "execution_count": 6,
   "metadata": {},
   "outputs": [
    {
     "name": "stdout",
     "output_type": "stream",
     "text": [
      "Model: \"sequential\"\n",
      "_________________________________________________________________\n",
      "Layer (type)                 Output Shape              Param #   \n",
      "=================================================================\n",
      "reshape (Reshape)            (None, 1000, 102, 1)      0         \n",
      "_________________________________________________________________\n",
      "conv2d (Conv2D)              (None, 491, 51, 64)       2624      \n",
      "_________________________________________________________________\n",
      "max_pooling2d (MaxPooling2D) (None, 245, 25, 64)       0         \n",
      "_________________________________________________________________\n",
      "conv2d_1 (Conv2D)            (None, 113, 12, 32)       81952     \n",
      "_________________________________________________________________\n",
      "max_pooling2d_1 (MaxPooling2 (None, 56, 6, 32)         0         \n",
      "_________________________________________________________________\n",
      "reshape_1 (Reshape)          (None, 56, 192)           0         \n",
      "_________________________________________________________________\n",
      "lstm (LSTM)                  (None, 64)                65792     \n",
      "_________________________________________________________________\n",
      "dense (Dense)                (None, 32)                2080      \n",
      "_________________________________________________________________\n",
      "dense_1 (Dense)              (None, 1)                 33        \n",
      "=================================================================\n",
      "Total params: 152,481\n",
      "Trainable params: 152,481\n",
      "Non-trainable params: 0\n",
      "_________________________________________________________________\n"
     ]
    }
   ],
   "source": [
    "model.summary()"
   ]
  },
  {
   "cell_type": "markdown",
   "metadata": {},
   "source": [
    "## Restore Weights"
   ]
  },
  {
   "cell_type": "code",
   "execution_count": 7,
   "metadata": {},
   "outputs": [
    {
     "data": {
      "text/plain": [
       "<tensorflow.python.training.tracking.util.CheckpointLoadStatus at 0x230ac613188>"
      ]
     },
     "execution_count": 7,
     "metadata": {},
     "output_type": "execute_result"
    }
   ],
   "source": [
    "checkpoint_dir = './checkpoints/' + model_name\n",
    "model.load_weights(tf.train.latest_checkpoint(checkpoint_dir))"
   ]
  },
  {
   "cell_type": "code",
   "execution_count": 8,
   "metadata": {},
   "outputs": [
    {
     "name": "stdout",
     "output_type": "stream",
     "text": [
      "(6051, 1)\n"
     ]
    }
   ],
   "source": [
    "test_predict = model.predict(test_data.x)\n",
    "print(test_predict.shape)"
   ]
  },
  {
   "cell_type": "markdown",
   "metadata": {},
   "source": [
    "\n",
    "\n",
    "## Save Prediction to CSV"
   ]
  },
  {
   "cell_type": "code",
   "execution_count": 9,
   "metadata": {},
   "outputs": [
    {
     "ename": "IndexError",
     "evalue": "invalid index to scalar variable.",
     "output_type": "error",
     "traceback": [
      "\u001b[1;31m---------------------------------------------------------------------------\u001b[0m",
      "\u001b[1;31mIndexError\u001b[0m                                Traceback (most recent call last)",
      "\u001b[1;32m<ipython-input-9-f5f17ba5f580>\u001b[0m in \u001b[0;36m<module>\u001b[1;34m\u001b[0m\n\u001b[0;32m      6\u001b[0m     \u001b[0mcsv_writer\u001b[0m\u001b[1;33m.\u001b[0m\u001b[0mwriterow\u001b[0m\u001b[1;33m(\u001b[0m\u001b[1;33m(\u001b[0m\u001b[1;34m'Id'\u001b[0m\u001b[1;33m,\u001b[0m \u001b[1;34m'Predicted'\u001b[0m\u001b[1;33m)\u001b[0m\u001b[1;33m)\u001b[0m\u001b[1;33m\u001b[0m\u001b[1;33m\u001b[0m\u001b[0m\n\u001b[0;32m      7\u001b[0m     \u001b[1;32mfor\u001b[0m \u001b[0mid\u001b[0m\u001b[1;33m,\u001b[0m \u001b[0mpredict\u001b[0m \u001b[1;32min\u001b[0m \u001b[0menumerate\u001b[0m\u001b[1;33m(\u001b[0m\u001b[0mtest_predict\u001b[0m\u001b[1;33m)\u001b[0m\u001b[1;33m:\u001b[0m\u001b[1;33m\u001b[0m\u001b[1;33m\u001b[0m\u001b[0m\n\u001b[1;32m----> 8\u001b[1;33m         \u001b[0mcsv_writer\u001b[0m\u001b[1;33m.\u001b[0m\u001b[0mwriterow\u001b[0m\u001b[1;33m(\u001b[0m\u001b[1;33m(\u001b[0m\u001b[0mid\u001b[0m\u001b[1;33m,\u001b[0m \u001b[0mpredict\u001b[0m\u001b[1;33m[\u001b[0m\u001b[1;36m0\u001b[0m\u001b[1;33m]\u001b[0m\u001b[1;33m[\u001b[0m\u001b[1;36m0\u001b[0m\u001b[1;33m]\u001b[0m\u001b[1;33m)\u001b[0m\u001b[1;33m)\u001b[0m\u001b[1;33m\u001b[0m\u001b[1;33m\u001b[0m\u001b[0m\n\u001b[0m",
      "\u001b[1;31mIndexError\u001b[0m: invalid index to scalar variable."
     ]
    }
   ],
   "source": [
    "import csv\n",
    "\n",
    "output_file = 'result_' + model_name + '.csv'\n",
    "with open(output_file, 'wt', newline='', encoding='utf-8') as output_file:\n",
    "    csv_writer = csv.writer(output_file)\n",
    "    csv_writer.writerow(('Id', 'Predicted'))\n",
    "    for id, predict in enumerate(test_predict):\n",
    "        csv_writer.writerow((id, predict[0][0]))"
   ]
  },
  {
   "cell_type": "code",
   "execution_count": null,
   "metadata": {},
   "outputs": [],
   "source": []
  }
 ],
 "metadata": {
  "file_extension": ".py",
  "kernelspec": {
   "display_name": "Python 3",
   "language": "python",
   "name": "python3"
  },
  "language_info": {
   "codemirror_mode": {
    "name": "ipython",
    "version": 3
   },
   "file_extension": ".py",
   "mimetype": "text/x-python",
   "name": "python",
   "nbconvert_exporter": "python",
   "pygments_lexer": "ipython3",
   "version": "3.7.5"
  },
  "mimetype": "text/x-python",
  "name": "python",
  "npconvert_exporter": "python",
  "pygments_lexer": "ipython3",
  "version": 3
 },
 "nbformat": 4,
 "nbformat_minor": 4
}
