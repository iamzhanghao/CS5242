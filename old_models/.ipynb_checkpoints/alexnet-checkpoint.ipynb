{
 "cells": [
  {
   "cell_type": "markdown",
   "metadata": {},
   "source": [
    "# CS5242"
   ]
  },
  {
   "cell_type": "markdown",
   "metadata": {},
   "source": [
    "## Load Data"
   ]
  },
  {
   "cell_type": "code",
   "execution_count": 1,
   "metadata": {},
   "outputs": [
    {
     "name": "stderr",
     "output_type": "stream",
     "text": [
      "Loading train data 18662/18662: 100%|█████████████████████████████████████████████████████████████ [ time left: 00:00 ]\n",
      "Loading test data 6051/6051: 100%|████████████████████████████████████████████████████████████████ [ time left: 00:00 ]\n"
     ]
    },
    {
     "name": "stdout",
     "output_type": "stream",
     "text": [
      "Train data: x:(18662, 1000, 102) y:(18662, 1)\n",
      "Test data: x:(6051, 1000, 102) y:(6051, 1)\n"
     ]
    }
   ],
   "source": [
    "from data import Data\n",
    "\n",
    "train_data = Data(data_type='train')\n",
    "test_data = Data(data_type='test')\n",
    "\n",
    "print(\"Train data: x:\"+ str(train_data.x.shape)+ ' y:'+str(train_data.y.shape))\n",
    "print(\"Test data: x:\"+ str(test_data.x.shape)+ ' y:'+str(test_data.y.shape))\n",
    "\n"
   ]
  },
  {
   "cell_type": "markdown",
   "metadata": {},
   "source": [
    "## Model"
   ]
  },
  {
   "cell_type": "code",
   "execution_count": 2,
   "metadata": {},
   "outputs": [
    {
     "name": "stdout",
     "output_type": "stream",
     "text": [
      "Model: \"sequential\"\n",
      "_________________________________________________________________\n",
      "Layer (type)                 Output Shape              Param #   \n",
      "=================================================================\n",
      "reshape (Reshape)            (None, 1000, 102, 1)      0         \n",
      "_________________________________________________________________\n",
      "conv2d (Conv2D)              (None, 248, 101, 96)      2016      \n",
      "_________________________________________________________________\n",
      "activation (Activation)      (None, 248, 101, 96)      0         \n",
      "_________________________________________________________________\n",
      "max_pooling2d (MaxPooling2D) (None, 124, 50, 96)       0         \n",
      "_________________________________________________________________\n",
      "conv2d_1 (Conv2D)            (None, 29, 49, 256)       491776    \n",
      "_________________________________________________________________\n",
      "activation_1 (Activation)    (None, 29, 49, 256)       0         \n",
      "_________________________________________________________________\n",
      "max_pooling2d_1 (MaxPooling2 (None, 14, 24, 256)       0         \n",
      "_________________________________________________________________\n",
      "conv2d_2 (Conv2D)            (None, 12, 22, 384)       885120    \n",
      "_________________________________________________________________\n",
      "activation_2 (Activation)    (None, 12, 22, 384)       0         \n",
      "_________________________________________________________________\n",
      "conv2d_3 (Conv2D)            (None, 10, 20, 384)       1327488   \n",
      "_________________________________________________________________\n",
      "activation_3 (Activation)    (None, 10, 20, 384)       0         \n",
      "_________________________________________________________________\n",
      "conv2d_4 (Conv2D)            (None, 8, 18, 256)        884992    \n",
      "_________________________________________________________________\n",
      "activation_4 (Activation)    (None, 8, 18, 256)        0         \n",
      "_________________________________________________________________\n",
      "max_pooling2d_2 (MaxPooling2 (None, 4, 9, 256)         0         \n",
      "_________________________________________________________________\n",
      "flatten (Flatten)            (None, 9216)              0         \n",
      "_________________________________________________________________\n",
      "dense (Dense)                (None, 4096)              37752832  \n",
      "_________________________________________________________________\n",
      "dropout (Dropout)            (None, 4096)              0         \n",
      "_________________________________________________________________\n",
      "dense_1 (Dense)              (None, 256)               1048832   \n",
      "_________________________________________________________________\n",
      "dropout_1 (Dropout)          (None, 256)               0         \n",
      "_________________________________________________________________\n",
      "dense_2 (Dense)              (None, 1)                 257       \n",
      "=================================================================\n",
      "Total params: 42,393,313\n",
      "Trainable params: 42,393,313\n",
      "Non-trainable params: 0\n",
      "_________________________________________________________________\n"
     ]
    }
   ],
   "source": [
    "\n",
    "\n",
    "# model = Sequential()\n",
    "\n",
    "# tf.keras.layers.Reshape(target_shape=(1000, 102, 1), input_shape=(1000, 102)),\n",
    "\n",
    "# # 1st Convolutional Layer\n",
    "# model.add(tf.keras.layers.Conv2D(filters=96,  kernel_size=(\n",
    "#     11, 11), strides=(4, 4), padding='valid'))\n",
    "# model.add(Activation('relu'))\n",
    "# # Max Pooling\n",
    "# model.add(MaxPooling2D(pool_size=(2, 2), strides=(2, 2), padding='valid'))\n",
    "\n",
    "# # 2nd Convolutional Layer\n",
    "# model.add(Conv2D(filters=256, kernel_size=(\n",
    "#     11, 11), strides=(1, 1), padding='valid'))\n",
    "# model.add(Activation('relu'))\n",
    "# # Max Pooling\n",
    "# model.add(MaxPooling2D(pool_size=(2, 2), strides=(2, 2), padding='valid'))\n",
    "\n",
    "# # 3rd Convolutional Layer\n",
    "# model.add(Conv2D(filters=384, kernel_size=(\n",
    "#     3, 3), strides=(1, 1), padding='valid'))\n",
    "# model.add(Activation('relu'))\n",
    "\n",
    "# # 4th Convolutional Layer\n",
    "# model.add(Conv2D(filters=384, kernel_size=(\n",
    "#     3, 3), strides=(1, 1), padding='valid'))\n",
    "# model.add(Activation('relu'))\n",
    "\n",
    "# # 5th Convolutional Layer\n",
    "# model.add(Conv2D(filters=256, kernel_size=(\n",
    "#     3, 3), strides=(1, 1), padding='valid'))\n",
    "# model.add(Activation('relu'))\n",
    "# # Max Pooling\n",
    "# model.add(MaxPooling2D(pool_size=(2, 2), strides=(2, 2), padding='valid'))\n",
    "\n",
    "# # Passing it to a Fully Connected layer\n",
    "# model.add(Flatten())\n",
    "# # 1st Fully Connected Layer\n",
    "# model.add(Dense(4096, input_shape=(224*224*3,)))\n",
    "# model.add(Activation('relu'))\n",
    "# # Add Dropout to prevent overfitting\n",
    "# model.add(Dropout(0.4))\n",
    "\n",
    "# # 2nd Fully Connected Layer\n",
    "# model.add(Dense(4096))\n",
    "# model.add(Activation('relu'))\n",
    "# # Add Dropout\n",
    "# model.add(Dropout(0.4))\n",
    "\n",
    "# # 3rd Fully Connected Layer\n",
    "# model.add(Dense(1000))\n",
    "# model.add(Activation('relu'))\n",
    "# # Add Dropout\n",
    "# model.add(Dropout(0.4))\n",
    "\n",
    "# # Output Layer\n",
    "# model.add(Dense(17))\n",
    "# model.add(Activation('softmax'))\n",
    "\n",
    "# model.summary()\n",
    "# model.compile(loss='binary_crossentropy',\n",
    "#               optimizer=tf.keras.optimizers.Adam(1e-3),\n",
    "#               metrics=['accuracy'])\n",
    "\n",
    "# model.summary()\n",
    "\n",
    "\n",
    "import tensorflow as tf\n",
    "\n",
    "physical_devices = tf.config.experimental.list_physical_devices('GPU')\n",
    "tf.config.experimental.set_memory_growth(physical_devices[0], True)\n",
    "\n",
    "model_name = 'alexnet'\n",
    "\n",
    "\n",
    "model = tf.keras.Sequential([\n",
    "    # tf.keras.layers.Permute((2, 1), input_shape=(1000, 102)),\n",
    "    # tf.keras.layers.Conv1D(filters=16,kernel_size=4,strides=4,activation='relu')\n",
    "    # tf.keras.layers.Reshape((-1,400,), input_shape=(None,None,25,16)),\n",
    "    #\n",
    "    tf.keras.layers.Reshape(target_shape=(\n",
    "        1000, 102, 1), input_shape=(1000, 102)),\n",
    "\n",
    "\n",
    "    # Conv 1\n",
    "    tf.keras.layers.Conv2D(filters=96, kernel_size=(\n",
    "        10, 2), strides=(4, 1), input_shape=(1000, 102, 1), padding='valid'),\n",
    "    tf.keras.layers.Activation('relu'),\n",
    "    tf.keras.layers.MaxPooling2D(pool_size=(\n",
    "        2, 2), strides=(2, 2), padding='valid'),\n",
    "\n",
    "    # Conv 2\n",
    "    tf.keras.layers.Conv2D(filters=256, kernel_size=(\n",
    "        10, 2), strides=(4, 1), input_shape=(1000, 102, 1), padding='valid'),\n",
    "    tf.keras.layers.Activation('relu'),\n",
    "    tf.keras.layers.MaxPooling2D(pool_size=(\n",
    "        2, 2), strides=(2, 2), padding='valid'),\n",
    "\n",
    "    # Conv 3\n",
    "    tf.keras.layers.Conv2D(filters=384, kernel_size=(\n",
    "        3, 3), strides=(1, 1), padding='valid'),\n",
    "    tf.keras.layers.Activation('relu'),\n",
    "\n",
    "    # Conv 4\n",
    "    tf.keras.layers.Conv2D(filters=384, kernel_size=(\n",
    "        3, 3), strides=(1, 1), padding='valid'),\n",
    "    tf.keras.layers.Activation('relu'),\n",
    "\n",
    "    # Conv 5\n",
    "    tf.keras.layers.Conv2D(filters=256, kernel_size=(\n",
    "        3, 3), strides=(1, 1), padding='valid'),\n",
    "    tf.keras.layers.Activation('relu'),\n",
    "    tf.keras.layers.MaxPooling2D(pool_size=(\n",
    "        2, 2), strides=(2, 2), padding='valid'),\n",
    "\n",
    "\n",
    "    tf.keras.layers.Flatten(),\n",
    "    tf.keras.layers.Dense(4096, activation='relu'),\n",
    "    tf.keras.layers.Dropout(rate=0.4),\n",
    "\n",
    "    tf.keras.layers.Dense(256, activation='relu'),\n",
    "    tf.keras.layers.Dropout(rate=0.4),\n",
    "\n",
    "    tf.keras.layers.Dense(1, activation='sigmoid'),\n",
    "\n",
    "\n",
    "\n",
    "\n",
    "\n",
    "\n",
    "\n",
    "\n",
    "    # tf.keras.layers.Dropout(rate=0.3),\n",
    "    # tf.keras.layers.Conv2D(filters=64, kernel_size=(\n",
    "    #     10, 2), strides=2, padding='valid'),\n",
    "    # tf.keras.layers.MaxPooling2D(pool_size=(2, 2), strides=1, padding='valid'),\n",
    "    # tf.keras.layers.Reshape(target_shape=(117, 11*64)),\n",
    "    # tf.keras.layers.Dropout(rate=0.3),\n",
    "\n",
    "\n",
    "    # tf.keras.layers.Bidirectional(\n",
    "    #     tf.keras.layers.LSTM(64, return_sequences=True)),\n",
    "    # tf.keras.layers.Bidirectional(tf.keras.layers.LSTM(32)),\n",
    "\n",
    "    # #     tf.keras.layers.TimeDistributed(tf.keras.layers.Conv1D(filters=16,kernel_size=4,strides=4),input_shape=(1000,102,1)),\n",
    "    # #     # tf.keras.layers.Conv1D(filters=128,kernel_size=4,strides=4,data_format=\"channels_first\",input_shape=(1000,102)),\n",
    "    # #     tf.keras.layers.Reshape(target_shape=(1000,16*25)),\n",
    "\n",
    "\n",
    "    # #     # tf.keras.layers.LSTM(128,return_sequences=True),\n",
    "    # #     tf.keras.layers.LSTM(64),\n",
    "\n",
    "    # # #     tf.keras.layers.Dropout(rate=0.5),\n",
    "    # tf.keras.layers.Dense(32, activation='relu'),\n",
    "    # #     # tf.keras.layers.Dropout(rate=0.5),\n",
    "    # tf.keras.layers.Dense(1, activation='sigmoid')\n",
    "])\n",
    "\n",
    "model.compile(loss='binary_crossentropy',\n",
    "              optimizer=tf.keras.optimizers.Adam(1e-3),\n",
    "              metrics=['accuracy'])\n",
    "\n",
    "model.summary()\n"
   ]
  },
  {
   "cell_type": "markdown",
   "metadata": {},
   "source": [
    "## Save Checkpoint"
   ]
  },
  {
   "cell_type": "code",
   "execution_count": 3,
   "metadata": {},
   "outputs": [],
   "source": [
    "import os\n",
    "# Directory where the checkpoints will be saved\n",
    "checkpoint_dir = './checkpoints/' + model_name\n",
    "# Name of the checkpoint files\n",
    "checkpoint_prefix = os.path.join(checkpoint_dir, \"ckpt_{epoch}\")\n",
    "\n",
    "checkpoint_callback=tf.keras.callbacks.ModelCheckpoint(\n",
    "    filepath=checkpoint_prefix,\n",
    "    monitor='val_loss',\n",
    "    save_best_only=True,\n",
    "    save_weights_only=True)"
   ]
  },
  {
   "cell_type": "markdown",
   "metadata": {},
   "source": [
    "## Training"
   ]
  },
  {
   "cell_type": "code",
   "execution_count": 4,
   "metadata": {},
   "outputs": [
    {
     "name": "stdout",
     "output_type": "stream",
     "text": [
      "Train on 16795 samples, validate on 1867 samples\n",
      "Epoch 1/30\n",
      "16795/16795 - 61s - loss: 0.3796 - accuracy: 0.8405 - val_loss: 0.4133 - val_accuracy: 0.8125\n",
      "Epoch 2/30\n",
      "16795/16795 - 59s - loss: 0.3037 - accuracy: 0.8706 - val_loss: 0.3493 - val_accuracy: 0.8773\n",
      "Epoch 3/30\n",
      "16795/16795 - 60s - loss: 0.2524 - accuracy: 0.8968 - val_loss: 0.2578 - val_accuracy: 0.8918\n",
      "Epoch 4/30\n",
      "16795/16795 - 58s - loss: 0.2091 - accuracy: 0.9157 - val_loss: 0.2614 - val_accuracy: 0.8875\n",
      "Epoch 5/30\n",
      "16795/16795 - 58s - loss: 0.1906 - accuracy: 0.9276 - val_loss: 0.2571 - val_accuracy: 0.9041\n",
      "Epoch 6/30\n",
      "16795/16795 - 57s - loss: 0.1979 - accuracy: 0.9268 - val_loss: 0.4157 - val_accuracy: 0.8715\n",
      "Epoch 7/30\n",
      "16795/16795 - 58s - loss: 0.1754 - accuracy: 0.9372 - val_loss: 0.2109 - val_accuracy: 0.9089\n",
      "Epoch 8/30\n",
      "16795/16795 - 57s - loss: 0.1550 - accuracy: 0.9450 - val_loss: 0.2615 - val_accuracy: 0.8945\n",
      "Epoch 9/30\n",
      "16795/16795 - 57s - loss: 0.1516 - accuracy: 0.9496 - val_loss: 0.2740 - val_accuracy: 0.8918\n",
      "Epoch 10/30\n",
      "16795/16795 - 57s - loss: 0.1376 - accuracy: 0.9481 - val_loss: 0.2209 - val_accuracy: 0.9100\n",
      "Epoch 11/30\n",
      "16795/16795 - 57s - loss: 0.1290 - accuracy: 0.9556 - val_loss: 0.2948 - val_accuracy: 0.9084\n",
      "Epoch 12/30\n",
      "16795/16795 - 57s - loss: 0.1209 - accuracy: 0.9602 - val_loss: 0.5800 - val_accuracy: 0.8950\n",
      "Epoch 13/30\n",
      "16795/16795 - 57s - loss: 0.1316 - accuracy: 0.9528 - val_loss: 0.3853 - val_accuracy: 0.9207\n",
      "Epoch 14/30\n",
      "16795/16795 - 57s - loss: 0.1298 - accuracy: 0.9546 - val_loss: 0.4404 - val_accuracy: 0.8998\n",
      "Epoch 15/30\n",
      "16795/16795 - 57s - loss: 0.1115 - accuracy: 0.9592 - val_loss: 0.4130 - val_accuracy: 0.9191\n",
      "Epoch 16/30\n",
      "16795/16795 - 57s - loss: 0.1253 - accuracy: 0.9577 - val_loss: 0.3738 - val_accuracy: 0.9154\n",
      "Epoch 17/30\n",
      "16795/16795 - 57s - loss: 0.1518 - accuracy: 0.9578 - val_loss: 0.4923 - val_accuracy: 0.9079\n",
      "Epoch 18/30\n",
      "16795/16795 - 57s - loss: 0.1262 - accuracy: 0.9534 - val_loss: 0.5068 - val_accuracy: 0.9025\n",
      "Epoch 19/30\n",
      "16795/16795 - 57s - loss: 0.1880 - accuracy: 0.9370 - val_loss: 0.4155 - val_accuracy: 0.8881\n",
      "Epoch 20/30\n",
      "16795/16795 - 57s - loss: 0.1271 - accuracy: 0.9545 - val_loss: 0.6250 - val_accuracy: 0.9079\n",
      "Epoch 21/30\n",
      "16795/16795 - 57s - loss: 0.0929 - accuracy: 0.9678 - val_loss: 0.5410 - val_accuracy: 0.9207\n",
      "Epoch 22/30\n",
      "16795/16795 - 57s - loss: 0.5839 - accuracy: 0.6489 - val_loss: 0.7274 - val_accuracy: 0.3599\n",
      "Epoch 23/30\n",
      "16795/16795 - 57s - loss: 0.6788 - accuracy: 0.5864 - val_loss: 0.7526 - val_accuracy: 0.3599\n",
      "Epoch 24/30\n",
      "16795/16795 - 57s - loss: 0.6782 - accuracy: 0.5864 - val_loss: 0.7565 - val_accuracy: 0.3599\n",
      "Epoch 25/30\n",
      "16795/16795 - 57s - loss: 0.6782 - accuracy: 0.5864 - val_loss: 0.7596 - val_accuracy: 0.3599\n",
      "Epoch 26/30\n",
      "16795/16795 - 57s - loss: 0.6782 - accuracy: 0.5864 - val_loss: 0.7581 - val_accuracy: 0.3599\n",
      "Epoch 27/30\n",
      "16795/16795 - 57s - loss: 0.6782 - accuracy: 0.5864 - val_loss: 0.7546 - val_accuracy: 0.3599\n",
      "Epoch 28/30\n",
      "16795/16795 - 57s - loss: 0.6782 - accuracy: 0.5864 - val_loss: 0.7599 - val_accuracy: 0.3599\n",
      "Epoch 29/30\n",
      "16795/16795 - 57s - loss: 0.6787 - accuracy: 0.5864 - val_loss: 0.7579 - val_accuracy: 0.3599\n",
      "Epoch 30/30\n",
      "16795/16795 - 57s - loss: 0.6884 - accuracy: 0.5863 - val_loss: 0.7569 - val_accuracy: 0.3599\n"
     ]
    }
   ],
   "source": [
    "history = model.fit(x=train_data.x, y=train_data.y, validation_split=0.1, epochs=30,batch_size=16,\n",
    "                    callbacks=[checkpoint_callback], verbose=2,shuffle=True)"
   ]
  },
  {
   "cell_type": "markdown",
   "metadata": {},
   "source": [
    "## Plot Training History"
   ]
  },
  {
   "cell_type": "code",
   "execution_count": 5,
   "metadata": {},
   "outputs": [
    {
     "data": {
      "image/png": "[encoded data removed]",
      "text/plain": [
       "<Figure size 432x288 with 1 Axes>"
      ]
     },
     "metadata": {
      "needs_background": "light"
     },
     "output_type": "display_data"
    },
    {
     "data": {
      "image/png": "[encoded data removed]",
      "text/plain": [
       "<Figure size 432x288 with 1 Axes>"
      ]
     },
     "metadata": {
      "needs_background": "light"
     },
     "output_type": "display_data"
    }
   ],
   "source": [
    "import matplotlib.pyplot as plt\n",
    "%matplotlib inline\n",
    "# Plot training & validation accuracy values\n",
    "plt.plot(history.history['accuracy'])\n",
    "plt.plot(history.history['val_accuracy'])\n",
    "plt.title('Model accuracy')\n",
    "plt.ylabel('Accuracy')\n",
    "plt.xlabel('Epoch')\n",
    "plt.legend(['Train', 'Validation'], loc='upper left')\n",
    "plt.show()\n",
    "\n",
    "# Plot training & validation loss values\n",
    "plt.plot(history.history['loss'])\n",
    "plt.plot(history.history['val_loss'])\n",
    "plt.title('Model loss')\n",
    "plt.ylabel('Loss')\n",
    "plt.xlabel('Epoch')\n",
    "plt.legend(['Train', 'Validation'], loc='upper left')\n",
    "plt.show()"
   ]
  },
  {
   "cell_type": "markdown",
   "metadata": {},
   "source": [
    "## Restore Weights"
   ]
  },
  {
   "cell_type": "code",
   "execution_count": 6,
   "metadata": {},
   "outputs": [
    {
     "data": {
      "text/plain": [
       "<tensorflow.python.training.tracking.util.CheckpointLoadStatus at 0x214a9153948>"
      ]
     },
     "execution_count": 6,
     "metadata": {},
     "output_type": "execute_result"
    }
   ],
   "source": [
    "checkpoint_dir = './checkpoints/' + model_name\n",
    "model.load_weights(tf.train.latest_checkpoint(checkpoint_dir))"
   ]
  },
  {
   "cell_type": "code",
   "execution_count": 7,
   "metadata": {},
   "outputs": [
    {
     "name": "stdout",
     "output_type": "stream",
     "text": [
      "(6051, 1)\n"
     ]
    }
   ],
   "source": [
    "test_predict = model.predict(test_data.x)\n",
    "print(test_predict.shape)"
   ]
  },
  {
   "cell_type": "markdown",
   "metadata": {},
   "source": [
    "\n",
    "\n",
    "## Save Prediction to CSV"
   ]
  },
  {
   "cell_type": "code",
   "execution_count": 8,
   "metadata": {},
   "outputs": [],
   "source": [
    "import csv\n",
    "\n",
    "output_file = 'result_' + model_name + '.csv'\n",
    "with open(output_file, 'wt', newline='', encoding='utf-8') as output_file:\n",
    "    csv_writer = csv.writer(output_file)\n",
    "    csv_writer.writerow(('Id', 'Predicted'))\n",
    "    for id, predict in enumerate(test_predict):\n",
    "        csv_writer.writerow((id, predict[0]))"
   ]
  },
  {
   "cell_type": "code",
   "execution_count": null,
   "metadata": {},
   "outputs": [],
   "source": []
  }
 ],
 "metadata": {
  "file_extension": ".py",
  "kernelspec": {
   "display_name": "Python 3",
   "language": "python",
   "name": "python3"
  },
  "language_info": {
   "codemirror_mode": {
    "name": "ipython",
    "version": 3
   },
   "file_extension": ".py",
   "mimetype": "text/x-python",
   "name": "python",
   "nbconvert_exporter": "python",
   "pygments_lexer": "ipython3",
   "version": "3.7.5"
  },
  "mimetype": "text/x-python",
  "name": "python",
  "npconvert_exporter": "python",
  "pygments_lexer": "ipython3",
  "version": 3
 },
 "nbformat": 4,
 "nbformat_minor": 4
}
