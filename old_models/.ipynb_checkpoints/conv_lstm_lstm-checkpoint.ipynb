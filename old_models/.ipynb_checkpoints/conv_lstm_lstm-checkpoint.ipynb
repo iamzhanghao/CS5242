{
 "cells": [
  {
   "cell_type": "markdown",
   "metadata": {},
   "source": [
    "# CS5242"
   ]
  },
  {
   "cell_type": "markdown",
   "metadata": {},
   "source": [
    "## Load Data"
   ]
  },
  {
   "cell_type": "code",
   "execution_count": 1,
   "metadata": {},
   "outputs": [
    {
     "name": "stderr",
     "output_type": "stream",
     "text": [
      "Loading train data 18662/18662: 100%|█████████████████████████████████████████████████████████████ [ time left: 00:00 ]\n",
      "Loading test data 6051/6051: 100%|████████████████████████████████████████████████████████████████ [ time left: 00:00 ]\n"
     ]
    },
    {
     "name": "stdout",
     "output_type": "stream",
     "text": [
      "Train data: x:(18662, 1000, 102) y:(18662, 1)\n",
      "Test data: x:(6051, 1000, 102) y:(6051, 1)\n"
     ]
    }
   ],
   "source": [
    "from data import Data\n",
    "\n",
    "train_data = Data(data_type='train')\n",
    "test_data = Data(data_type='test')\n",
    "\n",
    "print(\"Train data: x:\"+ str(train_data.x.shape)+ ' y:'+str(train_data.y.shape))\n",
    "print(\"Test data: x:\"+ str(test_data.x.shape)+ ' y:'+str(test_data.y.shape))\n",
    "\n"
   ]
  },
  {
   "cell_type": "markdown",
   "metadata": {},
   "source": [
    "## Model"
   ]
  },
  {
   "cell_type": "code",
   "execution_count": 2,
   "metadata": {},
   "outputs": [],
   "source": [
    "# Patch TF2.0\n",
    "import tensorflow as tf\n",
    "\n",
    "physical_devices = tf.config.experimental.list_physical_devices('GPU')\n",
    "tf.config.experimental.set_memory_growth(physical_devices[0], True)"
   ]
  },
  {
   "cell_type": "code",
   "execution_count": 3,
   "metadata": {},
   "outputs": [
    {
     "name": "stdout",
     "output_type": "stream",
     "text": [
      "Model: \"sequential\"\n",
      "_________________________________________________________________\n",
      "Layer (type)                 Output Shape              Param #   \n",
      "=================================================================\n",
      "reshape (Reshape)            (None, 1000, 102, 1)      0         \n",
      "_________________________________________________________________\n",
      "time_distributed (TimeDistri (None, 1000, 25, 8)       40        \n",
      "_________________________________________________________________\n",
      "reshape_1 (Reshape)          (None, 1000, 200)         0         \n",
      "_________________________________________________________________\n",
      "lstm (LSTM)                  (None, 1000, 64)          67840     \n",
      "_________________________________________________________________\n",
      "lstm_1 (LSTM)                (None, 32)                12416     \n",
      "_________________________________________________________________\n",
      "dense (Dense)                (None, 32)                1056      \n",
      "_________________________________________________________________\n",
      "dense_1 (Dense)              (None, 1)                 33        \n",
      "=================================================================\n",
      "Total params: 81,385\n",
      "Trainable params: 81,385\n",
      "Non-trainable params: 0\n",
      "_________________________________________________________________\n"
     ]
    }
   ],
   "source": [
    "import tensorflow as tf\n",
    "\n",
    "\n",
    "model_name = 'cnn_lstm_3'\n",
    "\n",
    "model = tf.keras.Sequential([\n",
    "    # tf.keras.layers.Permute((2, 1), input_shape=(1000, 102)),\n",
    "    # tf.keras.layers.Conv1D(filters=16,kernel_size=4,strides=4,activation='relu')\n",
    "    # tf.keras.layers.Reshape((-1,400,), input_shape=(None,None,25,16)),\n",
    "    # \n",
    "    tf.keras.layers.Reshape(target_shape=(1000,102,1),input_shape=(1000,102)),\n",
    "\n",
    "    tf.keras.layers.TimeDistributed(tf.keras.layers.Conv1D(filters=8,kernel_size=4,strides=4),input_shape=(1000,102,1)),\n",
    "    # tf.keras.layers.Conv1D(filters=128,kernel_size=4,strides=4,data_format=\"channels_first\",input_shape=(1000,102)),\n",
    "    tf.keras.layers.Reshape(target_shape=(1000,8*25)),\n",
    "\n",
    "    # tf.keras.layers.LSTM(128,return_sequences=True),\n",
    "    tf.keras.layers.LSTM(64,return_sequences=True),\n",
    "    tf.keras.layers.LSTM(32),\n",
    "    \n",
    "\n",
    "#     tf.keras.layers.Dropout(rate=0.5),\n",
    "    tf.keras.layers.Dense(32, activation='relu'),\n",
    "    # tf.keras.layers.Dropout(rate=0.5),\n",
    "    tf.keras.layers.Dense(1, activation='sigmoid')\n",
    "])\n",
    "\n",
    "model.compile(loss='binary_crossentropy',\n",
    "              optimizer=tf.keras.optimizers.Adam(1e-3),\n",
    "              metrics=['accuracy'])\n",
    "\n",
    "model.summary()"
   ]
  },
  {
   "cell_type": "markdown",
   "metadata": {},
   "source": [
    "## Save Checkpoint"
   ]
  },
  {
   "cell_type": "code",
   "execution_count": 4,
   "metadata": {},
   "outputs": [],
   "source": [
    "import os\n",
    "# Directory where the checkpoints will be saved\n",
    "checkpoint_dir = './checkpoints/' + model_name\n",
    "# Name of the checkpoint files\n",
    "checkpoint_prefix = os.path.join(checkpoint_dir, \"ckpt_{epoch}\")\n",
    "\n",
    "checkpoint_callback=tf.keras.callbacks.ModelCheckpoint(\n",
    "    filepath=checkpoint_prefix,\n",
    "    monitor='val_loss',\n",
    "    save_best_only=True,\n",
    "    save_weights_only=True)"
   ]
  },
  {
   "cell_type": "markdown",
   "metadata": {},
   "source": [
    "## Training"
   ]
  },
  {
   "cell_type": "code",
   "execution_count": 5,
   "metadata": {},
   "outputs": [
    {
     "name": "stdout",
     "output_type": "stream",
     "text": [
      "Train on 15862 samples, validate on 2800 samples\n",
      "Epoch 1/30\n",
      "15862/15862 - 38s - loss: 0.4896 - accuracy: 0.7522 - val_loss: 0.5608 - val_accuracy: 0.7650\n",
      "Epoch 2/30\n",
      "15862/15862 - 35s - loss: 0.4622 - accuracy: 0.7598 - val_loss: 0.5339 - val_accuracy: 0.7739\n",
      "Epoch 3/30\n",
      "15862/15862 - 35s - loss: 0.4468 - accuracy: 0.7655 - val_loss: 0.5167 - val_accuracy: 0.7825\n",
      "Epoch 4/30\n",
      "15862/15862 - 35s - loss: 0.4330 - accuracy: 0.7773 - val_loss: 0.5122 - val_accuracy: 0.7950\n",
      "Epoch 5/30\n",
      "15862/15862 - 36s - loss: 0.4268 - accuracy: 0.7833 - val_loss: 0.5148 - val_accuracy: 0.7986\n",
      "Epoch 6/30\n",
      "15862/15862 - 35s - loss: 0.4252 - accuracy: 0.7778 - val_loss: 0.5169 - val_accuracy: 0.7939\n",
      "Epoch 7/30\n",
      "15862/15862 - 35s - loss: 0.4106 - accuracy: 0.7848 - val_loss: 0.4040 - val_accuracy: 0.8014\n",
      "Epoch 8/30\n",
      "15862/15862 - 35s - loss: 0.3534 - accuracy: 0.8444 - val_loss: 0.5714 - val_accuracy: 0.7343\n",
      "Epoch 9/30\n",
      "15862/15862 - 35s - loss: 0.3552 - accuracy: 0.8523 - val_loss: 0.3767 - val_accuracy: 0.8704\n",
      "Epoch 10/30\n",
      "15862/15862 - 35s - loss: 0.3447 - accuracy: 0.8558 - val_loss: 0.4015 - val_accuracy: 0.8589\n",
      "Epoch 11/30\n",
      "15862/15862 - 35s - loss: 0.3417 - accuracy: 0.8519 - val_loss: 0.3991 - val_accuracy: 0.8679\n",
      "Epoch 12/30\n",
      "15862/15862 - 35s - loss: 0.2934 - accuracy: 0.8863 - val_loss: 0.3426 - val_accuracy: 0.8457\n",
      "Epoch 13/30\n",
      "15862/15862 - 35s - loss: 0.3219 - accuracy: 0.8588 - val_loss: 0.3571 - val_accuracy: 0.8675\n",
      "Epoch 14/30\n",
      "15862/15862 - 35s - loss: 0.2899 - accuracy: 0.8848 - val_loss: 0.3994 - val_accuracy: 0.8696\n",
      "Epoch 15/30\n",
      "15862/15862 - 35s - loss: 0.2863 - accuracy: 0.8873 - val_loss: 0.4400 - val_accuracy: 0.8671\n",
      "Epoch 16/30\n",
      "15862/15862 - 35s - loss: 0.3314 - accuracy: 0.8489 - val_loss: 0.3956 - val_accuracy: 0.8543\n",
      "Epoch 17/30\n",
      "15862/15862 - 35s - loss: 0.2942 - accuracy: 0.8799 - val_loss: 0.3470 - val_accuracy: 0.8746\n",
      "Epoch 18/30\n",
      "15862/15862 - 35s - loss: 0.3105 - accuracy: 0.8728 - val_loss: 0.3920 - val_accuracy: 0.8496\n",
      "Epoch 19/30\n",
      "15862/15862 - 35s - loss: 0.2796 - accuracy: 0.8943 - val_loss: 0.3606 - val_accuracy: 0.8504\n",
      "Epoch 20/30\n",
      "15862/15862 - 35s - loss: 0.2528 - accuracy: 0.9039 - val_loss: 0.2939 - val_accuracy: 0.8921\n",
      "Epoch 21/30\n",
      "15862/15862 - 35s - loss: 0.2222 - accuracy: 0.9163 - val_loss: 0.3007 - val_accuracy: 0.9064\n",
      "Epoch 22/30\n",
      "15862/15862 - 35s - loss: 0.2148 - accuracy: 0.9179 - val_loss: 0.2970 - val_accuracy: 0.8993\n",
      "Epoch 23/30\n",
      "15862/15862 - 35s - loss: 0.2097 - accuracy: 0.9282 - val_loss: 0.3057 - val_accuracy: 0.8957\n",
      "Epoch 24/30\n",
      "15862/15862 - 36s - loss: 0.2063 - accuracy: 0.9293 - val_loss: 0.2594 - val_accuracy: 0.9061\n",
      "Epoch 25/30\n",
      "15862/15862 - 35s - loss: 0.1924 - accuracy: 0.9340 - val_loss: 0.2626 - val_accuracy: 0.9104\n",
      "Epoch 26/30\n",
      "15862/15862 - 35s - loss: 0.1751 - accuracy: 0.9407 - val_loss: 0.2560 - val_accuracy: 0.9068\n",
      "Epoch 27/30\n",
      "15862/15862 - 35s - loss: 0.1613 - accuracy: 0.9450 - val_loss: 0.2677 - val_accuracy: 0.9107\n",
      "Epoch 28/30\n",
      "15862/15862 - 35s - loss: 0.1596 - accuracy: 0.9456 - val_loss: 0.3277 - val_accuracy: 0.8918\n",
      "Epoch 29/30\n",
      "15862/15862 - 35s - loss: 0.1584 - accuracy: 0.9453 - val_loss: 0.2518 - val_accuracy: 0.9046\n",
      "Epoch 30/30\n",
      "15862/15862 - 35s - loss: 0.1555 - accuracy: 0.9467 - val_loss: 0.2614 - val_accuracy: 0.9157\n"
     ]
    }
   ],
   "source": [
    "history = model.fit(x=train_data.x, y=train_data.y, validation_split=0.15, epochs=30,batch_size=32,\n",
    "                    callbacks=[checkpoint_callback], verbose=2,shuffle=True)"
   ]
  },
  {
   "cell_type": "markdown",
   "metadata": {},
   "source": [
    "## Plot Training History"
   ]
  },
  {
   "cell_type": "code",
   "execution_count": 6,
   "metadata": {},
   "outputs": [
    {
     "data": {
      "image/png": "[encoded data removed]",
      "text/plain": [
       "<Figure size 432x288 with 1 Axes>"
      ]
     },
     "metadata": {
      "needs_background": "light"
     },
     "output_type": "display_data"
    },
    {
     "data": {
      "image/png": "[encoded data removed]",
      "text/plain": [
       "<Figure size 432x288 with 1 Axes>"
      ]
     },
     "metadata": {
      "needs_background": "light"
     },
     "output_type": "display_data"
    }
   ],
   "source": [
    "import matplotlib.pyplot as plt\n",
    "%matplotlib inline\n",
    "# Plot training & validation accuracy values\n",
    "plt.plot(history.history['accuracy'])\n",
    "plt.plot(history.history['val_accuracy'])\n",
    "plt.title('Model accuracy')\n",
    "plt.ylabel('Accuracy')\n",
    "plt.xlabel('Epoch')\n",
    "plt.legend(['Train', 'Validation'], loc='upper left')\n",
    "plt.show()\n",
    "\n",
    "# Plot training & validation loss values\n",
    "plt.plot(history.history['loss'])\n",
    "plt.plot(history.history['val_loss'])\n",
    "plt.title('Model loss')\n",
    "plt.ylabel('Loss')\n",
    "plt.xlabel('Epoch')\n",
    "plt.legend(['Train', 'Validation'], loc='upper left')\n",
    "plt.show()"
   ]
  },
  {
   "cell_type": "markdown",
   "metadata": {},
   "source": [
    "## Restore Weights"
   ]
  },
  {
   "cell_type": "code",
   "execution_count": 7,
   "metadata": {},
   "outputs": [
    {
     "data": {
      "text/plain": [
       "<tensorflow.python.training.tracking.util.CheckpointLoadStatus at 0x1dda00a1388>"
      ]
     },
     "execution_count": 7,
     "metadata": {},
     "output_type": "execute_result"
    }
   ],
   "source": [
    "checkpoint_dir = './checkpoints/' + model_name\n",
    "model.load_weights(tf.train.latest_checkpoint(checkpoint_dir))"
   ]
  },
  {
   "cell_type": "code",
   "execution_count": 8,
   "metadata": {},
   "outputs": [
    {
     "name": "stdout",
     "output_type": "stream",
     "text": [
      "(6051, 1)\n"
     ]
    }
   ],
   "source": [
    "test_predict = model.predict(test_data.x)\n",
    "print(test_predict.shape)"
   ]
  },
  {
   "cell_type": "markdown",
   "metadata": {},
   "source": [
    "\n",
    "\n",
    "## Save Prediction to CSV"
   ]
  },
  {
   "cell_type": "code",
   "execution_count": 9,
   "metadata": {},
   "outputs": [],
   "source": [
    "import csv\n",
    "\n",
    "output_file = 'result_' + model_name + '.csv'\n",
    "with open(output_file, 'wt', newline='', encoding='utf-8') as output_file:\n",
    "    csv_writer = csv.writer(output_file)\n",
    "    csv_writer.writerow(('Id', 'Predicted'))\n",
    "    for id, predict in enumerate(test_predict):\n",
    "        csv_writer.writerow((id, predict[0]))"
   ]
  },
  {
   "cell_type": "code",
   "execution_count": null,
   "metadata": {},
   "outputs": [],
   "source": []
  }
 ],
 "metadata": {
  "file_extension": ".py",
  "kernelspec": {
   "display_name": "Python 3",
   "language": "python",
   "name": "python3"
  },
  "language_info": {
   "codemirror_mode": {
    "name": "ipython",
    "version": 3
   },
   "file_extension": ".py",
   "mimetype": "text/x-python",
   "name": "python",
   "nbconvert_exporter": "python",
   "pygments_lexer": "ipython3",
   "version": "3.7.5"
  },
  "mimetype": "text/x-python",
  "name": "python",
  "npconvert_exporter": "python",
  "pygments_lexer": "ipython3",
  "version": 3
 },
 "nbformat": 4,
 "nbformat_minor": 4
}
