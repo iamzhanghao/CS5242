{
 "cells": [
  {
   "cell_type": "markdown",
   "metadata": {},
   "source": [
    "# CS5242"
   ]
  },
  {
   "cell_type": "markdown",
   "metadata": {},
   "source": [
    "## Load Data"
   ]
  },
  {
   "cell_type": "code",
   "execution_count": 1,
   "metadata": {},
   "outputs": [
    {
     "name": "stderr",
     "output_type": "stream",
     "text": [
      "Loading train data 18662/18662: 100%|█████████████████████████████████████████████████████████████ [ time left: 00:00 ]\n",
      "Loading test data 6051/6051: 100%|████████████████████████████████████████████████████████████████ [ time left: 00:00 ]\n"
     ]
    },
    {
     "name": "stdout",
     "output_type": "stream",
     "text": [
      "Train data: x:(18662, 1000, 102) y:(18662, 1)\n",
      "Test data: x:(6051, 1000, 102) y:(6051, 1)\n"
     ]
    }
   ],
   "source": [
    "from data import Data\n",
    "\n",
    "train_data = Data(data_type='train')\n",
    "test_data = Data(data_type='test')\n",
    "\n",
    "print(\"Train data: x:\"+ str(train_data.x.shape)+ ' y:'+str(train_data.y.shape))\n",
    "print(\"Test data: x:\"+ str(test_data.x.shape)+ ' y:'+str(test_data.y.shape))\n",
    "\n"
   ]
  },
  {
   "cell_type": "markdown",
   "metadata": {},
   "source": [
    "## Model"
   ]
  },
  {
   "cell_type": "code",
   "execution_count": 2,
   "metadata": {},
   "outputs": [
    {
     "name": "stdout",
     "output_type": "stream",
     "text": [
      "Model: \"sequential\"\n",
      "_________________________________________________________________\n",
      "Layer (type)                 Output Shape              Param #   \n",
      "=================================================================\n",
      "bidirectional (Bidirectional (None, 1000, 256)         236544    \n",
      "_________________________________________________________________\n",
      "global_max_pooling1d (Global (None, 256)               0         \n",
      "_________________________________________________________________\n",
      "dense (Dense)                (None, 64)                16448     \n",
      "_________________________________________________________________\n",
      "dropout (Dropout)            (None, 64)                0         \n",
      "_________________________________________________________________\n",
      "dense_1 (Dense)              (None, 1)                 65        \n",
      "=================================================================\n",
      "Total params: 253,057\n",
      "Trainable params: 253,057\n",
      "Non-trainable params: 0\n",
      "_________________________________________________________________\n"
     ]
    }
   ],
   "source": [
    "import tensorflow as tf\n",
    "\n",
    "model_name = 'lstm_pooling'\n",
    "\n",
    "model = tf.keras.Sequential([\n",
    "    tf.keras.layers.Bidirectional(tf.keras.layers.LSTM(128,return_sequences=True),input_shape=(1000,102)),\n",
    "    tf.keras.layers.GlobalMaxPooling1D(),\n",
    "    tf.keras.layers.Dense(64, activation='relu'),\n",
    "    tf.keras.layers.Dropout(rate=0.2),\n",
    "    tf.keras.layers.Dense(1, activation='sigmoid')\n",
    "])\n",
    "\n",
    "model.compile(loss='mse',\n",
    "              optimizer=tf.keras.optimizers.Adam(1e-4,0.95,0.99),\n",
    "              metrics=['accuracy'])\n",
    "\n",
    "model.summary()"
   ]
  },
  {
   "cell_type": "markdown",
   "metadata": {},
   "source": [
    "## Save Checkpoint"
   ]
  },
  {
   "cell_type": "code",
   "execution_count": 3,
   "metadata": {},
   "outputs": [],
   "source": [
    "import os\n",
    "# Directory where the checkpoints will be saved\n",
    "checkpoint_dir = './checkpoints/' + model_name\n",
    "# Name of the checkpoint files\n",
    "checkpoint_prefix = os.path.join(checkpoint_dir, \"ckpt_{epoch}\")\n",
    "\n",
    "checkpoint_callback=tf.keras.callbacks.ModelCheckpoint(\n",
    "    filepath=checkpoint_prefix,\n",
    "    monitor='val_loss',\n",
    "    save_best_only=True,\n",
    "    save_weights_only=True)\n",
    "\n",
    "early_stopping_callback = tf.keras.callbacks.EarlyStopping(\n",
    "    monitor='val_loss', \n",
    "    min_delta=0, \n",
    "    patience=20, \n",
    "    mode='auto', \n",
    "    restore_best_weights=True)"
   ]
  },
  {
   "cell_type": "markdown",
   "metadata": {},
   "source": [
    "## Training"
   ]
  },
  {
   "cell_type": "code",
   "execution_count": 4,
   "metadata": {},
   "outputs": [
    {
     "name": "stdout",
     "output_type": "stream",
     "text": [
      "Train on 14929 samples, validate on 3733 samples\n",
      "Epoch 1/100\n",
      "14929/14929 - 41s - loss: 0.1277 - accuracy: 0.8260 - val_loss: 0.0926 - val_accuracy: 0.8786\n",
      "Epoch 2/100\n",
      "14929/14929 - 38s - loss: 0.0723 - accuracy: 0.9092 - val_loss: 0.0751 - val_accuracy: 0.8995\n",
      "Epoch 3/100\n",
      "14929/14929 - 38s - loss: 0.0561 - accuracy: 0.9302 - val_loss: 0.0593 - val_accuracy: 0.9218\n",
      "Epoch 4/100\n",
      "14929/14929 - 38s - loss: 0.0484 - accuracy: 0.9407 - val_loss: 0.0580 - val_accuracy: 0.9212\n",
      "Epoch 5/100\n",
      "14929/14929 - 38s - loss: 0.0428 - accuracy: 0.9459 - val_loss: 0.0534 - val_accuracy: 0.9271\n",
      "Epoch 6/100\n",
      "14929/14929 - 38s - loss: 0.0395 - accuracy: 0.9516 - val_loss: 0.0520 - val_accuracy: 0.9269\n",
      "Epoch 7/100\n",
      "14929/14929 - 38s - loss: 0.0365 - accuracy: 0.9538 - val_loss: 0.0501 - val_accuracy: 0.9352\n",
      "Epoch 8/100\n",
      "14929/14929 - 38s - loss: 0.0337 - accuracy: 0.9586 - val_loss: 0.0469 - val_accuracy: 0.9408\n",
      "Epoch 9/100\n",
      "14929/14929 - 38s - loss: 0.0317 - accuracy: 0.9609 - val_loss: 0.0489 - val_accuracy: 0.9328\n",
      "Epoch 10/100\n",
      "14929/14929 - 38s - loss: 0.0294 - accuracy: 0.9636 - val_loss: 0.0453 - val_accuracy: 0.9389\n",
      "Epoch 11/100\n",
      "14929/14929 - 38s - loss: 0.0285 - accuracy: 0.9648 - val_loss: 0.0469 - val_accuracy: 0.9379\n",
      "Epoch 12/100\n",
      "14929/14929 - 38s - loss: 0.0263 - accuracy: 0.9678 - val_loss: 0.0445 - val_accuracy: 0.9397\n",
      "Epoch 13/100\n",
      "14929/14929 - 38s - loss: 0.0256 - accuracy: 0.9683 - val_loss: 0.0429 - val_accuracy: 0.9443\n",
      "Epoch 14/100\n",
      "14929/14929 - 38s - loss: 0.0240 - accuracy: 0.9713 - val_loss: 0.0430 - val_accuracy: 0.9440\n",
      "Epoch 15/100\n",
      "14929/14929 - 38s - loss: 0.0229 - accuracy: 0.9729 - val_loss: 0.0460 - val_accuracy: 0.9384\n",
      "Epoch 16/100\n",
      "14929/14929 - 38s - loss: 0.0214 - accuracy: 0.9750 - val_loss: 0.0444 - val_accuracy: 0.9435\n",
      "Epoch 17/100\n",
      "14929/14929 - 38s - loss: 0.0208 - accuracy: 0.9758 - val_loss: 0.0464 - val_accuracy: 0.9365\n",
      "Epoch 18/100\n",
      "14929/14929 - 38s - loss: 0.0204 - accuracy: 0.9752 - val_loss: 0.0421 - val_accuracy: 0.9470\n",
      "Epoch 19/100\n",
      "14929/14929 - 38s - loss: 0.0194 - accuracy: 0.9778 - val_loss: 0.0437 - val_accuracy: 0.9443\n",
      "Epoch 20/100\n",
      "14929/14929 - 38s - loss: 0.0191 - accuracy: 0.9778 - val_loss: 0.0461 - val_accuracy: 0.9381\n",
      "Epoch 21/100\n",
      "14929/14929 - 38s - loss: 0.0189 - accuracy: 0.9778 - val_loss: 0.0448 - val_accuracy: 0.9381\n",
      "Epoch 22/100\n",
      "14929/14929 - 38s - loss: 0.0178 - accuracy: 0.9804 - val_loss: 0.0443 - val_accuracy: 0.9435\n",
      "Epoch 23/100\n",
      "14929/14929 - 38s - loss: 0.0176 - accuracy: 0.9796 - val_loss: 0.0420 - val_accuracy: 0.9454\n",
      "Epoch 24/100\n",
      "14929/14929 - 38s - loss: 0.0165 - accuracy: 0.9816 - val_loss: 0.0438 - val_accuracy: 0.9435\n",
      "Epoch 25/100\n",
      "14929/14929 - 38s - loss: 0.0163 - accuracy: 0.9822 - val_loss: 0.0426 - val_accuracy: 0.9440\n",
      "Epoch 26/100\n",
      "14929/14929 - 38s - loss: 0.0158 - accuracy: 0.9818 - val_loss: 0.0425 - val_accuracy: 0.9419\n",
      "Epoch 27/100\n",
      "14929/14929 - 38s - loss: 0.0151 - accuracy: 0.9829 - val_loss: 0.0436 - val_accuracy: 0.9451\n",
      "Epoch 28/100\n",
      "14929/14929 - 38s - loss: 0.0149 - accuracy: 0.9834 - val_loss: 0.0434 - val_accuracy: 0.9424\n",
      "Epoch 29/100\n",
      "14929/14929 - 38s - loss: 0.0150 - accuracy: 0.9827 - val_loss: 0.0437 - val_accuracy: 0.9424\n",
      "Epoch 30/100\n",
      "14929/14929 - 38s - loss: 0.0148 - accuracy: 0.9825 - val_loss: 0.0420 - val_accuracy: 0.9491\n",
      "Epoch 31/100\n",
      "14929/14929 - 38s - loss: 0.0144 - accuracy: 0.9828 - val_loss: 0.0437 - val_accuracy: 0.9424\n",
      "Epoch 32/100\n",
      "14929/14929 - 38s - loss: 0.0145 - accuracy: 0.9835 - val_loss: 0.0424 - val_accuracy: 0.9464\n",
      "Epoch 33/100\n",
      "14929/14929 - 38s - loss: 0.0140 - accuracy: 0.9841 - val_loss: 0.0505 - val_accuracy: 0.9362\n",
      "Epoch 34/100\n",
      "14929/14929 - 38s - loss: 0.0141 - accuracy: 0.9839 - val_loss: 0.0452 - val_accuracy: 0.9419\n",
      "Epoch 35/100\n",
      "14929/14929 - 38s - loss: 0.0137 - accuracy: 0.9841 - val_loss: 0.0442 - val_accuracy: 0.9435\n",
      "Epoch 36/100\n",
      "14929/14929 - 38s - loss: 0.0131 - accuracy: 0.9845 - val_loss: 0.0438 - val_accuracy: 0.9445\n",
      "Epoch 37/100\n",
      "14929/14929 - 38s - loss: 0.0133 - accuracy: 0.9849 - val_loss: 0.0449 - val_accuracy: 0.9427\n",
      "Epoch 38/100\n",
      "14929/14929 - 38s - loss: 0.0131 - accuracy: 0.9847 - val_loss: 0.0528 - val_accuracy: 0.9357\n",
      "Epoch 39/100\n",
      "14929/14929 - 38s - loss: 0.0129 - accuracy: 0.9845 - val_loss: 0.0479 - val_accuracy: 0.9400\n",
      "Epoch 40/100\n",
      "14929/14929 - 38s - loss: 0.0128 - accuracy: 0.9847 - val_loss: 0.0435 - val_accuracy: 0.9419\n",
      "Epoch 41/100\n",
      "14929/14929 - 38s - loss: 0.0129 - accuracy: 0.9845 - val_loss: 0.0448 - val_accuracy: 0.9432\n",
      "Epoch 42/100\n",
      "14929/14929 - 38s - loss: 0.0125 - accuracy: 0.9858 - val_loss: 0.0458 - val_accuracy: 0.9411\n",
      "Epoch 43/100\n",
      "14929/14929 - 38s - loss: 0.0123 - accuracy: 0.9858 - val_loss: 0.0440 - val_accuracy: 0.9445\n",
      "Epoch 44/100\n",
      "14929/14929 - 38s - loss: 0.0118 - accuracy: 0.9862 - val_loss: 0.0448 - val_accuracy: 0.9424\n",
      "Epoch 45/100\n",
      "14929/14929 - 38s - loss: 0.0125 - accuracy: 0.9853 - val_loss: 0.0419 - val_accuracy: 0.9475\n",
      "Epoch 46/100\n",
      "14929/14929 - 38s - loss: 0.0121 - accuracy: 0.9866 - val_loss: 0.0434 - val_accuracy: 0.9459\n",
      "Epoch 47/100\n",
      "14929/14929 - 38s - loss: 0.0120 - accuracy: 0.9852 - val_loss: 0.0448 - val_accuracy: 0.9454\n",
      "Epoch 48/100\n",
      "14929/14929 - 38s - loss: 0.0117 - accuracy: 0.9867 - val_loss: 0.0444 - val_accuracy: 0.9451\n",
      "Epoch 49/100\n",
      "14929/14929 - 38s - loss: 0.0119 - accuracy: 0.9858 - val_loss: 0.0479 - val_accuracy: 0.9403\n",
      "Epoch 50/100\n",
      "14929/14929 - 38s - loss: 0.0119 - accuracy: 0.9856 - val_loss: 0.0468 - val_accuracy: 0.9400\n",
      "Epoch 51/100\n",
      "14929/14929 - 38s - loss: 0.0117 - accuracy: 0.9861 - val_loss: 0.0458 - val_accuracy: 0.9421\n",
      "Epoch 52/100\n",
      "14929/14929 - 38s - loss: 0.0114 - accuracy: 0.9865 - val_loss: 0.0455 - val_accuracy: 0.9454\n",
      "Epoch 53/100\n",
      "14929/14929 - 38s - loss: 0.0116 - accuracy: 0.9857 - val_loss: 0.0453 - val_accuracy: 0.9445\n",
      "Epoch 54/100\n",
      "14929/14929 - 38s - loss: 0.0114 - accuracy: 0.9864 - val_loss: 0.0464 - val_accuracy: 0.9416\n",
      "Epoch 55/100\n",
      "14929/14929 - 38s - loss: 0.0111 - accuracy: 0.9867 - val_loss: 0.0486 - val_accuracy: 0.9403\n",
      "Epoch 56/100\n",
      "14929/14929 - 38s - loss: 0.0111 - accuracy: 0.9872 - val_loss: 0.0458 - val_accuracy: 0.9413\n",
      "Epoch 57/100\n",
      "14929/14929 - 38s - loss: 0.0112 - accuracy: 0.9863 - val_loss: 0.0472 - val_accuracy: 0.9403\n",
      "Epoch 58/100\n",
      "14929/14929 - 38s - loss: 0.0106 - accuracy: 0.9876 - val_loss: 0.0434 - val_accuracy: 0.9478\n",
      "Epoch 59/100\n",
      "14929/14929 - 38s - loss: 0.0107 - accuracy: 0.9873 - val_loss: 0.0455 - val_accuracy: 0.9475\n",
      "Epoch 60/100\n",
      "14929/14929 - 38s - loss: 0.0107 - accuracy: 0.9872 - val_loss: 0.0455 - val_accuracy: 0.9432\n",
      "Epoch 61/100\n",
      "14929/14929 - 38s - loss: 0.0107 - accuracy: 0.9872 - val_loss: 0.0473 - val_accuracy: 0.9432\n",
      "Epoch 62/100\n",
      "14929/14929 - 38s - loss: 0.0105 - accuracy: 0.9874 - val_loss: 0.0499 - val_accuracy: 0.9395\n",
      "Epoch 63/100\n",
      "14929/14929 - 38s - loss: 0.0106 - accuracy: 0.9873 - val_loss: 0.0581 - val_accuracy: 0.9298\n",
      "Epoch 64/100\n",
      "14929/14929 - 38s - loss: 0.0106 - accuracy: 0.9872 - val_loss: 0.0498 - val_accuracy: 0.9395\n",
      "Epoch 65/100\n",
      "14929/14929 - 38s - loss: 0.0105 - accuracy: 0.9878 - val_loss: 0.0472 - val_accuracy: 0.9424\n"
     ]
    }
   ],
   "source": [
    "history = model.fit(x=train_data.x, y=train_data.y, validation_split=0.2, epochs=100,batch_size=32,\n",
    "                    callbacks=[checkpoint_callback,early_stopping_callback], verbose=2,shuffle=True)"
   ]
  },
  {
   "cell_type": "markdown",
   "metadata": {},
   "source": [
    "## Plot Training History"
   ]
  },
  {
   "cell_type": "code",
   "execution_count": 5,
   "metadata": {},
   "outputs": [
    {
     "data": {
      "image/png": "[encoded data removed]",
      "text/plain": [
       "<Figure size 432x288 with 1 Axes>"
      ]
     },
     "metadata": {
      "needs_background": "light"
     },
     "output_type": "display_data"
    },
    {
     "data": {
      "image/png": "[encoded data removed]",
      "text/plain": [
       "<Figure size 432x288 with 1 Axes>"
      ]
     },
     "metadata": {
      "needs_background": "light"
     },
     "output_type": "display_data"
    }
   ],
   "source": [
    "import matplotlib.pyplot as plt\n",
    "%matplotlib inline\n",
    "# Plot training & validation accuracy values\n",
    "plt.plot(history.history['accuracy'])\n",
    "plt.plot(history.history['val_accuracy'])\n",
    "plt.title('Model accuracy')\n",
    "plt.ylabel('Accuracy')\n",
    "plt.xlabel('Epoch')\n",
    "plt.legend(['Train', 'Validation'], loc='upper left')\n",
    "plt.show()\n",
    "\n",
    "# Plot training & validation loss values\n",
    "plt.plot(history.history['loss'])\n",
    "plt.plot(history.history['val_loss'])\n",
    "plt.title('Model loss')\n",
    "plt.ylabel('Loss')\n",
    "plt.xlabel('Epoch')\n",
    "plt.legend(['Train', 'Validation'], loc='upper left')\n",
    "plt.show()"
   ]
  },
  {
   "cell_type": "markdown",
   "metadata": {},
   "source": [
    "## Restore Weights"
   ]
  },
  {
   "cell_type": "code",
   "execution_count": 6,
   "metadata": {},
   "outputs": [
    {
     "data": {
      "text/plain": [
       "<tensorflow.python.training.tracking.util.CheckpointLoadStatus at 0x2201d265208>"
      ]
     },
     "execution_count": 6,
     "metadata": {},
     "output_type": "execute_result"
    }
   ],
   "source": [
    "checkpoint_dir = './checkpoints/' + model_name\n",
    "model.load_weights(tf.train.latest_checkpoint(checkpoint_dir))"
   ]
  },
  {
   "cell_type": "code",
   "execution_count": 7,
   "metadata": {},
   "outputs": [
    {
     "name": "stdout",
     "output_type": "stream",
     "text": [
      "(6051, 1)\n"
     ]
    }
   ],
   "source": [
    "test_predict = model.predict(test_data.x)\n",
    "print(test_predict.shape)"
   ]
  },
  {
   "cell_type": "markdown",
   "metadata": {},
   "source": [
    "\n",
    "\n",
    "## Save Prediction to CSV"
   ]
  },
  {
   "cell_type": "code",
   "execution_count": 8,
   "metadata": {},
   "outputs": [
    {
     "name": "stdout",
     "output_type": "stream",
     "text": [
      "Saved to result_lstm_pooling.csv\n"
     ]
    }
   ],
   "source": [
    "import csv\n",
    "\n",
    "output_file = 'result_' + model_name + '.csv'\n",
    "with open(output_file, 'wt', newline='', encoding='utf-8') as output_file:\n",
    "    csv_writer = csv.writer(output_file)\n",
    "    csv_writer.writerow(('Id', 'Predicted'))\n",
    "    for id, predict in enumerate(test_predict):\n",
    "        csv_writer.writerow((id, predict[0]))\n",
    "print('Saved to '+'result_' + model_name + '.csv')"
   ]
  },
  {
   "cell_type": "code",
   "execution_count": null,
   "metadata": {},
   "outputs": [],
   "source": []
  }
 ],
 "metadata": {
  "file_extension": ".py",
  "kernelspec": {
   "display_name": "Python 3",
   "language": "python",
   "name": "python3"
  },
  "language_info": {
   "codemirror_mode": {
    "name": "ipython",
    "version": 3
   },
   "file_extension": ".py",
   "mimetype": "text/x-python",
   "name": "python",
   "nbconvert_exporter": "python",
   "pygments_lexer": "ipython3",
   "version": "3.7.5"
  },
  "mimetype": "text/x-python",
  "name": "python",
  "npconvert_exporter": "python",
  "pygments_lexer": "ipython3",
  "version": 3
 },
 "nbformat": 4,
 "nbformat_minor": 4
}
