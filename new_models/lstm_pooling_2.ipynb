{
 "cells": [
  {
   "cell_type": "markdown",
   "metadata": {},
   "source": [
    "# CS5242"
   ]
  },
  {
   "cell_type": "markdown",
   "metadata": {},
   "source": [
    "## Load Data"
   ]
  },
  {
   "cell_type": "code",
   "execution_count": 1,
   "metadata": {},
   "outputs": [
    {
     "name": "stderr",
     "output_type": "stream",
     "text": [
      "Loading train data 18662/18662: 100%|█████████████████████████████████████████████████████████████ [ time left: 00:00 ]\n",
      "Loading test data 6051/6051: 100%|████████████████████████████████████████████████████████████████ [ time left: 00:00 ]\n"
     ]
    },
    {
     "name": "stdout",
     "output_type": "stream",
     "text": [
      "Train data: x:(18662, 1000, 102) y:(18662, 1)\n",
      "Test data: x:(6051, 1000, 102) y:(6051, 1)\n"
     ]
    }
   ],
   "source": [
    "from data import Data\n",
    "\n",
    "train_data = Data(data_type='train')\n",
    "test_data = Data(data_type='test')\n",
    "\n",
    "print(\"Train data: x:\"+ str(train_data.x.shape)+ ' y:'+str(train_data.y.shape))\n",
    "print(\"Test data: x:\"+ str(test_data.x.shape)+ ' y:'+str(test_data.y.shape))\n",
    "\n"
   ]
  },
  {
   "cell_type": "markdown",
   "metadata": {},
   "source": [
    "## Model"
   ]
  },
  {
   "cell_type": "code",
   "execution_count": 2,
   "metadata": {},
   "outputs": [
    {
     "name": "stdout",
     "output_type": "stream",
     "text": [
      "Model: \"sequential\"\n",
      "_________________________________________________________________\n",
      "Layer (type)                 Output Shape              Param #   \n",
      "=================================================================\n",
      "bidirectional (Bidirectional (None, 1000, 128)         85504     \n",
      "_________________________________________________________________\n",
      "global_max_pooling1d (Global (None, 128)               0         \n",
      "_________________________________________________________________\n",
      "dense (Dense)                (None, 64)                8256      \n",
      "_________________________________________________________________\n",
      "dropout (Dropout)            (None, 64)                0         \n",
      "_________________________________________________________________\n",
      "dense_1 (Dense)              (None, 1)                 65        \n",
      "=================================================================\n",
      "Total params: 93,825\n",
      "Trainable params: 93,825\n",
      "Non-trainable params: 0\n",
      "_________________________________________________________________\n"
     ]
    }
   ],
   "source": [
    "import tensorflow as tf\n",
    "\n",
    "model_name = 'lstm_pooling_2'\n",
    "\n",
    "model = tf.keras.Sequential([\n",
    "    tf.keras.layers.Bidirectional(tf.keras.layers.LSTM(64,return_sequences=True),input_shape=(1000,102)),\n",
    "    tf.keras.layers.GlobalMaxPooling1D(),\n",
    "    tf.keras.layers.Dense(64, activation='relu'),\n",
    "    tf.keras.layers.Dropout(rate=0.2),\n",
    "    tf.keras.layers.Dense(1, activation='sigmoid')\n",
    "])\n",
    "\n",
    "model.compile(loss='binary_crossentropy',\n",
    "              optimizer=tf.keras.optimizers.Adam(1e-4,0.95,0.99),\n",
    "              metrics=['accuracy',tf.keras.metrics.AUC()])\n",
    "\n",
    "model.summary()"
   ]
  },
  {
   "cell_type": "markdown",
   "metadata": {},
   "source": [
    "## Save Checkpoint"
   ]
  },
  {
   "cell_type": "code",
   "execution_count": 3,
   "metadata": {},
   "outputs": [],
   "source": [
    "import os\n",
    "# Directory where the checkpoints will be saved\n",
    "checkpoint_dir = './checkpoints/' + model_name\n",
    "# Name of the checkpoint files\n",
    "checkpoint_prefix = os.path.join(checkpoint_dir, \"ckpt_{epoch}\")\n",
    "\n",
    "checkpoint_callback=tf.keras.callbacks.ModelCheckpoint(\n",
    "    filepath=checkpoint_prefix,\n",
    "    monitor='val_loss',\n",
    "    save_best_only=True,\n",
    "    save_weights_only=True)\n",
    "\n",
    "early_stopping_callback = tf.keras.callbacks.EarlyStopping(\n",
    "    monitor='val_loss', \n",
    "    min_delta=0, \n",
    "    patience=20, \n",
    "    mode='auto', \n",
    "    restore_best_weights=True)"
   ]
  },
  {
   "cell_type": "markdown",
   "metadata": {},
   "source": [
    "## Training"
   ]
  },
  {
   "cell_type": "code",
   "execution_count": 4,
   "metadata": {},
   "outputs": [
    {
     "name": "stdout",
     "output_type": "stream",
     "text": [
      "Train on 14929 samples, validate on 3733 samples\n",
      "Epoch 1/100\n",
      "14929/14929 - 28s - loss: 0.4939 - accuracy: 0.7793 - auc: 0.8480 - val_loss: 0.4051 - val_accuracy: 0.8211 - val_auc: 0.9235\n",
      "Epoch 2/100\n",
      "14929/14929 - 24s - loss: 0.3355 - accuracy: 0.8572 - auc: 0.9422 - val_loss: 0.3129 - val_accuracy: 0.8658 - val_auc: 0.9540\n",
      "Epoch 3/100\n",
      "14929/14929 - 24s - loss: 0.2569 - accuracy: 0.8983 - auc: 0.9648 - val_loss: 0.2559 - val_accuracy: 0.8856 - val_auc: 0.9648\n",
      "Epoch 4/100\n",
      "14929/14929 - 24s - loss: 0.2128 - accuracy: 0.9189 - auc: 0.9742 - val_loss: 0.2281 - val_accuracy: 0.9054 - val_auc: 0.9700\n",
      "Epoch 5/100\n",
      "14929/14929 - 24s - loss: 0.1862 - accuracy: 0.9305 - auc: 0.9794 - val_loss: 0.2127 - val_accuracy: 0.9153 - val_auc: 0.9729\n",
      "Epoch 6/100\n",
      "14929/14929 - 24s - loss: 0.1699 - accuracy: 0.9357 - auc: 0.9822 - val_loss: 0.2008 - val_accuracy: 0.9186 - val_auc: 0.9757\n",
      "Epoch 7/100\n",
      "14929/14929 - 24s - loss: 0.1582 - accuracy: 0.9413 - auc: 0.9844 - val_loss: 0.1928 - val_accuracy: 0.9231 - val_auc: 0.9760\n",
      "Epoch 8/100\n",
      "14929/14929 - 24s - loss: 0.1486 - accuracy: 0.9463 - auc: 0.9860 - val_loss: 0.1878 - val_accuracy: 0.9237 - val_auc: 0.9780\n",
      "Epoch 9/100\n",
      "14929/14929 - 24s - loss: 0.1405 - accuracy: 0.9474 - auc: 0.9874 - val_loss: 0.1822 - val_accuracy: 0.9285 - val_auc: 0.9778\n",
      "Epoch 10/100\n",
      "14929/14929 - 24s - loss: 0.1348 - accuracy: 0.9492 - auc: 0.9884 - val_loss: 0.1764 - val_accuracy: 0.9298 - val_auc: 0.9787\n",
      "Epoch 11/100\n",
      "14929/14929 - 24s - loss: 0.1285 - accuracy: 0.9512 - auc: 0.9893 - val_loss: 0.1696 - val_accuracy: 0.9336 - val_auc: 0.9805\n",
      "Epoch 12/100\n",
      "14929/14929 - 24s - loss: 0.1237 - accuracy: 0.9536 - auc: 0.9901 - val_loss: 0.1698 - val_accuracy: 0.9328 - val_auc: 0.9803\n",
      "Epoch 13/100\n",
      "14929/14929 - 24s - loss: 0.1185 - accuracy: 0.9565 - auc: 0.9907 - val_loss: 0.1631 - val_accuracy: 0.9370 - val_auc: 0.9814\n",
      "Epoch 14/100\n",
      "14929/14929 - 24s - loss: 0.1138 - accuracy: 0.9565 - auc: 0.9914 - val_loss: 0.1690 - val_accuracy: 0.9387 - val_auc: 0.9816\n",
      "Epoch 15/100\n",
      "14929/14929 - 24s - loss: 0.1097 - accuracy: 0.9591 - auc: 0.9918 - val_loss: 0.1731 - val_accuracy: 0.9328 - val_auc: 0.9808\n",
      "Epoch 16/100\n",
      "14929/14929 - 24s - loss: 0.1072 - accuracy: 0.9597 - auc: 0.9922 - val_loss: 0.1633 - val_accuracy: 0.9373 - val_auc: 0.9809\n",
      "Epoch 17/100\n",
      "14929/14929 - 24s - loss: 0.1027 - accuracy: 0.9617 - auc: 0.9928 - val_loss: 0.1587 - val_accuracy: 0.9395 - val_auc: 0.9819\n",
      "Epoch 18/100\n",
      "14929/14929 - 24s - loss: 0.1000 - accuracy: 0.9638 - auc: 0.9931 - val_loss: 0.1644 - val_accuracy: 0.9413 - val_auc: 0.9824\n",
      "Epoch 19/100\n",
      "14929/14929 - 24s - loss: 0.0955 - accuracy: 0.9644 - auc: 0.9937 - val_loss: 0.1560 - val_accuracy: 0.9437 - val_auc: 0.9822\n",
      "Epoch 20/100\n",
      "14929/14929 - 24s - loss: 0.0954 - accuracy: 0.9656 - auc: 0.9937 - val_loss: 0.1622 - val_accuracy: 0.9413 - val_auc: 0.9821\n",
      "Epoch 21/100\n",
      "14929/14929 - 24s - loss: 0.0910 - accuracy: 0.9664 - auc: 0.9941 - val_loss: 0.1553 - val_accuracy: 0.9432 - val_auc: 0.9824\n",
      "Epoch 22/100\n",
      "14929/14929 - 24s - loss: 0.0886 - accuracy: 0.9674 - auc: 0.9944 - val_loss: 0.1585 - val_accuracy: 0.9384 - val_auc: 0.9824\n",
      "Epoch 23/100\n",
      "14929/14929 - 24s - loss: 0.0855 - accuracy: 0.9691 - auc: 0.9945 - val_loss: 0.1571 - val_accuracy: 0.9373 - val_auc: 0.9824\n",
      "Epoch 24/100\n",
      "14929/14929 - 24s - loss: 0.0837 - accuracy: 0.9699 - auc: 0.9950 - val_loss: 0.1545 - val_accuracy: 0.9432 - val_auc: 0.9831\n",
      "Epoch 25/100\n",
      "14929/14929 - 24s - loss: 0.0807 - accuracy: 0.9705 - auc: 0.9952 - val_loss: 0.1540 - val_accuracy: 0.9424 - val_auc: 0.9831\n",
      "Epoch 26/100\n",
      "14929/14929 - 24s - loss: 0.0795 - accuracy: 0.9707 - auc: 0.9954 - val_loss: 0.1570 - val_accuracy: 0.9416 - val_auc: 0.9831\n",
      "Epoch 27/100\n",
      "14929/14929 - 24s - loss: 0.0765 - accuracy: 0.9725 - auc: 0.9957 - val_loss: 0.1580 - val_accuracy: 0.9456 - val_auc: 0.9832\n",
      "Epoch 28/100\n",
      "14929/14929 - 24s - loss: 0.0750 - accuracy: 0.9734 - auc: 0.9959 - val_loss: 0.1562 - val_accuracy: 0.9424 - val_auc: 0.9828\n",
      "Epoch 29/100\n",
      "14929/14929 - 24s - loss: 0.0730 - accuracy: 0.9734 - auc: 0.9961 - val_loss: 0.1637 - val_accuracy: 0.9454 - val_auc: 0.9827\n",
      "Epoch 30/100\n",
      "14929/14929 - 24s - loss: 0.0719 - accuracy: 0.9738 - auc: 0.9962 - val_loss: 0.1608 - val_accuracy: 0.9429 - val_auc: 0.9825\n",
      "Epoch 31/100\n",
      "14929/14929 - 24s - loss: 0.0703 - accuracy: 0.9750 - auc: 0.9962 - val_loss: 0.1628 - val_accuracy: 0.9416 - val_auc: 0.9827\n",
      "Epoch 32/100\n",
      "14929/14929 - 24s - loss: 0.0688 - accuracy: 0.9747 - auc: 0.9964 - val_loss: 0.1547 - val_accuracy: 0.9445 - val_auc: 0.9825\n",
      "Epoch 33/100\n",
      "14929/14929 - 24s - loss: 0.0679 - accuracy: 0.9754 - auc: 0.9965 - val_loss: 0.1551 - val_accuracy: 0.9435 - val_auc: 0.9830\n",
      "Epoch 34/100\n",
      "14929/14929 - 24s - loss: 0.0665 - accuracy: 0.9762 - auc: 0.9965 - val_loss: 0.1570 - val_accuracy: 0.9464 - val_auc: 0.9820\n",
      "Epoch 35/100\n",
      "14929/14929 - 24s - loss: 0.0651 - accuracy: 0.9772 - auc: 0.9966 - val_loss: 0.1744 - val_accuracy: 0.9416 - val_auc: 0.9830\n",
      "Epoch 36/100\n",
      "14929/14929 - 24s - loss: 0.0641 - accuracy: 0.9778 - auc: 0.9967 - val_loss: 0.1574 - val_accuracy: 0.9424 - val_auc: 0.9829\n",
      "Epoch 37/100\n",
      "14929/14929 - 24s - loss: 0.0630 - accuracy: 0.9786 - auc: 0.9967 - val_loss: 0.1556 - val_accuracy: 0.9445 - val_auc: 0.9829\n",
      "Epoch 38/100\n",
      "14929/14929 - 24s - loss: 0.0604 - accuracy: 0.9787 - auc: 0.9972 - val_loss: 0.1580 - val_accuracy: 0.9443 - val_auc: 0.9824\n",
      "Epoch 39/100\n",
      "14929/14929 - 24s - loss: 0.0601 - accuracy: 0.9792 - auc: 0.9971 - val_loss: 0.1650 - val_accuracy: 0.9413 - val_auc: 0.9825\n",
      "Epoch 40/100\n",
      "14929/14929 - 24s - loss: 0.0587 - accuracy: 0.9796 - auc: 0.9973 - val_loss: 0.1642 - val_accuracy: 0.9403 - val_auc: 0.9817\n",
      "Epoch 41/100\n",
      "14929/14929 - 24s - loss: 0.0576 - accuracy: 0.9803 - auc: 0.9973 - val_loss: 0.1632 - val_accuracy: 0.9435 - val_auc: 0.9825\n",
      "Epoch 42/100\n",
      "14929/14929 - 25s - loss: 0.0555 - accuracy: 0.9805 - auc: 0.9975 - val_loss: 0.1631 - val_accuracy: 0.9419 - val_auc: 0.9816\n",
      "Epoch 43/100\n",
      "14929/14929 - 24s - loss: 0.0555 - accuracy: 0.9806 - auc: 0.9975 - val_loss: 0.1678 - val_accuracy: 0.9400 - val_auc: 0.9810\n",
      "Epoch 44/100\n",
      "14929/14929 - 24s - loss: 0.0541 - accuracy: 0.9810 - auc: 0.9975 - val_loss: 0.1686 - val_accuracy: 0.9427 - val_auc: 0.9812\n",
      "Epoch 45/100\n",
      "14929/14929 - 24s - loss: 0.0543 - accuracy: 0.9820 - auc: 0.9975 - val_loss: 0.1757 - val_accuracy: 0.9429 - val_auc: 0.9809\n"
     ]
    }
   ],
   "source": [
    "history = model.fit(x=train_data.x, y=train_data.y, validation_split=0.2, epochs=100,batch_size=48,\n",
    "                    callbacks=[checkpoint_callback,early_stopping_callback], verbose=2,shuffle=True)"
   ]
  },
  {
   "cell_type": "markdown",
   "metadata": {},
   "source": [
    "## Plot Training History"
   ]
  },
  {
   "cell_type": "code",
   "execution_count": 5,
   "metadata": {},
   "outputs": [
    {
     "data": {
      "image/png": "[encoded data removed]",
      "text/plain": [
       "<Figure size 432x288 with 1 Axes>"
      ]
     },
     "metadata": {
      "needs_background": "light"
     },
     "output_type": "display_data"
    },
    {
     "data": {
      "image/png": "[encoded data removed]",
      "text/plain": [
       "<Figure size 432x288 with 1 Axes>"
      ]
     },
     "metadata": {
      "needs_background": "light"
     },
     "output_type": "display_data"
    }
   ],
   "source": [
    "import matplotlib.pyplot as plt\n",
    "%matplotlib inline\n",
    "# Plot training & validation accuracy values\n",
    "plt.plot(history.history['accuracy'])\n",
    "plt.plot(history.history['val_accuracy'])\n",
    "plt.title('Model accuracy')\n",
    "plt.ylabel('Accuracy')\n",
    "plt.xlabel('Epoch')\n",
    "plt.legend(['Train', 'Validation'], loc='upper left')\n",
    "plt.show()\n",
    "\n",
    "# Plot training & validation loss values\n",
    "plt.plot(history.history['loss'])\n",
    "plt.plot(history.history['val_loss'])\n",
    "plt.title('Model loss')\n",
    "plt.ylabel('Loss')\n",
    "plt.xlabel('Epoch')\n",
    "plt.legend(['Train', 'Validation'], loc='upper left')\n",
    "plt.show()"
   ]
  },
  {
   "cell_type": "markdown",
   "metadata": {},
   "source": [
    "## Restore Weights"
   ]
  },
  {
   "cell_type": "code",
   "execution_count": 6,
   "metadata": {},
   "outputs": [
    {
     "data": {
      "text/plain": [
       "<tensorflow.python.training.tracking.util.CheckpointLoadStatus at 0x19fadd749c8>"
      ]
     },
     "execution_count": 6,
     "metadata": {},
     "output_type": "execute_result"
    }
   ],
   "source": [
    "checkpoint_dir = './checkpoints/' + model_name\n",
    "model.load_weights(tf.train.latest_checkpoint(checkpoint_dir))"
   ]
  },
  {
   "cell_type": "code",
   "execution_count": 7,
   "metadata": {},
   "outputs": [
    {
     "name": "stdout",
     "output_type": "stream",
     "text": [
      "(6051, 1)\n"
     ]
    }
   ],
   "source": [
    "test_predict = model.predict(test_data.x)\n",
    "print(test_predict.shape)"
   ]
  },
  {
   "cell_type": "markdown",
   "metadata": {},
   "source": [
    "\n",
    "\n",
    "## Save Prediction to CSV"
   ]
  },
  {
   "cell_type": "code",
   "execution_count": 8,
   "metadata": {},
   "outputs": [
    {
     "name": "stdout",
     "output_type": "stream",
     "text": [
      "Saved to result_lstm_pooling_2.csv\n"
     ]
    }
   ],
   "source": [
    "import csv\n",
    "\n",
    "output_file = 'result_' + model_name + '.csv'\n",
    "with open(output_file, 'wt', newline='', encoding='utf-8') as output_file:\n",
    "    csv_writer = csv.writer(output_file)\n",
    "    csv_writer.writerow(('Id', 'Predicted'))\n",
    "    for id, predict in enumerate(test_predict):\n",
    "        csv_writer.writerow((id, predict[0]))\n",
    "print('Saved to '+'result_' + model_name + '.csv')"
   ]
  },
  {
   "cell_type": "code",
   "execution_count": null,
   "metadata": {},
   "outputs": [],
   "source": []
  }
 ],
 "metadata": {
  "file_extension": ".py",
  "kernelspec": {
   "display_name": "Python 3",
   "language": "python",
   "name": "python3"
  },
  "language_info": {
   "codemirror_mode": {
    "name": "ipython",
    "version": 3
   },
   "file_extension": ".py",
   "mimetype": "text/x-python",
   "name": "python",
   "nbconvert_exporter": "python",
   "pygments_lexer": "ipython3",
   "version": "3.7.5"
  },
  "mimetype": "text/x-python",
  "name": "python",
  "npconvert_exporter": "python",
  "pygments_lexer": "ipython3",
  "version": 3
 },
 "nbformat": 4,
 "nbformat_minor": 4
}
