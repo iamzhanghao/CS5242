{
 "cells": [
  {
   "cell_type": "markdown",
   "metadata": {},
   "source": [
    "# CS5242"
   ]
  },
  {
   "cell_type": "markdown",
   "metadata": {},
   "source": [
    "## Load Data"
   ]
  },
  {
   "cell_type": "code",
   "execution_count": 5,
   "metadata": {},
   "outputs": [
    {
     "name": "stderr",
     "output_type": "stream",
     "text": [
      "Loading train data 18662/18662: 100%|█████████████████████████████████████████████████████████████ [ time left: 00:00 ]\n"
     ]
    },
    {
     "name": "stdout",
     "output_type": "stream",
     "text": [
      "Normalizing x data using normalize factors:  [3.0, 3.0, 43.586509704589844, 12.0, 10.0, 3.0, 4.0, 7.0, 2417.0, 17728.333984375, 58425.0, 6.584963321685791, 31.0, 78.0, 58.0, 16.0, 43.0, 24.0]\n",
      "Train data: x:(14930, 1000, 102) y:(14930, 1)\n",
      "Validation data: x:(3732, 1000, 102) y:(3732, 1)\n"
     ]
    }
   ],
   "source": [
    "from data import Data\n",
    "import numpy as np\n",
    "\n",
    "full_train = Data(data_type='train')\n",
    "\n",
    "idx = np.random.permutation(len(full_train.x))\n",
    "full_train_x,full_train_y = full_train.x[idx], full_train.y[idx]\n",
    "\n",
    "del full_train\n",
    "\n",
    "val_data_x, train_data_x = full_train_x[:full_train_x.shape[0]//5,:], full_train_x[full_train_x.shape[0]//5:,:]\n",
    "val_data_y,train_data_y = full_train_y[:full_train_y.shape[0]//5,:], full_train_y[full_train_y.shape[0]//5:,:]\n",
    "\n",
    "print(\"Train data: x:\"+ str(train_data_x.shape)+ ' y:'+str(train_data_y.shape))\n",
    "print(\"Validation data: x:\"+ str(val_data_x.shape)+ ' y:'+str(val_data_y.shape))\n",
    "\n",
    "# print(train_data_x)"
   ]
  },
  {
   "cell_type": "markdown",
   "metadata": {},
   "source": [
    "## Model"
   ]
  },
  {
   "cell_type": "code",
   "execution_count": 9,
   "metadata": {},
   "outputs": [],
   "source": [
    "import tensorflow as tf\n",
    "\n",
    "model_name = 'boosting_with_normalization'\n",
    "\n",
    "def create_model(show_summary = False):\n",
    "    model = tf.keras.Sequential([\n",
    "        tf.keras.layers.Bidirectional(tf.keras.layers.LSTM(128, return_sequences=True),input_shape=(1000,102)),\n",
    "        tf.keras.layers.GlobalMaxPooling1D(),\n",
    "        tf.keras.layers.Dense(64, activation='relu'),\n",
    "        tf.keras.layers.Dropout(0.2),\n",
    "        tf.keras.layers.Dense(1, activation='sigmoid')\n",
    "    ])\n",
    "\n",
    "    model.compile(loss='binary_crossentropy',\n",
    "                  optimizer=tf.keras.optimizers.Adam(3e-4, 0.95, 0.99),\n",
    "                  metrics=['accuracy'])\n",
    "    \n",
    "    if show_summary:\n",
    "        model.summary()\n",
    "    \n",
    "    return model\n",
    "    \n",
    "num_of_bags = 10\n",
    "epochs_per_bag = 100\n",
    "start_from_bag = 0\n"
   ]
  },
  {
   "cell_type": "markdown",
   "metadata": {},
   "source": [
    "## Training with Boosting"
   ]
  },
  {
   "cell_type": "code",
   "execution_count": null,
   "metadata": {},
   "outputs": [
    {
     "name": "stdout",
     "output_type": "stream",
     "text": [
      "Training bag 0\n",
      "Model: \"sequential_7\"\n",
      "_________________________________________________________________\n",
      "Layer (type)                 Output Shape              Param #   \n",
      "=================================================================\n",
      "bidirectional_7 (Bidirection (None, 1000, 256)         236544    \n",
      "_________________________________________________________________\n",
      "global_max_pooling1d_7 (Glob (None, 256)               0         \n",
      "_________________________________________________________________\n",
      "dense_14 (Dense)             (None, 64)                16448     \n",
      "_________________________________________________________________\n",
      "dropout_7 (Dropout)          (None, 64)                0         \n",
      "_________________________________________________________________\n",
      "dense_15 (Dense)             (None, 1)                 65        \n",
      "=================================================================\n",
      "Total params: 253,057\n",
      "Trainable params: 253,057\n",
      "Non-trainable params: 0\n",
      "_________________________________________________________________\n",
      "Train on 11944 samples, validate on 3732 samples\n",
      "Epoch 1/100\n",
      "11944/11944 - 37s - loss: 0.4382 - accuracy: 0.8064 - val_loss: 0.3619 - val_accuracy: 0.8406\n",
      "Epoch 2/100\n",
      "11944/11944 - 34s - loss: 0.3417 - accuracy: 0.8585 - val_loss: 0.3154 - val_accuracy: 0.8797\n",
      "Epoch 3/100\n",
      "11944/11944 - 34s - loss: 0.2939 - accuracy: 0.8822 - val_loss: 0.2736 - val_accuracy: 0.8861\n",
      "Epoch 4/100\n"
     ]
    }
   ],
   "source": [
    "import os\n",
    "import matplotlib.pyplot as plt\n",
    "import csv\n",
    "import math\n",
    "%matplotlib inline\n",
    "    \n",
    "training_loss = np.ones(train_data_x.shape[0])\n",
    "\n",
    "for bag in range(num_of_bags):\n",
    "    # skip training\n",
    "    if bag < start_from_bag:\n",
    "        print(\"skiping bag \"+str(bag))\n",
    "        continue\n",
    "    print(\"Training bag \"+str(bag))\n",
    "\n",
    "    # Put data into bags\n",
    "    model = create_model(False)\n",
    "    train_size = train_data_x.shape[0]//10*8\n",
    "    if bag != 0 :\n",
    "        for validate_bag in range(bag):\n",
    "            checkpoint_dir = './checkpoints/' + model_name+ '_bag'+ str(validate_bag)\n",
    "            model.load_weights(tf.train.latest_checkpoint(checkpoint_dir))\n",
    "            if validate_bag == 0:\n",
    "                predictions = model.predict(train_data_x)\n",
    "            else:\n",
    "                predictions = np.concatenate((predictions,model.predict(train_data_x)),axis=1)\n",
    "        print(predictions.shape)\n",
    "\n",
    "        avg_predictions = np.mean(predictions, axis=1)\n",
    "        print(avg_predictions.shape)\n",
    "        \n",
    "        # Save Predictions for reference\n",
    "        output_file = 'result_' + model_name +'_boost'+ str(bag) +'.csv'\n",
    "        with open(output_file, 'wt', newline='', encoding='utf-8') as output_file:\n",
    "            csv_writer = csv.writer(output_file)\n",
    "            csv_writer.writerow(('Id', 'Predicted'))\n",
    "            for id, predict in enumerate(avg_predictions):\n",
    "                csv_writer.writerow((id, predict))\n",
    "        print('Saved to '+'result_' + model_name +'_boost'+ str(bag) +'.csv')\n",
    "        \n",
    "        # Select training data poorly predicted first\n",
    "        training_loss = avg_predictions-np.reshape(train_data_y,(train_data_y.shape[0]))\n",
    "        training_loss = np.absolute(training_loss)\n",
    "    \n",
    "    idx = (-training_loss).argsort()[:train_size]\n",
    "    bag_x,bag_y = train_data_x[idx], train_data_y[idx]\n",
    "        \n",
    "    del model\n",
    "        \n",
    "    ## TODO define different models if possible\n",
    "    model = create_model(bag==0)\n",
    "    # Directory where the checkpoints will be saved\n",
    "    checkpoint_dir = './checkpoints/' + model_name+ '_bag'+ str(bag)\n",
    "    # Name of the checkpoint files\n",
    "    checkpoint_prefix = os.path.join(checkpoint_dir, \"ckpt_{epoch}\")\n",
    "\n",
    "    checkpoint_callback=tf.keras.callbacks.ModelCheckpoint(\n",
    "        filepath=checkpoint_prefix,\n",
    "        monitor='val_loss',\n",
    "        save_best_only=True,\n",
    "        save_weights_only=True)\n",
    "\n",
    "    early_stopping_callback = tf.keras.callbacks.EarlyStopping(\n",
    "        monitor='val_loss', \n",
    "        min_delta=0, \n",
    "        patience=15, \n",
    "        mode='auto', \n",
    "        restore_best_weights=True)\n",
    "        \n",
    "        \n",
    "        \n",
    "    history = model.fit(x=bag_x,y=bag_y, validation_data=(val_data_x,val_data_y), epochs=epochs_per_bag,batch_size=32,\n",
    "                    callbacks=[checkpoint_callback,early_stopping_callback], verbose=2,shuffle=True)\n",
    "    \n",
    "    print()\n",
    "    \n",
    "    # Plot training & validation accuracy values\n",
    "    plt.plot(history.history['accuracy'])\n",
    "    plt.plot(history.history['val_accuracy'])\n",
    "    plt.title('Model accuracy')\n",
    "    plt.ylabel('Accuracy')\n",
    "    plt.xlabel('Epoch')\n",
    "    plt.legend(['Train', 'Validation'], loc='upper left')\n",
    "    plt.show()\n",
    "\n",
    "    # Plot training & validation loss values\n",
    "    plt.plot(history.history['loss'])\n",
    "    plt.plot(history.history['val_loss'])\n",
    "    plt.title('Model loss')\n",
    "    plt.ylabel('Loss')\n",
    "    plt.xlabel('Epoch')\n",
    "    plt.legend(['Train', 'Validation'], loc='upper left')\n",
    "    plt.show()\n",
    "    "
   ]
  },
  {
   "cell_type": "markdown",
   "metadata": {},
   "source": [
    "## Restore Weights"
   ]
  },
  {
   "cell_type": "code",
   "execution_count": 3,
   "metadata": {},
   "outputs": [
    {
     "name": "stderr",
     "output_type": "stream",
     "text": [
      "Loading test data 3238/6051:  54%|██████████████████████████████████▏                              [ time left: 00:04 ]"
     ]
    },
    {
     "name": "stdout",
     "output_type": "stream",
     "text": [
      "WARNING:tensorflow:Unresolved object in checkpoint: (root).optimizer.iter\n",
      "WARNING:tensorflow:Unresolved object in checkpoint: (root).optimizer.beta_1\n",
      "WARNING:tensorflow:Unresolved object in checkpoint: (root).optimizer.beta_2\n",
      "WARNING:tensorflow:Unresolved object in checkpoint: (root).optimizer.decay\n",
      "WARNING:tensorflow:Unresolved object in checkpoint: (root).optimizer.learning_rate\n",
      "WARNING:tensorflow:A checkpoint was restored (e.g. tf.train.Checkpoint.restore or tf.keras.Model.load_weights) but not all checkpointed values were used. See above for specific issues. Use expect_partial() on the load status object, e.g. tf.train.Checkpoint.restore(...).expect_partial(), to silence these warnings, or use assert_consumed() to make the check explicit. See https://www.tensorflow.org/alpha/guide/checkpoints#loading_mechanics for details.\n"
     ]
    },
    {
     "name": "stderr",
     "output_type": "stream",
     "text": [
      "Loading test data 6051/6051: 100%|████████████████████████████████████████████████████████████████ [ time left: 00:00 ]\n"
     ]
    },
    {
     "name": "stdout",
     "output_type": "stream",
     "text": [
      "Normalizing x data using normalize factors:  [3.0, 3.0, 43.586509704589844, 12.0, 10.0, 3.0, 4.0, 7.0, 2417.0, 17728.333984375, 58425.0, 6.584963321685791, 31.0, 78.0, 58.0, 16.0, 43.0, 24.0]\n",
      "Test data: x:(6051, 1000, 102) y:(6051, 1)\n",
      "(6051, 10)\n",
      "(6051,)\n"
     ]
    }
   ],
   "source": [
    "checkpoint_dir = './checkpoints/' + model_name\n",
    "model = create_model()\n",
    "\n",
    "import numpy as np\n",
    "from data import Data\n",
    "\n",
    "test_data = Data(data_type='test')\n",
    "print(\"Test data: x:\"+ str(test_data.x.shape)+ ' y:'+str(test_data.y.shape))\n",
    "\n",
    "for bag in range(num_of_bags):\n",
    "    checkpoint_dir = './checkpoints/' + model_name+ '_bag'+ str(bag)\n",
    "    model.load_weights(tf.train.latest_checkpoint(checkpoint_dir))\n",
    "    if bag == 0:\n",
    "        predictions = model.predict(test_data.x)\n",
    "    else:\n",
    "        predictions = np.concatenate((predictions,model.predict(test_data.x)),axis=1)\n",
    "print(predictions.shape)\n",
    "\n",
    "avg_predictions = np.mean(predictions, axis=1)\n",
    "print(avg_predictions.shape)"
   ]
  },
  {
   "cell_type": "markdown",
   "metadata": {},
   "source": [
    "\n",
    "\n",
    "## Save Prediction to CSV"
   ]
  },
  {
   "cell_type": "code",
   "execution_count": 4,
   "metadata": {},
   "outputs": [
    {
     "name": "stdout",
     "output_type": "stream",
     "text": [
      "Saved to result_boosting_with_normalization.csv\n"
     ]
    }
   ],
   "source": [
    "import csv\n",
    "\n",
    "output_file = 'result_' + model_name + '.csv'\n",
    "with open(output_file, 'wt', newline='', encoding='utf-8') as output_file:\n",
    "    csv_writer = csv.writer(output_file)\n",
    "    csv_writer.writerow(('Id', 'Predicted'))\n",
    "    for id, predict in enumerate(avg_predictions):\n",
    "        csv_writer.writerow((id, predict))\n",
    "print('Saved to '+'result_' + model_name + '.csv')"
   ]
  },
  {
   "cell_type": "code",
   "execution_count": null,
   "metadata": {},
   "outputs": [],
   "source": []
  }
 ],
 "metadata": {
  "file_extension": ".py",
  "kernelspec": {
   "display_name": "keras_tf",
   "language": "python",
   "name": "keras_tf"
  },
  "language_info": {
   "codemirror_mode": {
    "name": "ipython",
    "version": 3
   },
   "file_extension": ".py",
   "mimetype": "text/x-python",
   "name": "python",
   "nbconvert_exporter": "python",
   "pygments_lexer": "ipython3",
   "version": "3.7.3"
  },
  "mimetype": "text/x-python",
  "name": "python",
  "npconvert_exporter": "python",
  "pygments_lexer": "ipython3",
  "version": 3
 },
 "nbformat": 4,
 "nbformat_minor": 4
}
