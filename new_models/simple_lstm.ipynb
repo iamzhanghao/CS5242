{
 "cells": [
  {
   "cell_type": "markdown",
   "metadata": {},
   "source": [
    "# CS5242"
   ]
  },
  {
   "cell_type": "markdown",
   "metadata": {},
   "source": [
    "## Load Data"
   ]
  },
  {
   "cell_type": "code",
   "execution_count": 1,
   "metadata": {},
   "outputs": [
    {
     "name": "stderr",
     "output_type": "stream",
     "text": [
      "Loading train data 18662/18662: 100%|███████████████████████████████████████████████████████████████████████████████████████████████████████████████████████████████████████████ [ time left: 00:00 ]\n",
      "Loading test data 6051/6051: 100%|██████████████████████████████████████████████████████████████████████████████████████████████████████████████████████████████████████████████ [ time left: 00:00 ]\n"
     ]
    },
    {
     "name": "stdout",
     "output_type": "stream",
     "text": [
      "Train data: x:(18662, 1000, 102) y:(18662, 1)\n",
      "Test data: x:(6051, 1000, 102) y:(6051, 1)\n"
     ]
    }
   ],
   "source": [
    "from data import Data\n",
    "\n",
    "train_data = Data(data_type='train')\n",
    "test_data = Data(data_type='test')\n",
    "\n",
    "print(\"Train data: x:\"+ str(train_data.x.shape)+ ' y:'+str(train_data.y.shape))\n",
    "print(\"Test data: x:\"+ str(test_data.x.shape)+ ' y:'+str(test_data.y.shape))\n",
    "\n"
   ]
  },
  {
   "cell_type": "markdown",
   "metadata": {},
   "source": [
    "## Model"
   ]
  },
  {
   "cell_type": "code",
   "execution_count": 2,
   "metadata": {},
   "outputs": [
    {
     "name": "stdout",
     "output_type": "stream",
     "text": [
      "Model: \"sequential\"\n",
      "_________________________________________________________________\n",
      "Layer (type)                 Output Shape              Param #   \n",
      "=================================================================\n",
      "bidirectional (Bidirectional (None, 256)               236544    \n",
      "_________________________________________________________________\n",
      "dropout (Dropout)            (None, 256)               0         \n",
      "_________________________________________________________________\n",
      "dense (Dense)                (None, 128)               32896     \n",
      "_________________________________________________________________\n",
      "dropout_1 (Dropout)          (None, 128)               0         \n",
      "_________________________________________________________________\n",
      "dense_1 (Dense)              (None, 64)                8256      \n",
      "_________________________________________________________________\n",
      "dropout_2 (Dropout)          (None, 64)                0         \n",
      "_________________________________________________________________\n",
      "dense_2 (Dense)              (None, 1)                 65        \n",
      "=================================================================\n",
      "Total params: 277,761\n",
      "Trainable params: 277,761\n",
      "Non-trainable params: 0\n",
      "_________________________________________________________________\n"
     ]
    }
   ],
   "source": [
    "import tensorflow as tf\n",
    "\n",
    "model_name = 'simple_lstm'\n",
    "\n",
    "model = tf.keras.Sequential([\n",
    "    tf.keras.layers.Bidirectional(tf.keras.layers.LSTM(128),input_shape=(1000,102)),\n",
    "    tf.keras.layers.Dropout(rate=0.3),\n",
    "    tf.keras.layers.Dense(128, activation='relu'),\n",
    "    tf.keras.layers.Dropout(rate=0.3),\n",
    "    tf.keras.layers.Dense(64, activation='relu'),\n",
    "    tf.keras.layers.Dropout(rate=0.3),\n",
    "    tf.keras.layers.Dense(1, activation='sigmoid')\n",
    "])\n",
    "\n",
    "model.compile(loss='mse',\n",
    "              optimizer=tf.keras.optimizers.Adam(1e-3),\n",
    "              metrics=['accuracy'])\n",
    "\n",
    "model.summary()"
   ]
  },
  {
   "cell_type": "markdown",
   "metadata": {},
   "source": [
    "## Save Checkpoint"
   ]
  },
  {
   "cell_type": "code",
   "execution_count": 3,
   "metadata": {},
   "outputs": [],
   "source": [
    "import os\n",
    "# Directory where the checkpoints will be saved\n",
    "checkpoint_dir = './checkpoints/' + model_name\n",
    "# Name of the checkpoint files\n",
    "checkpoint_prefix = os.path.join(checkpoint_dir, \"ckpt_{epoch}\")\n",
    "\n",
    "checkpoint_callback=tf.keras.callbacks.ModelCheckpoint(\n",
    "    filepath=checkpoint_prefix,\n",
    "    monitor='val_loss',\n",
    "    save_best_only=True,\n",
    "    save_weights_only=True)\n",
    "\n",
    "early_stopping_callback = tf.keras.callbacks.EarlyStopping(\n",
    "    monitor='val_loss', \n",
    "    min_delta=0, \n",
    "    patience=30, \n",
    "    mode='auto', \n",
    "    restore_best_weights=True)"
   ]
  },
  {
   "cell_type": "markdown",
   "metadata": {},
   "source": [
    "## Training"
   ]
  },
  {
   "cell_type": "code",
   "execution_count": 4,
   "metadata": {},
   "outputs": [
    {
     "name": "stdout",
     "output_type": "stream",
     "text": [
      "Train on 15862 samples, validate on 2800 samples\n",
      "Epoch 1/300\n",
      "15862/15862 - 29s - loss: 0.1160 - accuracy: 0.8438 - val_loss: 0.1186 - val_accuracy: 0.8304\n",
      "Epoch 2/300\n",
      "15862/15862 - 25s - loss: 0.0960 - accuracy: 0.8713 - val_loss: 0.1183 - val_accuracy: 0.8364\n",
      "Epoch 3/300\n",
      "15862/15862 - 25s - loss: 0.0860 - accuracy: 0.8877 - val_loss: 0.1095 - val_accuracy: 0.8457\n",
      "Epoch 4/300\n",
      "15862/15862 - 25s - loss: 0.0822 - accuracy: 0.8924 - val_loss: 0.1068 - val_accuracy: 0.8571\n",
      "Epoch 5/300\n",
      "15862/15862 - 25s - loss: 0.0805 - accuracy: 0.8928 - val_loss: 0.0974 - val_accuracy: 0.8714\n",
      "Epoch 6/300\n",
      "15862/15862 - 25s - loss: 0.0788 - accuracy: 0.8934 - val_loss: 0.1005 - val_accuracy: 0.8568\n",
      "Epoch 7/300\n",
      "15862/15862 - 25s - loss: 0.0712 - accuracy: 0.9047 - val_loss: 0.0905 - val_accuracy: 0.8800\n",
      "Epoch 8/300\n",
      "15862/15862 - 25s - loss: 0.0696 - accuracy: 0.9088 - val_loss: 0.0907 - val_accuracy: 0.8754\n",
      "Epoch 9/300\n",
      "15862/15862 - 25s - loss: 0.0665 - accuracy: 0.9119 - val_loss: 0.0865 - val_accuracy: 0.8796\n",
      "Epoch 10/300\n",
      "15862/15862 - 25s - loss: 0.0663 - accuracy: 0.9122 - val_loss: 0.0916 - val_accuracy: 0.8804\n",
      "Epoch 11/300\n",
      "15862/15862 - 25s - loss: 0.0611 - accuracy: 0.9202 - val_loss: 0.0837 - val_accuracy: 0.8921\n",
      "Epoch 12/300\n",
      "15862/15862 - 25s - loss: 0.0581 - accuracy: 0.9236 - val_loss: 0.0748 - val_accuracy: 0.8993\n",
      "Epoch 13/300\n",
      "15862/15862 - 25s - loss: 0.0560 - accuracy: 0.9254 - val_loss: 0.0787 - val_accuracy: 0.8943\n",
      "Epoch 14/300\n",
      "15862/15862 - 25s - loss: 0.0537 - accuracy: 0.9295 - val_loss: 0.0796 - val_accuracy: 0.8954\n",
      "Epoch 15/300\n",
      "15862/15862 - 25s - loss: 0.0520 - accuracy: 0.9331 - val_loss: 0.0851 - val_accuracy: 0.8914\n",
      "Epoch 16/300\n",
      "15862/15862 - 25s - loss: 0.0511 - accuracy: 0.9347 - val_loss: 0.0798 - val_accuracy: 0.8925\n",
      "Epoch 17/300\n",
      "15862/15862 - 25s - loss: 0.0519 - accuracy: 0.9336 - val_loss: 0.0785 - val_accuracy: 0.8968\n",
      "Epoch 18/300\n",
      "15862/15862 - 25s - loss: 0.0485 - accuracy: 0.9358 - val_loss: 0.0750 - val_accuracy: 0.9050\n",
      "Epoch 19/300\n",
      "15862/15862 - 25s - loss: 0.0487 - accuracy: 0.9375 - val_loss: 0.0767 - val_accuracy: 0.8982\n",
      "Epoch 20/300\n",
      "15862/15862 - 25s - loss: 0.0451 - accuracy: 0.9414 - val_loss: 0.0776 - val_accuracy: 0.9014\n",
      "Epoch 21/300\n",
      "15862/15862 - 25s - loss: 0.0462 - accuracy: 0.9419 - val_loss: 0.0757 - val_accuracy: 0.9029\n",
      "Epoch 22/300\n",
      "15862/15862 - 25s - loss: 0.0502 - accuracy: 0.9365 - val_loss: 0.0836 - val_accuracy: 0.8875\n",
      "Epoch 23/300\n",
      "15862/15862 - 25s - loss: 0.0725 - accuracy: 0.9066 - val_loss: 0.0810 - val_accuracy: 0.8946\n",
      "Epoch 24/300\n",
      "15862/15862 - 25s - loss: 0.0554 - accuracy: 0.9261 - val_loss: 0.0798 - val_accuracy: 0.8964\n",
      "Epoch 25/300\n",
      "15862/15862 - 25s - loss: 0.0500 - accuracy: 0.9360 - val_loss: 0.0787 - val_accuracy: 0.8936\n",
      "Epoch 26/300\n",
      "15862/15862 - 25s - loss: 0.0490 - accuracy: 0.9380 - val_loss: 0.0773 - val_accuracy: 0.8989\n",
      "Epoch 27/300\n",
      "15862/15862 - 25s - loss: 0.0462 - accuracy: 0.9405 - val_loss: 0.0759 - val_accuracy: 0.8986\n",
      "Epoch 28/300\n",
      "15862/15862 - 25s - loss: 0.0468 - accuracy: 0.9395 - val_loss: 0.0793 - val_accuracy: 0.8957\n",
      "Epoch 29/300\n",
      "15862/15862 - 25s - loss: 0.0462 - accuracy: 0.9409 - val_loss: 0.0814 - val_accuracy: 0.8993\n",
      "Epoch 30/300\n",
      "15862/15862 - 25s - loss: 0.0439 - accuracy: 0.9441 - val_loss: 0.0864 - val_accuracy: 0.8889\n",
      "Epoch 31/300\n",
      "15862/15862 - 25s - loss: 0.0439 - accuracy: 0.9453 - val_loss: 0.0741 - val_accuracy: 0.9007\n",
      "Epoch 32/300\n",
      "15862/15862 - 25s - loss: 0.0427 - accuracy: 0.9456 - val_loss: 0.0744 - val_accuracy: 0.9089\n",
      "Epoch 33/300\n",
      "15862/15862 - 25s - loss: 0.0446 - accuracy: 0.9433 - val_loss: 0.0803 - val_accuracy: 0.8982\n",
      "Epoch 34/300\n",
      "15862/15862 - 25s - loss: 0.0434 - accuracy: 0.9436 - val_loss: 0.0776 - val_accuracy: 0.9064\n",
      "Epoch 35/300\n",
      "15862/15862 - 25s - loss: 0.0419 - accuracy: 0.9462 - val_loss: 0.0708 - val_accuracy: 0.9104\n",
      "Epoch 36/300\n",
      "15862/15862 - 25s - loss: 0.0394 - accuracy: 0.9506 - val_loss: 0.0711 - val_accuracy: 0.9086\n",
      "Epoch 37/300\n",
      "15862/15862 - 25s - loss: 0.0378 - accuracy: 0.9521 - val_loss: 0.0717 - val_accuracy: 0.9161\n",
      "Epoch 38/300\n",
      "15862/15862 - 25s - loss: 0.0394 - accuracy: 0.9509 - val_loss: 0.0714 - val_accuracy: 0.9111\n",
      "Epoch 39/300\n",
      "15862/15862 - 25s - loss: 0.0362 - accuracy: 0.9550 - val_loss: 0.0715 - val_accuracy: 0.9107\n",
      "Epoch 40/300\n",
      "15862/15862 - 25s - loss: 0.0372 - accuracy: 0.9532 - val_loss: 0.0699 - val_accuracy: 0.9150\n",
      "Epoch 41/300\n",
      "15862/15862 - 25s - loss: 0.0363 - accuracy: 0.9547 - val_loss: 0.0748 - val_accuracy: 0.9104\n",
      "Epoch 42/300\n",
      "15862/15862 - 25s - loss: 0.0919 - accuracy: 0.9001 - val_loss: 0.6357 - val_accuracy: 0.3639\n",
      "Epoch 43/300\n",
      "15862/15862 - 25s - loss: 0.1622 - accuracy: 0.8102 - val_loss: 0.1037 - val_accuracy: 0.8564\n",
      "Epoch 44/300\n",
      "15862/15862 - 25s - loss: 0.0690 - accuracy: 0.9080 - val_loss: 0.0889 - val_accuracy: 0.8679\n",
      "Epoch 45/300\n",
      "15862/15862 - 25s - loss: 0.0572 - accuracy: 0.9235 - val_loss: 0.0804 - val_accuracy: 0.8954\n",
      "Epoch 46/300\n",
      "15862/15862 - 25s - loss: 0.0518 - accuracy: 0.9305 - val_loss: 0.0769 - val_accuracy: 0.9025\n",
      "Epoch 47/300\n",
      "15862/15862 - 25s - loss: 0.0491 - accuracy: 0.9373 - val_loss: 0.0842 - val_accuracy: 0.8907\n",
      "Epoch 48/300\n",
      "15862/15862 - 25s - loss: 0.0450 - accuracy: 0.9426 - val_loss: 0.0776 - val_accuracy: 0.8996\n",
      "Epoch 49/300\n",
      "15862/15862 - 25s - loss: 0.0430 - accuracy: 0.9452 - val_loss: 0.0748 - val_accuracy: 0.9057\n",
      "Epoch 50/300\n",
      "15862/15862 - 25s - loss: 0.0412 - accuracy: 0.9481 - val_loss: 0.0795 - val_accuracy: 0.8975\n",
      "Epoch 51/300\n",
      "15862/15862 - 25s - loss: 0.0404 - accuracy: 0.9495 - val_loss: 0.0761 - val_accuracy: 0.9064\n",
      "Epoch 52/300\n",
      "15862/15862 - 25s - loss: 0.0669 - accuracy: 0.9163 - val_loss: 0.0865 - val_accuracy: 0.8857\n",
      "Epoch 53/300\n",
      "15862/15862 - 25s - loss: 0.0569 - accuracy: 0.9274 - val_loss: 0.0762 - val_accuracy: 0.8975\n",
      "Epoch 54/300\n",
      "15862/15862 - 25s - loss: 0.0498 - accuracy: 0.9353 - val_loss: 0.0789 - val_accuracy: 0.8961\n",
      "Epoch 55/300\n",
      "15862/15862 - 25s - loss: 0.0465 - accuracy: 0.9401 - val_loss: 0.0761 - val_accuracy: 0.9032\n",
      "Epoch 56/300\n",
      "15862/15862 - 25s - loss: 0.0458 - accuracy: 0.9403 - val_loss: 0.0840 - val_accuracy: 0.8900\n",
      "Epoch 57/300\n",
      "15862/15862 - 25s - loss: 0.0432 - accuracy: 0.9448 - val_loss: 0.0695 - val_accuracy: 0.9121\n",
      "Epoch 58/300\n",
      "15862/15862 - 25s - loss: 0.0411 - accuracy: 0.9479 - val_loss: 0.0766 - val_accuracy: 0.9011\n",
      "Epoch 59/300\n",
      "15862/15862 - 25s - loss: 0.0387 - accuracy: 0.9504 - val_loss: 0.0698 - val_accuracy: 0.9129\n",
      "Epoch 60/300\n",
      "15862/15862 - 25s - loss: 0.0374 - accuracy: 0.9528 - val_loss: 0.0770 - val_accuracy: 0.9011\n",
      "Epoch 61/300\n",
      "15862/15862 - 25s - loss: 0.0360 - accuracy: 0.9540 - val_loss: 0.0777 - val_accuracy: 0.9000\n",
      "Epoch 62/300\n",
      "15862/15862 - 25s - loss: 0.0329 - accuracy: 0.9591 - val_loss: 0.0835 - val_accuracy: 0.8957\n",
      "Epoch 63/300\n",
      "15862/15862 - 25s - loss: 0.0612 - accuracy: 0.9202 - val_loss: 0.0938 - val_accuracy: 0.8714\n",
      "Epoch 64/300\n",
      "15862/15862 - 25s - loss: 0.0540 - accuracy: 0.9283 - val_loss: 0.0832 - val_accuracy: 0.8900\n",
      "Epoch 65/300\n",
      "15862/15862 - 25s - loss: 0.0471 - accuracy: 0.9392 - val_loss: 0.0794 - val_accuracy: 0.8989\n",
      "Epoch 66/300\n",
      "15862/15862 - 25s - loss: 0.0438 - accuracy: 0.9442 - val_loss: 0.0753 - val_accuracy: 0.9032\n",
      "Epoch 67/300\n",
      "15862/15862 - 25s - loss: 0.0411 - accuracy: 0.9467 - val_loss: 0.0723 - val_accuracy: 0.9107\n",
      "Epoch 68/300\n",
      "15862/15862 - 25s - loss: 0.0386 - accuracy: 0.9505 - val_loss: 0.0780 - val_accuracy: 0.9000\n",
      "Epoch 69/300\n",
      "15862/15862 - 25s - loss: 0.0370 - accuracy: 0.9525 - val_loss: 0.0757 - val_accuracy: 0.9036\n",
      "Epoch 70/300\n",
      "15862/15862 - 25s - loss: 0.0355 - accuracy: 0.9557 - val_loss: 0.0743 - val_accuracy: 0.9089\n",
      "Epoch 71/300\n",
      "15862/15862 - 25s - loss: 0.0338 - accuracy: 0.9581 - val_loss: 0.0772 - val_accuracy: 0.9057\n",
      "Epoch 72/300\n",
      "15862/15862 - 25s - loss: 0.0328 - accuracy: 0.9593 - val_loss: 0.0761 - val_accuracy: 0.9075\n",
      "Epoch 73/300\n",
      "15862/15862 - 25s - loss: 0.0327 - accuracy: 0.9592 - val_loss: 0.0744 - val_accuracy: 0.9071\n",
      "Epoch 74/300\n",
      "15862/15862 - 25s - loss: 0.0313 - accuracy: 0.9610 - val_loss: 0.0758 - val_accuracy: 0.9086\n",
      "Epoch 75/300\n",
      "15862/15862 - 25s - loss: 0.0309 - accuracy: 0.9618 - val_loss: 0.0763 - val_accuracy: 0.9071\n",
      "Epoch 76/300\n",
      "15862/15862 - 25s - loss: 0.0301 - accuracy: 0.9634 - val_loss: 0.0763 - val_accuracy: 0.9068\n",
      "Epoch 77/300\n",
      "15862/15862 - 25s - loss: 0.0292 - accuracy: 0.9641 - val_loss: 0.0775 - val_accuracy: 0.9061\n",
      "Epoch 78/300\n",
      "15862/15862 - 26s - loss: 0.0298 - accuracy: 0.9626 - val_loss: 0.0878 - val_accuracy: 0.8975\n",
      "Epoch 79/300\n",
      "15862/15862 - 26s - loss: 0.0332 - accuracy: 0.9579 - val_loss: 0.0742 - val_accuracy: 0.9100\n",
      "Epoch 80/300\n",
      "15862/15862 - 25s - loss: 0.0300 - accuracy: 0.9624 - val_loss: 0.0761 - val_accuracy: 0.9054\n",
      "Epoch 81/300\n",
      "15862/15862 - 25s - loss: 0.0285 - accuracy: 0.9641 - val_loss: 0.0799 - val_accuracy: 0.9018\n",
      "Epoch 82/300\n",
      "15862/15862 - 25s - loss: 0.0271 - accuracy: 0.9664 - val_loss: 0.0723 - val_accuracy: 0.9157\n",
      "Epoch 83/300\n",
      "15862/15862 - 26s - loss: 0.0301 - accuracy: 0.9625 - val_loss: 0.0747 - val_accuracy: 0.9104\n",
      "Epoch 84/300\n",
      "15862/15862 - 25s - loss: 0.0278 - accuracy: 0.9661 - val_loss: 0.0744 - val_accuracy: 0.9111\n",
      "Epoch 85/300\n",
      "15862/15862 - 25s - loss: 0.0271 - accuracy: 0.9664 - val_loss: 0.0775 - val_accuracy: 0.9100\n",
      "Epoch 86/300\n",
      "15862/15862 - 26s - loss: 0.0286 - accuracy: 0.9648 - val_loss: 0.0740 - val_accuracy: 0.9107\n",
      "Epoch 87/300\n",
      "15862/15862 - 25s - loss: 0.1830 - accuracy: 0.7862 - val_loss: 0.1365 - val_accuracy: 0.8089\n"
     ]
    }
   ],
   "source": [
    "history = model.fit(x=train_data.x, y=train_data.y, validation_split=0.15, epochs=300,batch_size=64,\n",
    "                    callbacks=[checkpoint_callback,early_stopping_callback], verbose=2,shuffle=True)"
   ]
  },
  {
   "cell_type": "markdown",
   "metadata": {},
   "source": [
    "## Plot Training History"
   ]
  },
  {
   "cell_type": "code",
   "execution_count": 14,
   "metadata": {},
   "outputs": [
    {
     "data": {
      "image/png": "[encoded data removed]",
      "text/plain": [
       "<Figure size 432x288 with 1 Axes>"
      ]
     },
     "metadata": {
      "needs_background": "light"
     },
     "output_type": "display_data"
    },
    {
     "data": {
      "image/png": "[encoded data removed]",
      "text/plain": [
       "<Figure size 432x288 with 1 Axes>"
      ]
     },
     "metadata": {
      "needs_background": "light"
     },
     "output_type": "display_data"
    }
   ],
   "source": [
    "import matplotlib.pyplot as plt\n",
    "%matplotlib inline\n",
    "# Plot training & validation accuracy values\n",
    "plt.plot(history.history['accuracy'])\n",
    "plt.plot(history.history['val_accuracy'])\n",
    "plt.title('Model accuracy')\n",
    "plt.ylabel('Accuracy')\n",
    "plt.xlabel('Epoch')\n",
    "plt.legend(['Train', 'Validation'], loc='upper left')\n",
    "plt.show()\n",
    "\n",
    "# Plot training & validation loss values\n",
    "plt.plot(history.history['loss'])\n",
    "plt.plot(history.history['val_loss'])\n",
    "plt.title('Model loss')\n",
    "plt.ylabel('Loss')\n",
    "plt.xlabel('Epoch')\n",
    "plt.legend(['Train', 'Validation'], loc='upper left')\n",
    "plt.show()"
   ]
  },
  {
   "cell_type": "markdown",
   "metadata": {},
   "source": [
    "## Restore Weights"
   ]
  },
  {
   "cell_type": "code",
   "execution_count": 15,
   "metadata": {},
   "outputs": [
    {
     "data": {
      "text/plain": [
       "<tensorflow.python.training.tracking.util.CheckpointLoadStatus at 0x24b1e306308>"
      ]
     },
     "execution_count": 15,
     "metadata": {},
     "output_type": "execute_result"
    }
   ],
   "source": [
    "checkpoint_dir = './checkpoints/' + model_name\n",
    "model.load_weights(tf.train.latest_checkpoint(checkpoint_dir))"
   ]
  },
  {
   "cell_type": "code",
   "execution_count": 16,
   "metadata": {},
   "outputs": [
    {
     "name": "stdout",
     "output_type": "stream",
     "text": [
      "(6051, 1)\n"
     ]
    }
   ],
   "source": [
    "test_predict = model.predict(test_data.x)\n",
    "print(test_predict.shape)"
   ]
  },
  {
   "cell_type": "markdown",
   "metadata": {},
   "source": [
    "\n",
    "\n",
    "## Save Prediction to CSV"
   ]
  },
  {
   "cell_type": "code",
   "execution_count": 23,
   "metadata": {},
   "outputs": [
    {
     "name": "stdout",
     "output_type": "stream",
     "text": [
      "Saved to result_simple_lstm.csv\n"
     ]
    }
   ],
   "source": [
    "import csv\n",
    "\n",
    "output_file = 'result_' + model_name + '.csv'\n",
    "with open(output_file, 'wt', newline='', encoding='utf-8') as output_file:\n",
    "    csv_writer = csv.writer(output_file)\n",
    "    csv_writer.writerow(('Id', 'Predicted'))\n",
    "    for id, predict in enumerate(test_predict):\n",
    "        csv_writer.writerow((id, predict[0]))\n",
    "print('Saved to '+'result_' + model_name + '.csv')"
   ]
  },
  {
   "cell_type": "code",
   "execution_count": null,
   "metadata": {},
   "outputs": [],
   "source": []
  }
 ],
 "metadata": {
  "file_extension": ".py",
  "kernelspec": {
   "display_name": "Python 3",
   "language": "python",
   "name": "python3"
  },
  "language_info": {
   "codemirror_mode": {
    "name": "ipython",
    "version": 3
   },
   "file_extension": ".py",
   "mimetype": "text/x-python",
   "name": "python",
   "nbconvert_exporter": "python",
   "pygments_lexer": "ipython3",
   "version": "3.7.5"
  },
  "mimetype": "text/x-python",
  "name": "python",
  "npconvert_exporter": "python",
  "pygments_lexer": "ipython3",
  "version": 3
 },
 "nbformat": 4,
 "nbformat_minor": 4
}
